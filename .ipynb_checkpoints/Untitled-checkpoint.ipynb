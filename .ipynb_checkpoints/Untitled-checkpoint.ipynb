{
 "cells": [
  {
   "cell_type": "code",
   "execution_count": 1,
   "id": "b94c46ed-5ce6-42d5-be39-237f51f76f66",
   "metadata": {},
   "outputs": [],
   "source": [
    "L = [1 , 3 , 4.9 , \"name\" , 3]\n",
    "T = (1 , 3, 4.9 , \"name\" )\n",
    "S = {1,3, 4.9 , 3}\n",
    "D = {23 : \"Jordan\", 34 : \"Lebron\"}"
   ]
  },
  {
   "cell_type": "code",
   "execution_count": 3,
   "id": "f6064892-7c52-4ac5-8c94-0c4bb30d4848",
   "metadata": {},
   "outputs": [
    {
     "name": "stdout",
     "output_type": "stream",
     "text": [
      "The type of L is  <class 'list'>\n",
      "The type of T is  <class 'tuple'>\n",
      "The type of S is  <class 'set'>\n",
      "The type of D is  <class 'dict'>\n"
     ]
    }
   ],
   "source": [
    "print(\"The type of L is \" , type(L))\n",
    "print(\"The type of T is \" , type(T))\n",
    "print(\"The type of S is \" , type(S))\n",
    "print(\"The type of D is \" , type(D))"
   ]
  },
  {
   "cell_type": "code",
   "execution_count": 5,
   "id": "5e00bf4c-8394-4260-9d58-560c0c830367",
   "metadata": {},
   "outputs": [
    {
     "name": "stdout",
     "output_type": "stream",
     "text": [
      "3\n",
      "4.9\n",
      "True\n",
      "Jordan\n"
     ]
    }
   ],
   "source": [
    "print(L[1])\n",
    "print(T[2])\n",
    "print(1 in S)\n",
    "print(D[23])"
   ]
  },
  {
   "cell_type": "code",
   "execution_count": 6,
   "id": "3b574925-4635-4145-8ab2-e92fbf5409ec",
   "metadata": {},
   "outputs": [
    {
     "name": "stdout",
     "output_type": "stream",
     "text": [
      "{1, 3, 4.9}\n"
     ]
    }
   ],
   "source": [
    "print(S)"
   ]
  },
  {
   "cell_type": "code",
   "execution_count": 7,
   "id": "f823384b-95b8-4545-ad7d-43af6e40d11a",
   "metadata": {},
   "outputs": [
    {
     "data": {
      "text/plain": [
       "[1, 3, 4.9, 'name', 3]"
      ]
     },
     "execution_count": 7,
     "metadata": {},
     "output_type": "execute_result"
    }
   ],
   "source": [
    "L"
   ]
  },
  {
   "cell_type": "code",
   "execution_count": 8,
   "id": "e051d2f5-f6c6-49e1-8399-204347117814",
   "metadata": {},
   "outputs": [
    {
     "data": {
      "text/plain": [
       "{1, 3, 4.9}"
      ]
     },
     "execution_count": 8,
     "metadata": {},
     "output_type": "execute_result"
    }
   ],
   "source": [
    "S"
   ]
  },
  {
   "cell_type": "code",
   "execution_count": 9,
   "id": "47e09989-78d0-48f4-b172-c9184c02a0a6",
   "metadata": {},
   "outputs": [
    {
     "data": {
      "text/plain": [
       "{23: 'Jordan', 34: 'Lebron'}"
      ]
     },
     "execution_count": 9,
     "metadata": {},
     "output_type": "execute_result"
    }
   ],
   "source": [
    "D"
   ]
  },
  {
   "cell_type": "code",
   "execution_count": 10,
   "id": "c26d0c67-a4a4-46a5-ab5a-c09fd834ce36",
   "metadata": {},
   "outputs": [
    {
     "data": {
      "text/plain": [
       "(1, 3, 4.9, 'name')"
      ]
     },
     "execution_count": 10,
     "metadata": {},
     "output_type": "execute_result"
    }
   ],
   "source": [
    "T"
   ]
  },
  {
   "cell_type": "code",
   "execution_count": 11,
   "id": "faffc706-ecc2-4b41-8f00-d7a9864b52dc",
   "metadata": {},
   "outputs": [
    {
     "data": {
      "text/plain": [
       "[3, 4.9]"
      ]
     },
     "execution_count": 11,
     "metadata": {},
     "output_type": "execute_result"
    }
   ],
   "source": [
    "L[1:3]"
   ]
  },
  {
   "cell_type": "code",
   "execution_count": 12,
   "id": "fa39f3a1-4c10-4d2e-941a-6112fd82c1d1",
   "metadata": {},
   "outputs": [
    {
     "data": {
      "text/plain": [
       "[3, 'name', 4.9, 3, 1]"
      ]
     },
     "execution_count": 12,
     "metadata": {},
     "output_type": "execute_result"
    }
   ],
   "source": [
    "L[::-1]"
   ]
  },
  {
   "cell_type": "code",
   "execution_count": 13,
   "id": "71873489-dac3-4bf9-82f1-cd6f82baa83a",
   "metadata": {},
   "outputs": [
    {
     "data": {
      "text/plain": [
       "(1, 3, 4.9)"
      ]
     },
     "execution_count": 13,
     "metadata": {},
     "output_type": "execute_result"
    }
   ],
   "source": [
    "T[:3]"
   ]
  },
  {
   "cell_type": "code",
   "execution_count": 14,
   "id": "6598c3b2-d578-4e97-add6-c24323f0ba1f",
   "metadata": {},
   "outputs": [
    {
     "data": {
      "text/plain": [
       "[1, 3, 4.9, 'name', 3]"
      ]
     },
     "execution_count": 14,
     "metadata": {},
     "output_type": "execute_result"
    }
   ],
   "source": [
    "L "
   ]
  },
  {
   "cell_type": "code",
   "execution_count": 15,
   "id": "bc6c897d-135e-4642-aeb3-8adda02ccb8a",
   "metadata": {},
   "outputs": [],
   "source": [
    "L = L + [\"how\" , \"are\" , 6 , \"you\"]"
   ]
  },
  {
   "cell_type": "code",
   "execution_count": 16,
   "id": "a221e63b-9e70-478e-a4ed-bcac3639c5a4",
   "metadata": {},
   "outputs": [
    {
     "data": {
      "text/plain": [
       "[1, 3, 4.9, 'name', 3, 'how', 'are', 6, 'you']"
      ]
     },
     "execution_count": 16,
     "metadata": {},
     "output_type": "execute_result"
    }
   ],
   "source": [
    "L"
   ]
  },
  {
   "cell_type": "code",
   "execution_count": 17,
   "id": "e01a231a-d213-43e8-8dc9-76a90ab9452c",
   "metadata": {},
   "outputs": [],
   "source": [
    "L.append(8.9)"
   ]
  },
  {
   "cell_type": "code",
   "execution_count": 18,
   "id": "74bdf94d-77c3-437a-a688-22da9b75b99f",
   "metadata": {},
   "outputs": [
    {
     "data": {
      "text/plain": [
       "[1, 3, 4.9, 'name', 3, 'how', 'are', 6, 'you', 8.9]"
      ]
     },
     "execution_count": 18,
     "metadata": {},
     "output_type": "execute_result"
    }
   ],
   "source": [
    "L"
   ]
  },
  {
   "cell_type": "code",
   "execution_count": 19,
   "id": "c54a77f3-6f29-427f-8b99-3e41912d1384",
   "metadata": {},
   "outputs": [],
   "source": [
    "T2 = ( 'a', 'b' , 45)\n",
    "T3 = T + T2"
   ]
  },
  {
   "cell_type": "code",
   "execution_count": 20,
   "id": "0c9248c2-878d-4896-9003-a60da0694cec",
   "metadata": {},
   "outputs": [
    {
     "data": {
      "text/plain": [
       "(1, 3, 4.9, 'name', 'a', 'b', 45)"
      ]
     },
     "execution_count": 20,
     "metadata": {},
     "output_type": "execute_result"
    }
   ],
   "source": [
    "T3"
   ]
  },
  {
   "cell_type": "code",
   "execution_count": 21,
   "id": "990d5631-347a-4c91-bf24-da73bf5b1b03",
   "metadata": {},
   "outputs": [
    {
     "data": {
      "text/plain": [
       "{1, 3, 4.9}"
      ]
     },
     "execution_count": 21,
     "metadata": {},
     "output_type": "execute_result"
    }
   ],
   "source": [
    "S"
   ]
  },
  {
   "cell_type": "code",
   "execution_count": 22,
   "id": "04d8578e-486c-48e7-aa48-c05b35c2eda5",
   "metadata": {},
   "outputs": [
    {
     "ename": "TypeError",
     "evalue": "'int' object is not iterable",
     "output_type": "error",
     "traceback": [
      "\u001b[31m---------------------------------------------------------------------------\u001b[39m",
      "\u001b[31mTypeError\u001b[39m                                 Traceback (most recent call last)",
      "\u001b[36mCell\u001b[39m\u001b[36m \u001b[39m\u001b[32mIn[22]\u001b[39m\u001b[32m, line 1\u001b[39m\n\u001b[32m----> \u001b[39m\u001b[32m1\u001b[39m \u001b[43mS\u001b[49m\u001b[43m.\u001b[49m\u001b[43mupdate\u001b[49m\u001b[43m(\u001b[49m\u001b[32;43m3\u001b[39;49m\u001b[43m,\u001b[49m\u001b[43m \u001b[49m\u001b[33;43m'\u001b[39;49m\u001b[33;43mgame\u001b[39;49m\u001b[33;43m'\u001b[39;49m\u001b[43m \u001b[49m\u001b[43m,\u001b[49m\u001b[43m \u001b[49m\u001b[33;43m'\u001b[39;49m\u001b[33;43mname\u001b[39;49m\u001b[33;43m'\u001b[39;49m\u001b[43m)\u001b[49m\n",
      "\u001b[31mTypeError\u001b[39m: 'int' object is not iterable"
     ]
    }
   ],
   "source": [
    "S.update(3, 'game' , 'name')"
   ]
  },
  {
   "cell_type": "code",
   "execution_count": 23,
   "id": "7a951518-1b25-49c3-8705-93c303e886a2",
   "metadata": {},
   "outputs": [
    {
     "data": {
      "text/plain": [
       "{1, 3, 4.9}"
      ]
     },
     "execution_count": 23,
     "metadata": {},
     "output_type": "execute_result"
    }
   ],
   "source": [
    "S"
   ]
  },
  {
   "cell_type": "code",
   "execution_count": 24,
   "id": "4d4e0dff-3a49-4cb7-b7a7-c9f66f9a3b29",
   "metadata": {},
   "outputs": [],
   "source": [
    "S.update({23 , 3 , 'game'})"
   ]
  },
  {
   "cell_type": "code",
   "execution_count": 25,
   "id": "79f9568a-54be-45ce-bbb8-34a00171075e",
   "metadata": {},
   "outputs": [
    {
     "data": {
      "text/plain": [
       "{1, 23, 3, 4.9, 'game'}"
      ]
     },
     "execution_count": 25,
     "metadata": {},
     "output_type": "execute_result"
    }
   ],
   "source": [
    "S"
   ]
  },
  {
   "cell_type": "code",
   "execution_count": 26,
   "id": "ee1d521c-170b-4a30-9cdc-9f3556352c8d",
   "metadata": {},
   "outputs": [
    {
     "data": {
      "text/plain": [
       "{23: 'Jordan', 34: 'Lebron'}"
      ]
     },
     "execution_count": 26,
     "metadata": {},
     "output_type": "execute_result"
    }
   ],
   "source": [
    "D"
   ]
  },
  {
   "cell_type": "code",
   "execution_count": 27,
   "id": "e4ef9dcf-a010-4e6e-afd2-2234e2aad387",
   "metadata": {},
   "outputs": [],
   "source": [
    "D['newKey'] = \"newValue\""
   ]
  },
  {
   "cell_type": "code",
   "execution_count": 28,
   "id": "9ec27639-19da-4d52-9cdd-7f9911f8a7b8",
   "metadata": {},
   "outputs": [
    {
     "data": {
      "text/plain": [
       "{23: 'Jordan', 34: 'Lebron', 'newKey': 'newValue'}"
      ]
     },
     "execution_count": 28,
     "metadata": {},
     "output_type": "execute_result"
    }
   ],
   "source": [
    "D"
   ]
  },
  {
   "cell_type": "code",
   "execution_count": null,
   "id": "9eef0070-ac83-4536-9959-545e326d1bcf",
   "metadata": {},
   "outputs": [],
   "source": []
  },
  {
   "cell_type": "code",
   "execution_count": 30,
   "id": "b8af222e-d31e-49a0-b010-b8fb60ba0cf4",
   "metadata": {},
   "outputs": [],
   "source": [
    "D1 = {'X' : 23 , 'Y' : 45}"
   ]
  },
  {
   "cell_type": "code",
   "execution_count": 32,
   "id": "944f5072-c157-44b2-9e1f-da70b4f11241",
   "metadata": {},
   "outputs": [
    {
     "ename": "TypeError",
     "evalue": "unsupported operand type(s) for +: 'dict' and 'dict'",
     "output_type": "error",
     "traceback": [
      "\u001b[31m---------------------------------------------------------------------------\u001b[39m",
      "\u001b[31mTypeError\u001b[39m                                 Traceback (most recent call last)",
      "\u001b[36mCell\u001b[39m\u001b[36m \u001b[39m\u001b[32mIn[32]\u001b[39m\u001b[32m, line 1\u001b[39m\n\u001b[32m----> \u001b[39m\u001b[32m1\u001b[39m D2 = \u001b[43mD\u001b[49m\u001b[43m \u001b[49m\u001b[43m+\u001b[49m\u001b[43m \u001b[49m\u001b[43mD1\u001b[49m\n",
      "\u001b[31mTypeError\u001b[39m: unsupported operand type(s) for +: 'dict' and 'dict'"
     ]
    }
   ],
   "source": [
    "D2 = D + D1"
   ]
  },
  {
   "cell_type": "code",
   "execution_count": 33,
   "id": "f998f349-b57d-4185-ab5f-7f75d62dcd08",
   "metadata": {},
   "outputs": [
    {
     "data": {
      "text/plain": [
       "{1, 23, 3, 4.9, 'game'}"
      ]
     },
     "execution_count": 33,
     "metadata": {},
     "output_type": "execute_result"
    }
   ],
   "source": [
    "S"
   ]
  },
  {
   "cell_type": "code",
   "execution_count": 34,
   "id": "162c42d5-3401-44ce-ab69-bec2a098cc66",
   "metadata": {},
   "outputs": [],
   "source": [
    "S.remove('game')"
   ]
  },
  {
   "cell_type": "code",
   "execution_count": 35,
   "id": "23b2109e-08a0-4a33-bb06-d447141aed36",
   "metadata": {},
   "outputs": [
    {
     "data": {
      "text/plain": [
       "{1, 3, 4.9, 23}"
      ]
     },
     "execution_count": 35,
     "metadata": {},
     "output_type": "execute_result"
    }
   ],
   "source": [
    "S"
   ]
  },
  {
   "cell_type": "code",
   "execution_count": 36,
   "id": "3d127fee-a762-46cf-b34c-7850c10a27ac",
   "metadata": {},
   "outputs": [],
   "source": [
    "D.update(D1)"
   ]
  },
  {
   "cell_type": "code",
   "execution_count": 37,
   "id": "7657b112-4b16-4d51-95f0-27e2d53b5347",
   "metadata": {},
   "outputs": [
    {
     "data": {
      "text/plain": [
       "{23: 'Jordan', 34: 'Lebron', 'newKey': 'newValue', 'X': 23, 'Y': 45}"
      ]
     },
     "execution_count": 37,
     "metadata": {},
     "output_type": "execute_result"
    }
   ],
   "source": [
    "D"
   ]
  },
  {
   "cell_type": "code",
   "execution_count": 38,
   "id": "e5a70cb1-98b8-4f24-8661-80bd65e32e49",
   "metadata": {},
   "outputs": [],
   "source": [
    "L2  = L.copy()"
   ]
  },
  {
   "cell_type": "code",
   "execution_count": 39,
   "id": "f647c82b-0d33-4a51-8092-80f93d393415",
   "metadata": {},
   "outputs": [
    {
     "data": {
      "text/plain": [
       "[1, 3, 4.9, 'name', 3, 'how', 'are', 6, 'you', 8.9]"
      ]
     },
     "execution_count": 39,
     "metadata": {},
     "output_type": "execute_result"
    }
   ],
   "source": [
    "L2"
   ]
  },
  {
   "cell_type": "code",
   "execution_count": 40,
   "id": "1783a4f2-7c1e-4795-8f38-ce5da1980eaa",
   "metadata": {},
   "outputs": [],
   "source": [
    "L2[2] = 4.9"
   ]
  },
  {
   "cell_type": "code",
   "execution_count": 41,
   "id": "e6574cc7-1106-473f-9840-ba6f664deae8",
   "metadata": {},
   "outputs": [
    {
     "data": {
      "text/plain": [
       "[1, 3, 4.9, 'name', 3, 'how', 'are', 6, 'you', 8.9]"
      ]
     },
     "execution_count": 41,
     "metadata": {},
     "output_type": "execute_result"
    }
   ],
   "source": [
    "L2"
   ]
  },
  {
   "cell_type": "code",
   "execution_count": 42,
   "id": "ca53883f-b6e7-4354-8d4c-145897e933c2",
   "metadata": {},
   "outputs": [
    {
     "data": {
      "text/plain": [
       "[1, 3, 4.9, 'name', 3, 'how', 'are', 6, 'you', 8.9]"
      ]
     },
     "execution_count": 42,
     "metadata": {},
     "output_type": "execute_result"
    }
   ],
   "source": [
    "L"
   ]
  },
  {
   "cell_type": "code",
   "execution_count": 43,
   "id": "6c8591cd-1484-4bed-9cc1-9c1b98832373",
   "metadata": {},
   "outputs": [],
   "source": [
    "L2[3] = 45"
   ]
  },
  {
   "cell_type": "code",
   "execution_count": 44,
   "id": "7c740fc0-72ee-4970-90b4-e55690799dc9",
   "metadata": {},
   "outputs": [
    {
     "data": {
      "text/plain": [
       "[1, 3, 4.9, 45, 3, 'how', 'are', 6, 'you', 8.9]"
      ]
     },
     "execution_count": 44,
     "metadata": {},
     "output_type": "execute_result"
    }
   ],
   "source": [
    "L2"
   ]
  },
  {
   "cell_type": "code",
   "execution_count": 45,
   "id": "cd3f7afc-1b7a-4f9a-8f4d-46ef2994a2b9",
   "metadata": {},
   "outputs": [
    {
     "data": {
      "text/plain": [
       "[1, 3, 4.9, 'name', 3, 'how', 'are', 6, 'you', 8.9]"
      ]
     },
     "execution_count": 45,
     "metadata": {},
     "output_type": "execute_result"
    }
   ],
   "source": [
    "L"
   ]
  },
  {
   "cell_type": "code",
   "execution_count": 46,
   "id": "da1f7958-b396-42db-bfae-4642ab518f26",
   "metadata": {},
   "outputs": [],
   "source": [
    "L3 = L[1:5]"
   ]
  },
  {
   "cell_type": "code",
   "execution_count": 47,
   "id": "994adcd1-151e-4d8e-b99a-9ba33b3bb327",
   "metadata": {},
   "outputs": [
    {
     "data": {
      "text/plain": [
       "[3, 4.9, 'name', 3]"
      ]
     },
     "execution_count": 47,
     "metadata": {},
     "output_type": "execute_result"
    }
   ],
   "source": [
    "L3"
   ]
  },
  {
   "cell_type": "code",
   "execution_count": 48,
   "id": "8eac2ab7-610e-45ed-b53f-99ba47995202",
   "metadata": {},
   "outputs": [
    {
     "name": "stdout",
     "output_type": "stream",
     "text": [
      "Help on built-in function append:\n",
      "\n",
      "append(object, /) method of builtins.list instance\n",
      "    Append object to the end of the list.\n",
      "\n"
     ]
    }
   ],
   "source": [
    "help(L.append)"
   ]
  },
  {
   "cell_type": "code",
   "execution_count": 49,
   "id": "de328f35-891a-4f0d-92a5-952b08f8576f",
   "metadata": {},
   "outputs": [
    {
     "data": {
      "text/plain": [
       "\u001b[31mSignature:\u001b[39m L.clear()\n",
       "\u001b[31mDocstring:\u001b[39m Remove all items from list.\n",
       "\u001b[31mType:\u001b[39m      builtin_function_or_method"
      ]
     },
     "metadata": {},
     "output_type": "display_data"
    }
   ],
   "source": [
    "L.clear?"
   ]
  },
  {
   "cell_type": "code",
   "execution_count": 50,
   "id": "0a208f68-f1ec-4a98-a713-b6916d644324",
   "metadata": {},
   "outputs": [
    {
     "data": {
      "text/plain": [
       "\u001b[31mSignature:\u001b[39m L.pop(index=-\u001b[32m1\u001b[39m, /)\n",
       "\u001b[31mDocstring:\u001b[39m\n",
       "Remove and return item at index (default last).\n",
       "\n",
       "Raises IndexError if list is empty or index is out of range.\n",
       "\u001b[31mType:\u001b[39m      builtin_function_or_method"
      ]
     },
     "metadata": {},
     "output_type": "display_data"
    }
   ],
   "source": [
    "L.pop?"
   ]
  },
  {
   "cell_type": "code",
   "execution_count": 51,
   "id": "d7a5eb21-4a61-4da3-b2b0-4bed7d729264",
   "metadata": {},
   "outputs": [
    {
     "data": {
      "text/plain": [
       "\u001b[31mSignature:\u001b[39m D.items()\n",
       "\u001b[31mDocstring:\u001b[39m Return a set-like object providing a view on the dict's items.\n",
       "\u001b[31mType:\u001b[39m      builtin_function_or_method"
      ]
     },
     "metadata": {},
     "output_type": "display_data"
    }
   ],
   "source": [
    "D.items?"
   ]
  },
  {
   "cell_type": "code",
   "execution_count": 52,
   "id": "bb16fccb-69f6-41a7-aff8-6d9e997bf7cb",
   "metadata": {},
   "outputs": [
    {
     "data": {
      "text/plain": [
       "[1, 3, 4.9, 'name', 3, 'how', 'are', 6, 'you', 8.9]"
      ]
     },
     "execution_count": 52,
     "metadata": {},
     "output_type": "execute_result"
    }
   ],
   "source": [
    "L "
   ]
  },
  {
   "cell_type": "code",
   "execution_count": 53,
   "id": "a2152dc8-fbd0-4080-8906-8fcf2c447e7f",
   "metadata": {},
   "outputs": [
    {
     "data": {
      "text/plain": [
       "(1, 3, 4.9, 'name')"
      ]
     },
     "execution_count": 53,
     "metadata": {},
     "output_type": "execute_result"
    }
   ],
   "source": [
    "T"
   ]
  },
  {
   "cell_type": "code",
   "execution_count": 54,
   "id": "c20dbef1-d3bf-46c7-b55a-607be36388ca",
   "metadata": {},
   "outputs": [
    {
     "data": {
      "text/plain": [
       "{1, 3, 4.9, 23}"
      ]
     },
     "execution_count": 54,
     "metadata": {},
     "output_type": "execute_result"
    }
   ],
   "source": [
    "S"
   ]
  },
  {
   "cell_type": "code",
   "execution_count": 55,
   "id": "ddd002c7-995e-4430-9be7-7e615bb28a97",
   "metadata": {},
   "outputs": [
    {
     "ename": "NameError",
     "evalue": "name 'DD' is not defined",
     "output_type": "error",
     "traceback": [
      "\u001b[31m---------------------------------------------------------------------------\u001b[39m",
      "\u001b[31mNameError\u001b[39m                                 Traceback (most recent call last)",
      "\u001b[36mCell\u001b[39m\u001b[36m \u001b[39m\u001b[32mIn[55]\u001b[39m\u001b[32m, line 1\u001b[39m\n\u001b[32m----> \u001b[39m\u001b[32m1\u001b[39m \u001b[43mDD\u001b[49m\n",
      "\u001b[31mNameError\u001b[39m: name 'DD' is not defined"
     ]
    }
   ],
   "source": [
    "DD"
   ]
  },
  {
   "cell_type": "code",
   "execution_count": 56,
   "id": "456d94ba-c082-41c6-890b-99353de1e18b",
   "metadata": {},
   "outputs": [
    {
     "data": {
      "text/plain": [
       "{23: 'Jordan', 34: 'Lebron', 'newKey': 'newValue', 'X': 23, 'Y': 45}"
      ]
     },
     "execution_count": 56,
     "metadata": {},
     "output_type": "execute_result"
    }
   ],
   "source": [
    "D"
   ]
  },
  {
   "cell_type": "code",
   "execution_count": 57,
   "id": "6bbe43dc-e498-49e0-81b3-fe71f3799f19",
   "metadata": {},
   "outputs": [],
   "source": [
    "DD = {\"A\" : L , \"B\": T , \"C\":S , \"D\":D}"
   ]
  },
  {
   "cell_type": "code",
   "execution_count": 58,
   "id": "4973e113-5bbe-4f10-b69b-4f523efdb216",
   "metadata": {},
   "outputs": [
    {
     "data": {
      "text/plain": [
       "{'A': [1, 3, 4.9, 'name', 3, 'how', 'are', 6, 'you', 8.9],\n",
       " 'B': (1, 3, 4.9, 'name'),\n",
       " 'C': {1, 3, 4.9, 23},\n",
       " 'D': {23: 'Jordan', 34: 'Lebron', 'newKey': 'newValue', 'X': 23, 'Y': 45}}"
      ]
     },
     "execution_count": 58,
     "metadata": {},
     "output_type": "execute_result"
    }
   ],
   "source": [
    "DD"
   ]
  },
  {
   "cell_type": "code",
   "execution_count": 59,
   "id": "c7ce8d32-f83c-4f69-9ac0-2e1ece9df0e0",
   "metadata": {},
   "outputs": [
    {
     "data": {
      "text/plain": [
       "[1, 3, 4.9, 'name', 3, 'how', 'are', 6, 'you', 8.9]"
      ]
     },
     "execution_count": 59,
     "metadata": {},
     "output_type": "execute_result"
    }
   ],
   "source": [
    "DD['A']"
   ]
  },
  {
   "cell_type": "code",
   "execution_count": 60,
   "id": "010d94aa-b84d-42c4-9bed-b429776fc66b",
   "metadata": {},
   "outputs": [
    {
     "data": {
      "text/plain": [
       "4.9"
      ]
     },
     "execution_count": 60,
     "metadata": {},
     "output_type": "execute_result"
    }
   ],
   "source": [
    "DD['A'][2]"
   ]
  },
  {
   "cell_type": "code",
   "execution_count": 61,
   "id": "37d7c2fc-542a-48fe-8e80-c774b41b5d2a",
   "metadata": {},
   "outputs": [],
   "source": [
    "K = DD['D']"
   ]
  },
  {
   "cell_type": "code",
   "execution_count": 62,
   "id": "d0cdaf4d-ba66-4c87-8cb9-45ae04bd4240",
   "metadata": {},
   "outputs": [
    {
     "data": {
      "text/plain": [
       "{23: 'Jordan', 34: 'Lebron', 'newKey': 'newValue', 'X': 23, 'Y': 45}"
      ]
     },
     "execution_count": 62,
     "metadata": {},
     "output_type": "execute_result"
    }
   ],
   "source": [
    "K"
   ]
  },
  {
   "cell_type": "code",
   "execution_count": 64,
   "id": "abaf97b4-1825-4ab7-b51a-aff5ebd906b0",
   "metadata": {},
   "outputs": [
    {
     "name": "stdout",
     "output_type": "stream",
     "text": [
      "23 Jordan\n",
      "34 Lebron\n",
      "newKey newValue\n",
      "X 23\n",
      "Y 45\n"
     ]
    }
   ],
   "source": [
    "for x in K :\n",
    "    print(x , K[x])"
   ]
  },
  {
   "cell_type": "code",
   "execution_count": 65,
   "id": "4bc609d9-0ac0-4333-bd76-a4d6a2250296",
   "metadata": {},
   "outputs": [],
   "source": [
    "L4 = [L , T , S , D , 23 , \"name\"]"
   ]
  },
  {
   "cell_type": "code",
   "execution_count": 66,
   "id": "fde94782-3189-4e1d-9aed-e391b7c856c1",
   "metadata": {},
   "outputs": [
    {
     "data": {
      "text/plain": [
       "[[1, 3, 4.9, 'name', 3, 'how', 'are', 6, 'you', 8.9],\n",
       " (1, 3, 4.9, 'name'),\n",
       " {1, 3, 4.9, 23},\n",
       " {23: 'Jordan', 34: 'Lebron', 'newKey': 'newValue', 'X': 23, 'Y': 45},\n",
       " 23,\n",
       " 'name']"
      ]
     },
     "execution_count": 66,
     "metadata": {},
     "output_type": "execute_result"
    }
   ],
   "source": [
    "L4"
   ]
  },
  {
   "cell_type": "code",
   "execution_count": 67,
   "id": "b9cd6131-9a03-4c39-af1f-11b5f46b4035",
   "metadata": {},
   "outputs": [
    {
     "data": {
      "text/plain": [
       "set"
      ]
     },
     "execution_count": 67,
     "metadata": {},
     "output_type": "execute_result"
    }
   ],
   "source": [
    "type(L4[2])"
   ]
  },
  {
   "cell_type": "code",
   "execution_count": 68,
   "id": "0894a310-cfb2-40e8-bd6b-629b95facc91",
   "metadata": {},
   "outputs": [],
   "source": [
    "L5 = [x**2 for x in range(10)]"
   ]
  },
  {
   "cell_type": "code",
   "execution_count": 69,
   "id": "80092c81-b2ca-4965-80c3-f37c8e72684b",
   "metadata": {},
   "outputs": [
    {
     "data": {
      "text/plain": [
       "[0, 1, 4, 9, 16, 25, 36, 49, 64, 81]"
      ]
     },
     "execution_count": 69,
     "metadata": {},
     "output_type": "execute_result"
    }
   ],
   "source": [
    "L5"
   ]
  },
  {
   "cell_type": "code",
   "execution_count": 70,
   "id": "0595bd4c-859d-42d8-8f40-1f11cfd29223",
   "metadata": {},
   "outputs": [],
   "source": [
    "S3 = {x**2 for x in range(2 , 20 , 3)}"
   ]
  },
  {
   "cell_type": "code",
   "execution_count": 71,
   "id": "0c8b0326-6e1c-4261-99e6-7f626d8ba5d0",
   "metadata": {},
   "outputs": [
    {
     "data": {
      "text/plain": [
       "{4, 25, 64, 121, 196, 289}"
      ]
     },
     "execution_count": 71,
     "metadata": {},
     "output_type": "execute_result"
    }
   ],
   "source": [
    "S3"
   ]
  },
  {
   "cell_type": "code",
   "execution_count": 72,
   "id": "9da17e4f-3c1c-4024-9414-f1d704e9fe7c",
   "metadata": {},
   "outputs": [
    {
     "data": {
      "text/plain": [
       "False"
      ]
     },
     "execution_count": 72,
     "metadata": {},
     "output_type": "execute_result"
    }
   ],
   "source": [
    "43 in D"
   ]
  },
  {
   "cell_type": "code",
   "execution_count": 73,
   "id": "4354d24c-54a7-4cf3-95ba-d3168e4e4c7c",
   "metadata": {},
   "outputs": [
    {
     "ename": "SyntaxError",
     "evalue": "invalid syntax (3540573613.py, line 1)",
     "output_type": "error",
     "traceback": [
      "  \u001b[36mCell\u001b[39m\u001b[36m \u001b[39m\u001b[32mIn[73]\u001b[39m\u001b[32m, line 1\u001b[39m\n\u001b[31m    \u001b[39m\u001b[31m\"\"Lets say you are a teacher and you have students records containing id of a student and the marks list subject where different\u001b[39m\n      ^\n\u001b[31mSyntaxError\u001b[39m\u001b[31m:\u001b[39m invalid syntax\n"
     ]
    }
   ],
   "source": [
    "\"\"Lets say you are a teacher and you have students records containing id of a student and the marks list subject where different \n",
    "students have taken different number of subjects all are in hard. You want to enter all the data in computer and want to\n",
    "compute the average marks of student and display \"\""
   ]
  },
  {
   "cell_type": "code",
   "execution_count": 76,
   "id": "000571b1-4a94-47b9-8501-977ac405881b",
   "metadata": {},
   "outputs": [],
   "source": [
    "def getDataFromUser():\n",
    "    D = {}\n",
    "    while True:\n",
    "        studentId = input(\"Enter student ID:  \")\n",
    "        marksList = input(\"Enter the marks by comma separated values:  \")\n",
    "        moreStudents = input(\"Enter 'no' to quit insertion \")\n",
    "        if studentId in D:\n",
    "            print(studentId, \"is already inserted\")\n",
    "        else:\n",
    "            D[studentId] = marksList.split(\",\")\n",
    "        if moreStudents.lower() == 'no':\n",
    "            return D\n",
    "            "
   ]
  },
  {
   "cell_type": "code",
   "execution_count": 75,
   "id": "dee2dfba-284a-4300-b61c-a98ededa2a9e",
   "metadata": {},
   "outputs": [
    {
     "name": "stdin",
     "output_type": "stream",
     "text": [
      "Enter student ID:   123\n",
      "Enter the marks by comma separated values:   23 , 45 , 67\n",
      "Enter 'no' to quit insertion  kahdk\n"
     ]
    },
    {
     "ename": "NameError",
     "evalue": "name 'moreStudent' is not defined",
     "output_type": "error",
     "traceback": [
      "\u001b[31m---------------------------------------------------------------------------\u001b[39m",
      "\u001b[31mNameError\u001b[39m                                 Traceback (most recent call last)",
      "\u001b[36mCell\u001b[39m\u001b[36m \u001b[39m\u001b[32mIn[75]\u001b[39m\u001b[32m, line 1\u001b[39m\n\u001b[32m----> \u001b[39m\u001b[32m1\u001b[39m studentData = \u001b[43mgetDataFromUser\u001b[49m\u001b[43m(\u001b[49m\u001b[43m)\u001b[49m\n",
      "\u001b[36mCell\u001b[39m\u001b[36m \u001b[39m\u001b[32mIn[74]\u001b[39m\u001b[32m, line 11\u001b[39m, in \u001b[36mgetDataFromUser\u001b[39m\u001b[34m()\u001b[39m\n\u001b[32m      9\u001b[39m \u001b[38;5;28;01melse\u001b[39;00m:\n\u001b[32m     10\u001b[39m     D[studentId] = marksList.split(\u001b[33m\"\u001b[39m\u001b[33m,\u001b[39m\u001b[33m\"\u001b[39m)\n\u001b[32m---> \u001b[39m\u001b[32m11\u001b[39m \u001b[38;5;28;01mif\u001b[39;00m \u001b[43mmoreStudent\u001b[49m.lower() == \u001b[33m'\u001b[39m\u001b[33mno\u001b[39m\u001b[33m'\u001b[39m:\n\u001b[32m     12\u001b[39m     \u001b[38;5;28;01mreturn\u001b[39;00m D\n",
      "\u001b[31mNameError\u001b[39m: name 'moreStudent' is not defined"
     ]
    }
   ],
   "source": [
    "studentData = getDataFromUser()"
   ]
  },
  {
   "cell_type": "code",
   "execution_count": null,
   "id": "594ce001-0bb6-4d04-9a14-2c62358a5d05",
   "metadata": {},
   "outputs": [],
   "source": []
  },
  {
   "cell_type": "code",
   "execution_count": 77,
   "id": "decc2b25-a993-4b52-90d9-408b7b17c78b",
   "metadata": {},
   "outputs": [],
   "source": [
    "def getDataFromUser():\n",
    "    D = {}\n",
    "    while True:\n",
    "        studentId = input(\"Enter student ID:  \")\n",
    "        marksList = input(\"Enter the marks by comma separated values:  \")\n",
    "        moreStudents = input(\"Enter 'no' to quit insertion \")\n",
    "        if studentId in D:\n",
    "            print(studentId, \"is already inserted\")\n",
    "        else:\n",
    "            D[studentId] = marksList.split(\",\")\n",
    "        if moreStudents.lower() == 'no':\n",
    "            return D"
   ]
  },
  {
   "cell_type": "code",
   "execution_count": 78,
   "id": "4b04f6a3-7b8e-4a6c-aaed-ffd5157f5d7a",
   "metadata": {},
   "outputs": [
    {
     "name": "stdin",
     "output_type": "stream",
     "text": [
      "Enter student ID:   123\n",
      "Enter the marks by comma separated values:   45,23,67\n",
      "Enter 'no' to quit insertion  no\n"
     ]
    }
   ],
   "source": [
    "studentData = getDataFromUser()"
   ]
  },
  {
   "cell_type": "code",
   "execution_count": 79,
   "id": "4bdc8bd0-799a-466a-8f34-18aaed3ccac7",
   "metadata": {},
   "outputs": [
    {
     "name": "stdin",
     "output_type": "stream",
     "text": [
      "Enter student ID:   456\n",
      "Enter the marks by comma separated values:   34, 87,45\n",
      "Enter 'no' to quit insertion  kjhkl\n",
      "Enter student ID:   124\n",
      "Enter the marks by comma separated values:   87,23,44,55,4\n",
      "Enter 'no' to quit insertion  kjhk\n",
      "Enter student ID:   456\n",
      "Enter the marks by comma separated values:   45 ,45\n",
      "Enter 'no' to quit insertion  jhsl\n"
     ]
    },
    {
     "name": "stdout",
     "output_type": "stream",
     "text": [
      "456 is already inserted\n"
     ]
    },
    {
     "name": "stdin",
     "output_type": "stream",
     "text": [
      "Enter student ID:   23\n",
      "Enter the marks by comma separated values:   45,45\n",
      "Enter 'no' to quit insertion  no\n"
     ]
    }
   ],
   "source": [
    "studentData = getDataFromUser()"
   ]
  },
  {
   "cell_type": "code",
   "execution_count": 80,
   "id": "8f03b213-c21e-4ab6-8935-e5f01747195b",
   "metadata": {},
   "outputs": [
    {
     "data": {
      "text/plain": [
       "{'456': ['34', ' 87', '45'],\n",
       " '124': ['87', '23', '44', '55', '4'],\n",
       " '23': ['45', '45']}"
      ]
     },
     "execution_count": 80,
     "metadata": {},
     "output_type": "execute_result"
    }
   ],
   "source": [
    "studentData"
   ]
  },
  {
   "cell_type": "code",
   "execution_count": 81,
   "id": "c3144432-ea55-48f6-bb7d-c2b0310ca4c9",
   "metadata": {},
   "outputs": [],
   "source": [
    "def getAvgMarks(D):\n",
    "    avgMarks = {}\n",
    "    for x in D :\n",
    "        L = D[x]\n",
    "        sum = 0 \n",
    "        for marks in L :\n",
    "            sum += int(marks)\n",
    "        avgMarks[x] = sum / len(L)\n",
    "            \n",
    "            \n",
    "        "
   ]
  },
  {
   "cell_type": "code",
   "execution_count": 82,
   "id": "ae9d9db2-ae31-43aa-ad84-33aec09be434",
   "metadata": {},
   "outputs": [
    {
     "ename": "NameError",
     "evalue": "name 's' is not defined",
     "output_type": "error",
     "traceback": [
      "\u001b[31m---------------------------------------------------------------------------\u001b[39m",
      "\u001b[31mNameError\u001b[39m                                 Traceback (most recent call last)",
      "\u001b[36mCell\u001b[39m\u001b[36m \u001b[39m\u001b[32mIn[82]\u001b[39m\u001b[32m, line 1\u001b[39m\n\u001b[32m----> \u001b[39m\u001b[32m1\u001b[39m avgMarks = \u001b[43mgetAvgMarks\u001b[49m\u001b[43m(\u001b[49m\u001b[43mstudentData\u001b[49m\u001b[43m)\u001b[49m\n",
      "\u001b[36mCell\u001b[39m\u001b[36m \u001b[39m\u001b[32mIn[81]\u001b[39m\u001b[32m, line 8\u001b[39m, in \u001b[36mgetAvgMarks\u001b[39m\u001b[34m(D)\u001b[39m\n\u001b[32m      6\u001b[39m \u001b[38;5;28;01mfor\u001b[39;00m marks \u001b[38;5;129;01min\u001b[39;00m L :\n\u001b[32m      7\u001b[39m     \u001b[38;5;28msum\u001b[39m += \u001b[38;5;28mint\u001b[39m(marks)\n\u001b[32m----> \u001b[39m\u001b[32m8\u001b[39m avgMarks[x] = \u001b[43ms\u001b[49m / \u001b[38;5;28mlen\u001b[39m(L)\n",
      "\u001b[31mNameError\u001b[39m: name 's' is not defined"
     ]
    }
   ],
   "source": [
    "avgMarks = getAvgMarks(studentData)"
   ]
  },
  {
   "cell_type": "code",
   "execution_count": 83,
   "id": "dbfb4969-fdc5-46d0-bfef-37c88b8d5673",
   "metadata": {},
   "outputs": [
    {
     "ename": "NameError",
     "evalue": "name 's' is not defined",
     "output_type": "error",
     "traceback": [
      "\u001b[31m---------------------------------------------------------------------------\u001b[39m",
      "\u001b[31mNameError\u001b[39m                                 Traceback (most recent call last)",
      "\u001b[36mCell\u001b[39m\u001b[36m \u001b[39m\u001b[32mIn[83]\u001b[39m\u001b[32m, line 1\u001b[39m\n\u001b[32m----> \u001b[39m\u001b[32m1\u001b[39m avgMarks = \u001b[43mgetAvgMarks\u001b[49m\u001b[43m(\u001b[49m\u001b[43mstudentData\u001b[49m\u001b[43m)\u001b[49m\n",
      "\u001b[36mCell\u001b[39m\u001b[36m \u001b[39m\u001b[32mIn[81]\u001b[39m\u001b[32m, line 8\u001b[39m, in \u001b[36mgetAvgMarks\u001b[39m\u001b[34m(D)\u001b[39m\n\u001b[32m      6\u001b[39m \u001b[38;5;28;01mfor\u001b[39;00m marks \u001b[38;5;129;01min\u001b[39;00m L :\n\u001b[32m      7\u001b[39m     \u001b[38;5;28msum\u001b[39m += \u001b[38;5;28mint\u001b[39m(marks)\n\u001b[32m----> \u001b[39m\u001b[32m8\u001b[39m avgMarks[x] = \u001b[43ms\u001b[49m / \u001b[38;5;28mlen\u001b[39m(L)\n",
      "\u001b[31mNameError\u001b[39m: name 's' is not defined"
     ]
    }
   ],
   "source": [
    "avgMarks = getAvgMarks(studentData)"
   ]
  },
  {
   "cell_type": "code",
   "execution_count": 88,
   "id": "9f7e505f-e146-494e-bd6d-5a4098b44658",
   "metadata": {},
   "outputs": [],
   "source": [
    "def getAvgMarks(D):\n",
    "    avgMarks = {}\n",
    "    for x in D :\n",
    "        L = D[x]\n",
    "        sum = 0 \n",
    "        for marks in L :\n",
    "            sum += int(marks)\n",
    "        avgMarks[x] = sum / len(L)\n",
    "    return avgMarks\n",
    "            "
   ]
  },
  {
   "cell_type": "code",
   "execution_count": 89,
   "id": "ed2703a9-f367-47dd-96f1-f9b6d5edb1db",
   "metadata": {},
   "outputs": [],
   "source": [
    "avgMarks = getAvgMarks(studentData)"
   ]
  },
  {
   "cell_type": "code",
   "execution_count": 95,
   "id": "f35db95e-9aab-43ba-9207-47c7fde98ce0",
   "metadata": {},
   "outputs": [
    {
     "name": "stdout",
     "output_type": "stream",
     "text": [
      "Student :  456 got avg marks as:  55.333333333333336\n",
      "Student :  124 got avg marks as:  42.6\n",
      "Student :  23 got avg marks as:  45.0\n"
     ]
    }
   ],
   "source": [
    "for x in avgMarks:\n",
    "    print('Student : ', x, 'got avg marks as: ', avgMarks[x])"
   ]
  },
  {
   "cell_type": "code",
   "execution_count": 96,
   "id": "71587916-bcb1-4f41-9e7f-b6b7d6dd5c7c",
   "metadata": {},
   "outputs": [
    {
     "name": "stdout",
     "output_type": "stream",
     "text": [
      "{'456': 55.333333333333336, '124': 42.6, '23': 45.0}\n"
     ]
    }
   ],
   "source": [
    "print(avgMarks)"
   ]
  },
  {
   "cell_type": "code",
   "execution_count": 97,
   "id": "53ff7a7a-cfa2-4839-8a2c-364e060c746d",
   "metadata": {},
   "outputs": [
    {
     "ename": "ModuleNotFoundError",
     "evalue": "No module named 'numpy'",
     "output_type": "error",
     "traceback": [
      "\u001b[31m---------------------------------------------------------------------------\u001b[39m",
      "\u001b[31mModuleNotFoundError\u001b[39m                       Traceback (most recent call last)",
      "\u001b[36mCell\u001b[39m\u001b[36m \u001b[39m\u001b[32mIn[97]\u001b[39m\u001b[32m, line 1\u001b[39m\n\u001b[32m----> \u001b[39m\u001b[32m1\u001b[39m \u001b[38;5;28;01mimport\u001b[39;00m\u001b[38;5;250m \u001b[39m\u001b[34;01mnumpy\u001b[39;00m\u001b[38;5;250m \u001b[39m\u001b[38;5;28;01mas\u001b[39;00m\u001b[38;5;250m \u001b[39m\u001b[34;01mnp\u001b[39;00m\n",
      "\u001b[31mModuleNotFoundError\u001b[39m: No module named 'numpy'"
     ]
    }
   ],
   "source": [
    "import numpy as np"
   ]
  },
  {
   "cell_type": "code",
   "execution_count": 98,
   "id": "489b08c5-d948-4562-9c8f-11c080a96f36",
   "metadata": {},
   "outputs": [
    {
     "ename": "ModuleNotFoundError",
     "evalue": "No module named 'numpy'",
     "output_type": "error",
     "traceback": [
      "\u001b[31m---------------------------------------------------------------------------\u001b[39m",
      "\u001b[31mModuleNotFoundError\u001b[39m                       Traceback (most recent call last)",
      "\u001b[36mCell\u001b[39m\u001b[36m \u001b[39m\u001b[32mIn[98]\u001b[39m\u001b[32m, line 1\u001b[39m\n\u001b[32m----> \u001b[39m\u001b[32m1\u001b[39m \u001b[38;5;28;01mimport\u001b[39;00m\u001b[38;5;250m \u001b[39m\u001b[34;01mnumpy\u001b[39;00m\u001b[38;5;250m \u001b[39m\u001b[38;5;28;01mas\u001b[39;00m\u001b[38;5;250m \u001b[39m\u001b[34;01mnp\u001b[39;00m\n",
      "\u001b[31mModuleNotFoundError\u001b[39m: No module named 'numpy'"
     ]
    }
   ],
   "source": [
    "import numpy as np"
   ]
  },
  {
   "cell_type": "code",
   "execution_count": 99,
   "id": "f9264265-f36d-483d-9cc1-3617704db547",
   "metadata": {},
   "outputs": [
    {
     "name": "stdout",
     "output_type": "stream",
     "text": [
      "Collecting numpy\n",
      "  Downloading numpy-2.3.3-cp313-cp313-win_amd64.whl.metadata (60 kB)\n",
      "Downloading numpy-2.3.3-cp313-cp313-win_amd64.whl (12.8 MB)\n",
      "   ---------------------------------------- 0.0/12.8 MB ? eta -:--:--\n",
      "   ---------------------------------------- 0.0/12.8 MB ? eta -:--:--\n",
      "   ---------------------------------------- 0.0/12.8 MB ? eta -:--:--\n",
      "   ---------------------------------------- 0.0/12.8 MB ? eta -:--:--\n",
      "    --------------------------------------- 0.3/12.8 MB ? eta -:--:--\n",
      "    --------------------------------------- 0.3/12.8 MB ? eta -:--:--\n",
      "    --------------------------------------- 0.3/12.8 MB ? eta -:--:--\n",
      "    --------------------------------------- 0.3/12.8 MB ? eta -:--:--\n",
      "   - -------------------------------------- 0.5/12.8 MB 359.3 kB/s eta 0:00:35\n",
      "   - -------------------------------------- 0.5/12.8 MB 359.3 kB/s eta 0:00:35\n",
      "   -- ------------------------------------- 0.8/12.8 MB 419.0 kB/s eta 0:00:29\n",
      "   -- ------------------------------------- 0.8/12.8 MB 419.0 kB/s eta 0:00:29\n",
      "   -- ------------------------------------- 0.8/12.8 MB 419.0 kB/s eta 0:00:29\n",
      "   -- ------------------------------------- 0.8/12.8 MB 419.0 kB/s eta 0:00:29\n",
      "   -- ------------------------------------- 0.8/12.8 MB 419.0 kB/s eta 0:00:29\n",
      "   --- ------------------------------------ 1.0/12.8 MB 353.0 kB/s eta 0:00:34\n",
      "   --- ------------------------------------ 1.0/12.8 MB 353.0 kB/s eta 0:00:34\n",
      "   --- ------------------------------------ 1.0/12.8 MB 353.0 kB/s eta 0:00:34\n",
      "   --- ------------------------------------ 1.0/12.8 MB 353.0 kB/s eta 0:00:34\n",
      "   --- ------------------------------------ 1.0/12.8 MB 353.0 kB/s eta 0:00:34\n",
      "   ---- ----------------------------------- 1.3/12.8 MB 316.8 kB/s eta 0:00:37\n",
      "   ---- ----------------------------------- 1.3/12.8 MB 316.8 kB/s eta 0:00:37\n",
      "   ---- ----------------------------------- 1.6/12.8 MB 359.2 kB/s eta 0:00:32\n",
      "   ---- ----------------------------------- 1.6/12.8 MB 359.2 kB/s eta 0:00:32\n",
      "   ----- ---------------------------------- 1.8/12.8 MB 373.0 kB/s eta 0:00:30\n",
      "   ----- ---------------------------------- 1.8/12.8 MB 373.0 kB/s eta 0:00:30\n",
      "   ----- ---------------------------------- 1.8/12.8 MB 373.0 kB/s eta 0:00:30\n",
      "   ----- ---------------------------------- 1.8/12.8 MB 373.0 kB/s eta 0:00:30\n",
      "   ----- ---------------------------------- 1.8/12.8 MB 373.0 kB/s eta 0:00:30\n",
      "   ----- ---------------------------------- 1.8/12.8 MB 373.0 kB/s eta 0:00:30\n",
      "   ----- ---------------------------------- 1.8/12.8 MB 373.0 kB/s eta 0:00:30\n",
      "   ------ --------------------------------- 2.1/12.8 MB 330.7 kB/s eta 0:00:33\n",
      "   ------ --------------------------------- 2.1/12.8 MB 330.7 kB/s eta 0:00:33\n",
      "   ------ --------------------------------- 2.1/12.8 MB 330.7 kB/s eta 0:00:33\n",
      "   ------ --------------------------------- 2.1/12.8 MB 330.7 kB/s eta 0:00:33\n",
      "   ------ --------------------------------- 2.1/12.8 MB 330.7 kB/s eta 0:00:33\n",
      "   ------ --------------------------------- 2.1/12.8 MB 330.7 kB/s eta 0:00:33\n",
      "   ------ --------------------------------- 2.1/12.8 MB 330.7 kB/s eta 0:00:33\n",
      "   ------ --------------------------------- 2.1/12.8 MB 330.7 kB/s eta 0:00:33\n",
      "   ------ --------------------------------- 2.1/12.8 MB 330.7 kB/s eta 0:00:33\n",
      "   ------ --------------------------------- 2.1/12.8 MB 330.7 kB/s eta 0:00:33\n",
      "   ------ --------------------------------- 2.1/12.8 MB 330.7 kB/s eta 0:00:33\n",
      "   ------ --------------------------------- 2.1/12.8 MB 330.7 kB/s eta 0:00:33\n",
      "   ------ --------------------------------- 2.1/12.8 MB 330.7 kB/s eta 0:00:33\n",
      "   ------ --------------------------------- 2.1/12.8 MB 330.7 kB/s eta 0:00:33\n",
      "   ------ --------------------------------- 2.1/12.8 MB 330.7 kB/s eta 0:00:33\n",
      "   ------ --------------------------------- 2.1/12.8 MB 330.7 kB/s eta 0:00:33\n",
      "   ------ --------------------------------- 2.1/12.8 MB 330.7 kB/s eta 0:00:33\n",
      "   ------ --------------------------------- 2.1/12.8 MB 330.7 kB/s eta 0:00:33\n",
      "   ------ --------------------------------- 2.1/12.8 MB 330.7 kB/s eta 0:00:33\n",
      "   ------ --------------------------------- 2.1/12.8 MB 330.7 kB/s eta 0:00:33\n",
      "   ------ --------------------------------- 2.1/12.8 MB 330.7 kB/s eta 0:00:33\n",
      "   ------ --------------------------------- 2.1/12.8 MB 330.7 kB/s eta 0:00:33\n",
      "   ------ --------------------------------- 2.1/12.8 MB 330.7 kB/s eta 0:00:33\n",
      "   ------ --------------------------------- 2.1/12.8 MB 330.7 kB/s eta 0:00:33\n",
      "   ------ --------------------------------- 2.1/12.8 MB 330.7 kB/s eta 0:00:33\n",
      "   ------ --------------------------------- 2.1/12.8 MB 330.7 kB/s eta 0:00:33\n",
      "   ------ --------------------------------- 2.1/12.8 MB 330.7 kB/s eta 0:00:33\n",
      "   ------ --------------------------------- 2.1/12.8 MB 330.7 kB/s eta 0:00:33\n",
      "   ------ --------------------------------- 2.1/12.8 MB 330.7 kB/s eta 0:00:33\n",
      "   ------ --------------------------------- 2.1/12.8 MB 330.7 kB/s eta 0:00:33\n",
      "   ------ --------------------------------- 2.1/12.8 MB 330.7 kB/s eta 0:00:33\n",
      "   ------ --------------------------------- 2.1/12.8 MB 330.7 kB/s eta 0:00:33\n",
      "   ------- -------------------------------- 2.4/12.8 MB 171.6 kB/s eta 0:01:01\n",
      "   ------- -------------------------------- 2.4/12.8 MB 171.6 kB/s eta 0:01:01\n",
      "   ------- -------------------------------- 2.4/12.8 MB 171.6 kB/s eta 0:01:01\n",
      "   ------- -------------------------------- 2.4/12.8 MB 171.6 kB/s eta 0:01:01\n",
      "   -------- ------------------------------- 2.6/12.8 MB 178.6 kB/s eta 0:00:57\n",
      "   -------- ------------------------------- 2.6/12.8 MB 178.6 kB/s eta 0:00:57\n",
      "   -------- ------------------------------- 2.6/12.8 MB 178.6 kB/s eta 0:00:57\n",
      "   -------- ------------------------------- 2.6/12.8 MB 178.6 kB/s eta 0:00:57\n",
      "   -------- ------------------------------- 2.6/12.8 MB 178.6 kB/s eta 0:00:57\n",
      "   -------- ------------------------------- 2.6/12.8 MB 178.6 kB/s eta 0:00:57\n",
      "   -------- ------------------------------- 2.6/12.8 MB 178.6 kB/s eta 0:00:57\n",
      "   -------- ------------------------------- 2.6/12.8 MB 178.6 kB/s eta 0:00:57\n",
      "   -------- ------------------------------- 2.6/12.8 MB 178.6 kB/s eta 0:00:57\n",
      "   -------- ------------------------------- 2.6/12.8 MB 178.6 kB/s eta 0:00:57\n",
      "   -------- ------------------------------- 2.6/12.8 MB 178.6 kB/s eta 0:00:57\n",
      "   -------- ------------------------------- 2.6/12.8 MB 178.6 kB/s eta 0:00:57\n",
      "   -------- ------------------------------- 2.6/12.8 MB 178.6 kB/s eta 0:00:57\n",
      "   -------- ------------------------------- 2.6/12.8 MB 178.6 kB/s eta 0:00:57\n",
      "   -------- ------------------------------- 2.6/12.8 MB 178.6 kB/s eta 0:00:57\n",
      "   -------- ------------------------------- 2.6/12.8 MB 178.6 kB/s eta 0:00:57\n",
      "   -------- ------------------------------- 2.6/12.8 MB 178.6 kB/s eta 0:00:57\n",
      "   --------- ------------------------------ 2.9/12.8 MB 157.0 kB/s eta 0:01:04\n",
      "   --------- ------------------------------ 2.9/12.8 MB 157.0 kB/s eta 0:01:04\n",
      "   --------- ------------------------------ 2.9/12.8 MB 157.0 kB/s eta 0:01:04\n",
      "   --------- ------------------------------ 2.9/12.8 MB 157.0 kB/s eta 0:01:04\n",
      "   --------- ------------------------------ 2.9/12.8 MB 157.0 kB/s eta 0:01:04\n",
      "   --------- ------------------------------ 2.9/12.8 MB 157.0 kB/s eta 0:01:04\n",
      "   --------- ------------------------------ 2.9/12.8 MB 157.0 kB/s eta 0:01:04\n",
      "   --------- ------------------------------ 2.9/12.8 MB 157.0 kB/s eta 0:01:04\n",
      "   --------- ------------------------------ 2.9/12.8 MB 157.0 kB/s eta 0:01:04\n",
      "   --------- ------------------------------ 2.9/12.8 MB 157.0 kB/s eta 0:01:04\n",
      "   --------- ------------------------------ 2.9/12.8 MB 157.0 kB/s eta 0:01:04\n",
      "   --------- ------------------------------ 2.9/12.8 MB 157.0 kB/s eta 0:01:04\n",
      "   --------- ------------------------------ 3.1/12.8 MB 150.2 kB/s eta 0:01:05\n",
      "   --------- ------------------------------ 3.1/12.8 MB 150.2 kB/s eta 0:01:05\n",
      "   --------- ------------------------------ 3.1/12.8 MB 150.2 kB/s eta 0:01:05\n",
      "   --------- ------------------------------ 3.1/12.8 MB 150.2 kB/s eta 0:01:05\n",
      "   --------- ------------------------------ 3.1/12.8 MB 150.2 kB/s eta 0:01:05\n",
      "   ---------- ----------------------------- 3.4/12.8 MB 154.7 kB/s eta 0:01:01\n",
      "   ---------- ----------------------------- 3.4/12.8 MB 154.7 kB/s eta 0:01:01\n",
      "   ---------- ----------------------------- 3.4/12.8 MB 154.7 kB/s eta 0:01:01\n",
      "   ---------- ----------------------------- 3.4/12.8 MB 154.7 kB/s eta 0:01:01\n",
      "   ---------- ----------------------------- 3.4/12.8 MB 154.7 kB/s eta 0:01:01\n",
      "   ---------- ----------------------------- 3.4/12.8 MB 154.7 kB/s eta 0:01:01\n",
      "   ---------- ----------------------------- 3.4/12.8 MB 154.7 kB/s eta 0:01:01\n",
      "   ----------- ---------------------------- 3.7/12.8 MB 157.0 kB/s eta 0:00:59\n",
      "   ----------- ---------------------------- 3.7/12.8 MB 157.0 kB/s eta 0:00:59\n",
      "   ----------- ---------------------------- 3.7/12.8 MB 157.0 kB/s eta 0:00:59\n",
      "   ----------- ---------------------------- 3.7/12.8 MB 157.0 kB/s eta 0:00:59\n",
      "   ----------- ---------------------------- 3.7/12.8 MB 157.0 kB/s eta 0:00:59\n",
      "   ----------- ---------------------------- 3.7/12.8 MB 157.0 kB/s eta 0:00:59\n",
      "   ----------- ---------------------------- 3.7/12.8 MB 157.0 kB/s eta 0:00:59\n",
      "   ----------- ---------------------------- 3.7/12.8 MB 157.0 kB/s eta 0:00:59\n",
      "   ----------- ---------------------------- 3.7/12.8 MB 157.0 kB/s eta 0:00:59\n",
      "   ----------- ---------------------------- 3.7/12.8 MB 157.0 kB/s eta 0:00:59\n",
      "   ----------- ---------------------------- 3.7/12.8 MB 157.0 kB/s eta 0:00:59\n",
      "   ----------- ---------------------------- 3.7/12.8 MB 157.0 kB/s eta 0:00:59\n",
      "   ----------- ---------------------------- 3.7/12.8 MB 157.0 kB/s eta 0:00:59\n",
      "   ----------- ---------------------------- 3.7/12.8 MB 157.0 kB/s eta 0:00:59\n",
      "   ----------- ---------------------------- 3.7/12.8 MB 157.0 kB/s eta 0:00:59\n",
      "   ----------- ---------------------------- 3.7/12.8 MB 157.0 kB/s eta 0:00:59\n",
      "   ----------- ---------------------------- 3.7/12.8 MB 157.0 kB/s eta 0:00:59\n",
      "   ----------- ---------------------------- 3.7/12.8 MB 157.0 kB/s eta 0:00:59\n",
      "   ------------ --------------------------- 3.9/12.8 MB 143.3 kB/s eta 0:01:02\n",
      "   ------------ --------------------------- 3.9/12.8 MB 143.3 kB/s eta 0:01:02\n",
      "   ------------ --------------------------- 3.9/12.8 MB 143.3 kB/s eta 0:01:02\n",
      "   ------------- -------------------------- 4.2/12.8 MB 150.2 kB/s eta 0:00:58\n",
      "   ------------- -------------------------- 4.2/12.8 MB 150.2 kB/s eta 0:00:58\n",
      "   ------------- -------------------------- 4.2/12.8 MB 150.2 kB/s eta 0:00:58\n",
      "   ------------- -------------------------- 4.2/12.8 MB 150.2 kB/s eta 0:00:58\n",
      "   ------------- -------------------------- 4.5/12.8 MB 155.3 kB/s eta 0:00:54\n",
      "   ------------- -------------------------- 4.5/12.8 MB 155.3 kB/s eta 0:00:54\n",
      "   ------------- -------------------------- 4.5/12.8 MB 155.3 kB/s eta 0:00:54\n",
      "   ------------- -------------------------- 4.5/12.8 MB 155.3 kB/s eta 0:00:54\n",
      "   ------------- -------------------------- 4.5/12.8 MB 155.3 kB/s eta 0:00:54\n",
      "   ------------- -------------------------- 4.5/12.8 MB 155.3 kB/s eta 0:00:54\n",
      "   ------------- -------------------------- 4.5/12.8 MB 155.3 kB/s eta 0:00:54\n",
      "   ------------- -------------------------- 4.5/12.8 MB 155.3 kB/s eta 0:00:54\n",
      "   ------------- -------------------------- 4.5/12.8 MB 155.3 kB/s eta 0:00:54\n",
      "   ------------- -------------------------- 4.5/12.8 MB 155.3 kB/s eta 0:00:54\n",
      "   ------------- -------------------------- 4.5/12.8 MB 155.3 kB/s eta 0:00:54\n",
      "   ------------- -------------------------- 4.5/12.8 MB 155.3 kB/s eta 0:00:54\n",
      "   ------------- -------------------------- 4.5/12.8 MB 155.3 kB/s eta 0:00:54\n",
      "   ------------- -------------------------- 4.5/12.8 MB 155.3 kB/s eta 0:00:54\n",
      "   ------------- -------------------------- 4.5/12.8 MB 155.3 kB/s eta 0:00:54\n",
      "   ------------- -------------------------- 4.5/12.8 MB 155.3 kB/s eta 0:00:54\n",
      "   ------------- -------------------------- 4.5/12.8 MB 155.3 kB/s eta 0:00:54\n",
      "   ------------- -------------------------- 4.5/12.8 MB 155.3 kB/s eta 0:00:54\n",
      "   ------------- -------------------------- 4.5/12.8 MB 155.3 kB/s eta 0:00:54\n",
      "   ------------- -------------------------- 4.5/12.8 MB 155.3 kB/s eta 0:00:54\n",
      "   ------------- -------------------------- 4.5/12.8 MB 155.3 kB/s eta 0:00:54\n",
      "   ------------- -------------------------- 4.5/12.8 MB 155.3 kB/s eta 0:00:54\n",
      "   ------------- -------------------------- 4.5/12.8 MB 155.3 kB/s eta 0:00:54\n",
      "   ------------- -------------------------- 4.5/12.8 MB 155.3 kB/s eta 0:00:54\n",
      "   -------------- ------------------------- 4.7/12.8 MB 123.3 kB/s eta 0:01:06\n",
      "   -------------- ------------------------- 4.7/12.8 MB 123.3 kB/s eta 0:01:06\n",
      "   -------------- ------------------------- 4.7/12.8 MB 123.3 kB/s eta 0:01:06\n",
      "   -------------- ------------------------- 4.7/12.8 MB 123.3 kB/s eta 0:01:06\n",
      "   -------------- ------------------------- 4.7/12.8 MB 123.3 kB/s eta 0:01:06\n",
      "   -------------- ------------------------- 4.7/12.8 MB 123.3 kB/s eta 0:01:06\n",
      "   -------------- ------------------------- 4.7/12.8 MB 123.3 kB/s eta 0:01:06\n",
      "   --------------- ------------------------ 5.0/12.8 MB 114.2 kB/s eta 0:01:09\n",
      "   --------------- ------------------------ 5.0/12.8 MB 114.2 kB/s eta 0:01:09\n",
      "   --------------- ------------------------ 5.0/12.8 MB 114.2 kB/s eta 0:01:09\n",
      "   ---------------- ----------------------- 5.2/12.8 MB 114.1 kB/s eta 0:01:07\n",
      "   ---------------- ----------------------- 5.2/12.8 MB 114.1 kB/s eta 0:01:07\n",
      "   ---------------- ----------------------- 5.2/12.8 MB 114.1 kB/s eta 0:01:07\n",
      "   ---------------- ----------------------- 5.2/12.8 MB 114.1 kB/s eta 0:01:07\n",
      "   ----------------- ---------------------- 5.5/12.8 MB 115.9 kB/s eta 0:01:03\n",
      "   ----------------- ---------------------- 5.5/12.8 MB 115.9 kB/s eta 0:01:03\n",
      "   ----------------- ---------------------- 5.5/12.8 MB 115.9 kB/s eta 0:01:03\n",
      "   ----------------- ---------------------- 5.5/12.8 MB 115.9 kB/s eta 0:01:03\n",
      "   ------------------ --------------------- 5.8/12.8 MB 143.8 kB/s eta 0:00:49\n",
      "   ------------------ --------------------- 5.8/12.8 MB 143.8 kB/s eta 0:00:49\n",
      "   ------------------ --------------------- 6.0/12.8 MB 152.7 kB/s eta 0:00:45\n",
      "   ------------------ --------------------- 6.0/12.8 MB 152.7 kB/s eta 0:00:45\n",
      "   ------------------ --------------------- 6.0/12.8 MB 152.7 kB/s eta 0:00:45\n",
      "   ------------------ --------------------- 6.0/12.8 MB 152.7 kB/s eta 0:00:45\n",
      "   ------------------ --------------------- 6.0/12.8 MB 152.7 kB/s eta 0:00:45\n",
      "   ------------------- -------------------- 6.3/12.8 MB 157.0 kB/s eta 0:00:42\n",
      "   ------------------- -------------------- 6.3/12.8 MB 157.0 kB/s eta 0:00:42\n",
      "   ------------------- -------------------- 6.3/12.8 MB 157.0 kB/s eta 0:00:42\n",
      "   ------------------- -------------------- 6.3/12.8 MB 157.0 kB/s eta 0:00:42\n",
      "   ------------------- -------------------- 6.3/12.8 MB 157.0 kB/s eta 0:00:42\n",
      "   ------------------- -------------------- 6.3/12.8 MB 157.0 kB/s eta 0:00:42\n",
      "   ------------------- -------------------- 6.3/12.8 MB 157.0 kB/s eta 0:00:42\n",
      "   ------------------- -------------------- 6.3/12.8 MB 157.0 kB/s eta 0:00:42\n",
      "   ------------------- -------------------- 6.3/12.8 MB 157.0 kB/s eta 0:00:42\n",
      "   ------------------- -------------------- 6.3/12.8 MB 157.0 kB/s eta 0:00:42\n",
      "   ------------------- -------------------- 6.3/12.8 MB 157.0 kB/s eta 0:00:42\n",
      "   ------------------- -------------------- 6.3/12.8 MB 157.0 kB/s eta 0:00:42\n",
      "   ------------------- -------------------- 6.3/12.8 MB 157.0 kB/s eta 0:00:42\n",
      "   ------------------- -------------------- 6.3/12.8 MB 157.0 kB/s eta 0:00:42\n",
      "   ------------------- -------------------- 6.3/12.8 MB 157.0 kB/s eta 0:00:42\n",
      "   ------------------- -------------------- 6.3/12.8 MB 157.0 kB/s eta 0:00:42\n",
      "   ------------------- -------------------- 6.3/12.8 MB 157.0 kB/s eta 0:00:42\n",
      "   ------------------- -------------------- 6.3/12.8 MB 157.0 kB/s eta 0:00:42\n",
      "   ------------------- -------------------- 6.3/12.8 MB 157.0 kB/s eta 0:00:42\n",
      "   ------------------- -------------------- 6.3/12.8 MB 157.0 kB/s eta 0:00:42\n",
      "   ------------------- -------------------- 6.3/12.8 MB 157.0 kB/s eta 0:00:42\n",
      "   ------------------- -------------------- 6.3/12.8 MB 157.0 kB/s eta 0:00:42\n",
      "   ------------------- -------------------- 6.3/12.8 MB 157.0 kB/s eta 0:00:42\n",
      "   ------------------- -------------------- 6.3/12.8 MB 157.0 kB/s eta 0:00:42\n",
      "   ------------------- -------------------- 6.3/12.8 MB 157.0 kB/s eta 0:00:42\n",
      "   ------------------- -------------------- 6.3/12.8 MB 157.0 kB/s eta 0:00:42\n",
      "   ------------------- -------------------- 6.3/12.8 MB 157.0 kB/s eta 0:00:42\n",
      "   ------------------- -------------------- 6.3/12.8 MB 157.0 kB/s eta 0:00:42\n",
      "   ------------------- -------------------- 6.3/12.8 MB 157.0 kB/s eta 0:00:42\n",
      "   ------------------- -------------------- 6.3/12.8 MB 157.0 kB/s eta 0:00:42\n",
      "   ------------------- -------------------- 6.3/12.8 MB 157.0 kB/s eta 0:00:42\n",
      "   ------------------- -------------------- 6.3/12.8 MB 157.0 kB/s eta 0:00:42\n",
      "   ------------------- -------------------- 6.3/12.8 MB 157.0 kB/s eta 0:00:42\n",
      "   ------------------- -------------------- 6.3/12.8 MB 157.0 kB/s eta 0:00:42\n",
      "   ------------------- -------------------- 6.3/12.8 MB 157.0 kB/s eta 0:00:42\n",
      "   ------------------- -------------------- 6.3/12.8 MB 157.0 kB/s eta 0:00:42\n",
      "   ------------------- -------------------- 6.3/12.8 MB 157.0 kB/s eta 0:00:42\n",
      "   ------------------- -------------------- 6.3/12.8 MB 157.0 kB/s eta 0:00:42\n",
      "   ------------------- -------------------- 6.3/12.8 MB 157.0 kB/s eta 0:00:42\n",
      "   ------------------- -------------------- 6.3/12.8 MB 157.0 kB/s eta 0:00:42\n",
      "   ------------------- -------------------- 6.3/12.8 MB 157.0 kB/s eta 0:00:42\n",
      "   ------------------- -------------------- 6.3/12.8 MB 157.0 kB/s eta 0:00:42\n",
      "   ------------------- -------------------- 6.3/12.8 MB 157.0 kB/s eta 0:00:42\n",
      "   ------------------- -------------------- 6.3/12.8 MB 157.0 kB/s eta 0:00:42\n",
      "   ------------------- -------------------- 6.3/12.8 MB 157.0 kB/s eta 0:00:42\n",
      "   ------------------- -------------------- 6.3/12.8 MB 157.0 kB/s eta 0:00:42\n",
      "   ------------------- -------------------- 6.3/12.8 MB 157.0 kB/s eta 0:00:42\n",
      "   ------------------- -------------------- 6.3/12.8 MB 157.0 kB/s eta 0:00:42\n",
      "   ------------------- -------------------- 6.3/12.8 MB 157.0 kB/s eta 0:00:42\n",
      "   ------------------- -------------------- 6.3/12.8 MB 157.0 kB/s eta 0:00:42\n",
      "   ------------------- -------------------- 6.3/12.8 MB 157.0 kB/s eta 0:00:42\n",
      "   ------------------- -------------------- 6.3/12.8 MB 157.0 kB/s eta 0:00:42\n",
      "   ------------------- -------------------- 6.3/12.8 MB 157.0 kB/s eta 0:00:42\n",
      "   ------------------- -------------------- 6.3/12.8 MB 157.0 kB/s eta 0:00:42\n",
      "   ------------------- -------------------- 6.3/12.8 MB 157.0 kB/s eta 0:00:42\n",
      "   ------------------- -------------------- 6.3/12.8 MB 157.0 kB/s eta 0:00:42\n",
      "   ------------------- -------------------- 6.3/12.8 MB 157.0 kB/s eta 0:00:42\n",
      "   ------------------- -------------------- 6.3/12.8 MB 157.0 kB/s eta 0:00:42\n",
      "   ------------------- -------------------- 6.3/12.8 MB 157.0 kB/s eta 0:00:42\n",
      "   ------------------- -------------------- 6.3/12.8 MB 157.0 kB/s eta 0:00:42\n",
      "   ------------------- -------------------- 6.3/12.8 MB 157.0 kB/s eta 0:00:42\n",
      "   ------------------- -------------------- 6.3/12.8 MB 157.0 kB/s eta 0:00:42\n",
      "   ------------------- -------------------- 6.3/12.8 MB 157.0 kB/s eta 0:00:42\n",
      "   ------------------- -------------------- 6.3/12.8 MB 157.0 kB/s eta 0:00:42\n",
      "   ------------------- -------------------- 6.3/12.8 MB 157.0 kB/s eta 0:00:42\n",
      "   ------------------- -------------------- 6.3/12.8 MB 157.0 kB/s eta 0:00:42\n",
      "   ------------------- -------------------- 6.3/12.8 MB 157.0 kB/s eta 0:00:42\n",
      "   ------------------- -------------------- 6.3/12.8 MB 157.0 kB/s eta 0:00:42\n",
      "   ------------------- -------------------- 6.3/12.8 MB 157.0 kB/s eta 0:00:42\n",
      "   ------------------- -------------------- 6.3/12.8 MB 157.0 kB/s eta 0:00:42\n",
      "   ------------------- -------------------- 6.3/12.8 MB 157.0 kB/s eta 0:00:42\n",
      "   ------------------- -------------------- 6.3/12.8 MB 157.0 kB/s eta 0:00:42\n",
      "   ------------------- -------------------- 6.3/12.8 MB 157.0 kB/s eta 0:00:42\n",
      "   -------------------- ------------------- 6.6/12.8 MB 96.3 kB/s eta 0:01:05\n",
      "   -------------------- ------------------- 6.6/12.8 MB 96.3 kB/s eta 0:01:05\n",
      "   -------------------- ------------------- 6.6/12.8 MB 96.3 kB/s eta 0:01:05\n",
      "   -------------------- ------------------- 6.6/12.8 MB 96.3 kB/s eta 0:01:05\n",
      "   -------------------- ------------------- 6.6/12.8 MB 96.3 kB/s eta 0:01:05\n",
      "   -------------------- ------------------- 6.6/12.8 MB 96.3 kB/s eta 0:01:05\n",
      "   -------------------- ------------------- 6.6/12.8 MB 96.3 kB/s eta 0:01:05\n",
      "   -------------------- ------------------- 6.6/12.8 MB 96.3 kB/s eta 0:01:05\n",
      "   -------------------- ------------------- 6.6/12.8 MB 96.3 kB/s eta 0:01:05\n",
      "   -------------------- ------------------- 6.6/12.8 MB 96.3 kB/s eta 0:01:05\n",
      "   -------------------- ------------------- 6.6/12.8 MB 96.3 kB/s eta 0:01:05\n",
      "   -------------------- ------------------- 6.6/12.8 MB 96.3 kB/s eta 0:01:05\n",
      "   -------------------- ------------------- 6.6/12.8 MB 96.3 kB/s eta 0:01:05\n",
      "   -------------------- ------------------- 6.6/12.8 MB 96.3 kB/s eta 0:01:05\n",
      "   -------------------- ------------------- 6.6/12.8 MB 96.3 kB/s eta 0:01:05\n",
      "   -------------------- ------------------- 6.6/12.8 MB 96.3 kB/s eta 0:01:05\n",
      "   -------------------- ------------------- 6.6/12.8 MB 96.3 kB/s eta 0:01:05\n",
      "   -------------------- ------------------- 6.6/12.8 MB 96.3 kB/s eta 0:01:05\n",
      "   -------------------- ------------------- 6.6/12.8 MB 96.3 kB/s eta 0:01:05\n",
      "   -------------------- ------------------- 6.6/12.8 MB 96.3 kB/s eta 0:01:05\n",
      "   -------------------- ------------------- 6.6/12.8 MB 96.3 kB/s eta 0:01:05\n",
      "   -------------------- ------------------- 6.6/12.8 MB 96.3 kB/s eta 0:01:05\n",
      "   -------------------- ------------------- 6.6/12.8 MB 96.3 kB/s eta 0:01:05\n",
      "   -------------------- ------------------- 6.6/12.8 MB 96.3 kB/s eta 0:01:05\n",
      "   -------------------- ------------------- 6.6/12.8 MB 96.3 kB/s eta 0:01:05\n",
      "   -------------------- ------------------- 6.6/12.8 MB 96.3 kB/s eta 0:01:05\n",
      "   -------------------- ------------------- 6.6/12.8 MB 96.3 kB/s eta 0:01:05\n",
      "   -------------------- ------------------- 6.6/12.8 MB 96.3 kB/s eta 0:01:05\n",
      "   -------------------- ------------------- 6.6/12.8 MB 96.3 kB/s eta 0:01:05\n",
      "   -------------------- ------------------- 6.6/12.8 MB 96.3 kB/s eta 0:01:05\n",
      "   -------------------- ------------------- 6.6/12.8 MB 96.3 kB/s eta 0:01:05\n",
      "   -------------------- ------------------- 6.6/12.8 MB 96.3 kB/s eta 0:01:05\n",
      "   -------------------- ------------------- 6.6/12.8 MB 96.3 kB/s eta 0:01:05\n",
      "   -------------------- ------------------- 6.6/12.8 MB 96.3 kB/s eta 0:01:05\n",
      "   -------------------- ------------------- 6.6/12.8 MB 96.3 kB/s eta 0:01:05\n",
      "   -------------------- ------------------- 6.6/12.8 MB 96.3 kB/s eta 0:01:05\n",
      "   -------------------- ------------------- 6.6/12.8 MB 96.3 kB/s eta 0:01:05\n",
      "   -------------------- ------------------- 6.6/12.8 MB 96.3 kB/s eta 0:01:05\n",
      "   -------------------- ------------------- 6.6/12.8 MB 96.3 kB/s eta 0:01:05\n",
      "   -------------------- ------------------- 6.6/12.8 MB 96.3 kB/s eta 0:01:05\n",
      "   -------------------- ------------------- 6.6/12.8 MB 96.3 kB/s eta 0:01:05\n",
      "   -------------------- ------------------- 6.6/12.8 MB 96.3 kB/s eta 0:01:05\n",
      "   -------------------- ------------------- 6.6/12.8 MB 96.3 kB/s eta 0:01:05\n",
      "   -------------------- ------------------- 6.6/12.8 MB 96.3 kB/s eta 0:01:05\n",
      "   -------------------- ------------------- 6.6/12.8 MB 96.3 kB/s eta 0:01:05\n",
      "   -------------------- ------------------- 6.6/12.8 MB 96.3 kB/s eta 0:01:05\n",
      "   -------------------- ------------------- 6.6/12.8 MB 96.3 kB/s eta 0:01:05\n",
      "   -------------------- ------------------- 6.6/12.8 MB 96.3 kB/s eta 0:01:05\n",
      "   -------------------- ------------------- 6.6/12.8 MB 96.3 kB/s eta 0:01:05\n",
      "   -------------------- ------------------- 6.6/12.8 MB 96.3 kB/s eta 0:01:05\n",
      "   -------------------- ------------------- 6.6/12.8 MB 96.3 kB/s eta 0:01:05\n",
      "   -------------------- ------------------- 6.6/12.8 MB 96.3 kB/s eta 0:01:05\n",
      "   -------------------- ------------------- 6.6/12.8 MB 96.3 kB/s eta 0:01:05\n",
      "   -------------------- ------------------- 6.6/12.8 MB 96.3 kB/s eta 0:01:05\n",
      "   --------------------- ------------------ 6.8/12.8 MB 44.9 kB/s eta 0:02:13\n",
      "   --------------------- ------------------ 6.8/12.8 MB 44.9 kB/s eta 0:02:13\n",
      "   --------------------- ------------------ 6.8/12.8 MB 44.9 kB/s eta 0:02:13\n",
      "   --------------------- ------------------ 6.8/12.8 MB 44.9 kB/s eta 0:02:13\n",
      "   --------------------- ------------------ 6.8/12.8 MB 44.9 kB/s eta 0:02:13\n",
      "   --------------------- ------------------ 6.8/12.8 MB 44.9 kB/s eta 0:02:13\n",
      "   --------------------- ------------------ 6.8/12.8 MB 44.9 kB/s eta 0:02:13\n",
      "   --------------------- ------------------ 6.8/12.8 MB 44.9 kB/s eta 0:02:13\n",
      "   --------------------- ------------------ 6.8/12.8 MB 44.9 kB/s eta 0:02:13\n",
      "   --------------------- ------------------ 6.8/12.8 MB 44.9 kB/s eta 0:02:13\n",
      "   --------------------- ------------------ 6.8/12.8 MB 44.9 kB/s eta 0:02:13\n",
      "   --------------------- ------------------ 6.8/12.8 MB 44.9 kB/s eta 0:02:13\n",
      "   --------------------- ------------------ 6.8/12.8 MB 44.9 kB/s eta 0:02:13\n",
      "   --------------------- ------------------ 6.8/12.8 MB 44.9 kB/s eta 0:02:13\n",
      "   --------------------- ------------------ 6.8/12.8 MB 44.9 kB/s eta 0:02:13\n",
      "   --------------------- ------------------ 6.8/12.8 MB 44.9 kB/s eta 0:02:13\n",
      "   --------------------- ------------------ 6.8/12.8 MB 44.9 kB/s eta 0:02:13\n",
      "   --------------------- ------------------ 6.8/12.8 MB 44.9 kB/s eta 0:02:13\n",
      "   --------------------- ------------------ 6.8/12.8 MB 44.9 kB/s eta 0:02:13\n",
      "   --------------------- ------------------ 6.8/12.8 MB 44.9 kB/s eta 0:02:13\n",
      "   --------------------- ------------------ 6.8/12.8 MB 44.9 kB/s eta 0:02:13\n",
      "   --------------------- ------------------ 6.8/12.8 MB 44.9 kB/s eta 0:02:13\n",
      "   --------------------- ------------------ 6.8/12.8 MB 44.9 kB/s eta 0:02:13\n",
      "   --------------------- ------------------ 6.8/12.8 MB 44.9 kB/s eta 0:02:13\n",
      "   ---------------------- ----------------- 7.1/12.8 MB 32.1 kB/s eta 0:02:58\n",
      "   ---------------------- ----------------- 7.3/12.8 MB 47.5 kB/s eta 0:01:55\n",
      "   ----------------------- ---------------- 7.6/12.8 MB 62.6 kB/s eta 0:01:23\n",
      "   ----------------------- ---------------- 7.6/12.8 MB 62.6 kB/s eta 0:01:23\n",
      "   ------------------------ --------------- 7.9/12.8 MB 77.0 kB/s eta 0:01:04\n",
      "   ------------------------ --------------- 7.9/12.8 MB 77.0 kB/s eta 0:01:04\n",
      "   ------------------------ --------------- 7.9/12.8 MB 77.0 kB/s eta 0:01:04\n",
      "   ------------------------- -------------- 8.1/12.8 MB 88.5 kB/s eta 0:00:53\n",
      "   ------------------------- -------------- 8.1/12.8 MB 88.5 kB/s eta 0:00:53\n",
      "   -------------------------- ------------- 8.4/12.8 MB 100.5 kB/s eta 0:00:44\n",
      "   -------------------------- ------------- 8.4/12.8 MB 100.5 kB/s eta 0:00:44\n",
      "   -------------------------- ------------- 8.4/12.8 MB 100.5 kB/s eta 0:00:44\n",
      "   -------------------------- ------------- 8.4/12.8 MB 100.5 kB/s eta 0:00:44\n",
      "   -------------------------- ------------- 8.4/12.8 MB 100.5 kB/s eta 0:00:44\n",
      "   -------------------------- ------------- 8.4/12.8 MB 100.5 kB/s eta 0:00:44\n",
      "   -------------------------- ------------- 8.4/12.8 MB 100.5 kB/s eta 0:00:44\n",
      "   -------------------------- ------------- 8.4/12.8 MB 100.5 kB/s eta 0:00:44\n",
      "   -------------------------- ------------- 8.4/12.8 MB 100.5 kB/s eta 0:00:44\n",
      "   -------------------------- ------------- 8.4/12.8 MB 100.5 kB/s eta 0:00:44\n",
      "   -------------------------- ------------- 8.4/12.8 MB 100.5 kB/s eta 0:00:44\n",
      "   -------------------------- ------------- 8.4/12.8 MB 100.5 kB/s eta 0:00:44\n",
      "   -------------------------- ------------- 8.4/12.8 MB 100.5 kB/s eta 0:00:44\n",
      "   -------------------------- ------------- 8.4/12.8 MB 100.5 kB/s eta 0:00:44\n",
      "   -------------------------- ------------- 8.4/12.8 MB 100.5 kB/s eta 0:00:44\n",
      "   -------------------------- ------------- 8.4/12.8 MB 100.5 kB/s eta 0:00:44\n",
      "   -------------------------- ------------- 8.4/12.8 MB 100.5 kB/s eta 0:00:44\n",
      "   -------------------------- ------------- 8.4/12.8 MB 100.5 kB/s eta 0:00:44\n",
      "   -------------------------- ------------- 8.4/12.8 MB 100.5 kB/s eta 0:00:44\n",
      "   -------------------------- ------------- 8.4/12.8 MB 100.5 kB/s eta 0:00:44\n",
      "   -------------------------- ------------- 8.4/12.8 MB 100.5 kB/s eta 0:00:44\n",
      "   -------------------------- ------------- 8.4/12.8 MB 100.5 kB/s eta 0:00:44\n",
      "   -------------------------- ------------- 8.4/12.8 MB 100.5 kB/s eta 0:00:44\n",
      "   -------------------------- ------------- 8.4/12.8 MB 100.5 kB/s eta 0:00:44\n",
      "   -------------------------- ------------- 8.4/12.8 MB 100.5 kB/s eta 0:00:44\n",
      "   -------------------------- ------------- 8.4/12.8 MB 100.5 kB/s eta 0:00:44\n",
      "   -------------------------- ------------- 8.4/12.8 MB 100.5 kB/s eta 0:00:44\n",
      "   -------------------------- ------------- 8.4/12.8 MB 100.5 kB/s eta 0:00:44\n",
      "   -------------------------- ------------- 8.4/12.8 MB 100.5 kB/s eta 0:00:44\n",
      "   --------------------------- ------------ 8.7/12.8 MB 86.6 kB/s eta 0:00:48\n",
      "   --------------------------- ------------ 8.7/12.8 MB 86.6 kB/s eta 0:00:48\n",
      "   --------------------------- ------------ 8.9/12.8 MB 96.0 kB/s eta 0:00:41\n",
      "   --------------------------- ------------ 8.9/12.8 MB 96.0 kB/s eta 0:00:41\n",
      "   --------------------------- ------------ 8.9/12.8 MB 96.0 kB/s eta 0:00:41\n",
      "   --------------------------- ------------ 8.9/12.8 MB 96.0 kB/s eta 0:00:41\n",
      "   --------------------------- ------------ 8.9/12.8 MB 96.0 kB/s eta 0:00:41\n",
      "   --------------------------- ------------ 8.9/12.8 MB 96.0 kB/s eta 0:00:41\n",
      "   --------------------------- ------------ 8.9/12.8 MB 96.0 kB/s eta 0:00:41\n",
      "   ---------------------------- ----------- 9.2/12.8 MB 100.3 kB/s eta 0:00:36\n",
      "   ----------------------------- ---------- 9.4/12.8 MB 109.5 kB/s eta 0:00:31\n",
      "   ----------------------------- ---------- 9.4/12.8 MB 109.5 kB/s eta 0:00:31\n",
      "   ----------------------------- ---------- 9.4/12.8 MB 109.5 kB/s eta 0:00:31\n",
      "   ----------------------------- ---------- 9.4/12.8 MB 109.5 kB/s eta 0:00:31\n",
      "   ----------------------------- ---------- 9.4/12.8 MB 109.5 kB/s eta 0:00:31\n",
      "   ----------------------------- ---------- 9.4/12.8 MB 109.5 kB/s eta 0:00:31\n",
      "   ----------------------------- ---------- 9.4/12.8 MB 109.5 kB/s eta 0:00:31\n",
      "   ------------------------------ --------- 9.7/12.8 MB 113.1 kB/s eta 0:00:28\n",
      "   ------------------------------ --------- 9.7/12.8 MB 113.1 kB/s eta 0:00:28\n",
      "   ------------------------------- -------- 10.0/12.8 MB 120.9 kB/s eta 0:00:24\n",
      "   ------------------------------- -------- 10.2/12.8 MB 129.1 kB/s eta 0:00:20\n",
      "   -------------------------------- ------- 10.5/12.8 MB 137.4 kB/s eta 0:00:17\n",
      "   -------------------------------- ------- 10.5/12.8 MB 137.4 kB/s eta 0:00:17\n",
      "   -------------------------------- ------- 10.5/12.8 MB 137.4 kB/s eta 0:00:17\n",
      "   -------------------------------- ------- 10.5/12.8 MB 137.4 kB/s eta 0:00:17\n",
      "   -------------------------------- ------- 10.5/12.8 MB 137.4 kB/s eta 0:00:17\n",
      "   -------------------------------- ------- 10.5/12.8 MB 137.4 kB/s eta 0:00:17\n",
      "   --------------------------------- ------ 10.7/12.8 MB 140.6 kB/s eta 0:00:15\n",
      "   --------------------------------- ------ 10.7/12.8 MB 140.6 kB/s eta 0:00:15\n",
      "   ---------------------------------- ----- 11.0/12.8 MB 220.6 kB/s eta 0:00:09\n",
      "   ---------------------------------- ----- 11.0/12.8 MB 220.6 kB/s eta 0:00:09\n",
      "   ---------------------------------- ----- 11.0/12.8 MB 220.6 kB/s eta 0:00:09\n",
      "   ---------------------------------- ----- 11.0/12.8 MB 220.6 kB/s eta 0:00:09\n",
      "   ---------------------------------- ----- 11.0/12.8 MB 220.6 kB/s eta 0:00:09\n",
      "   ---------------------------------- ----- 11.0/12.8 MB 220.6 kB/s eta 0:00:09\n",
      "   ---------------------------------- ----- 11.0/12.8 MB 220.6 kB/s eta 0:00:09\n",
      "   ----------------------------------- ---- 11.3/12.8 MB 218.0 kB/s eta 0:00:07\n",
      "   ----------------------------------- ---- 11.3/12.8 MB 218.0 kB/s eta 0:00:07\n",
      "   ----------------------------------- ---- 11.3/12.8 MB 218.0 kB/s eta 0:00:07\n",
      "   ----------------------------------- ---- 11.3/12.8 MB 218.0 kB/s eta 0:00:07\n",
      "   ----------------------------------- ---- 11.3/12.8 MB 218.0 kB/s eta 0:00:07\n",
      "   ----------------------------------- ---- 11.3/12.8 MB 218.0 kB/s eta 0:00:07\n",
      "   ----------------------------------- ---- 11.3/12.8 MB 218.0 kB/s eta 0:00:07\n",
      "   ----------------------------------- ---- 11.3/12.8 MB 218.0 kB/s eta 0:00:07\n",
      "   ----------------------------------- ---- 11.3/12.8 MB 218.0 kB/s eta 0:00:07\n",
      "   ----------------------------------- ---- 11.3/12.8 MB 218.0 kB/s eta 0:00:07\n",
      "   ------------------------------------ --- 11.5/12.8 MB 208.3 kB/s eta 0:00:06\n",
      "   ------------------------------------ --- 11.5/12.8 MB 208.3 kB/s eta 0:00:06\n",
      "   ------------------------------------ --- 11.5/12.8 MB 208.3 kB/s eta 0:00:06\n",
      "   ------------------------------------ --- 11.5/12.8 MB 208.3 kB/s eta 0:00:06\n",
      "   ------------------------------------ --- 11.5/12.8 MB 208.3 kB/s eta 0:00:06\n",
      "   ------------------------------------ --- 11.8/12.8 MB 211.3 kB/s eta 0:00:05\n",
      "   ------------------------------------ --- 11.8/12.8 MB 211.3 kB/s eta 0:00:05\n",
      "   ------------------------------------ --- 11.8/12.8 MB 211.3 kB/s eta 0:00:05\n",
      "   ------------------------------------ --- 11.8/12.8 MB 211.3 kB/s eta 0:00:05\n",
      "   ------------------------------------ --- 11.8/12.8 MB 211.3 kB/s eta 0:00:05\n",
      "   ------------------------------------ --- 11.8/12.8 MB 211.3 kB/s eta 0:00:05\n",
      "   ------------------------------------- -- 12.1/12.8 MB 211.2 kB/s eta 0:00:04\n",
      "   ------------------------------------- -- 12.1/12.8 MB 211.2 kB/s eta 0:00:04\n",
      "   ------------------------------------- -- 12.1/12.8 MB 211.2 kB/s eta 0:00:04\n",
      "   -------------------------------------- - 12.3/12.8 MB 215.3 kB/s eta 0:00:03\n",
      "   -------------------------------------- - 12.3/12.8 MB 215.3 kB/s eta 0:00:03\n",
      "   -------------------------------------- - 12.3/12.8 MB 215.3 kB/s eta 0:00:03\n",
      "   -------------------------------------- - 12.3/12.8 MB 215.3 kB/s eta 0:00:03\n",
      "   ---------------------------------------  12.6/12.8 MB 218.2 kB/s eta 0:00:01\n",
      "   ---------------------------------------  12.6/12.8 MB 218.2 kB/s eta 0:00:01\n",
      "   ---------------------------------------- 12.8/12.8 MB 222.5 kB/s  0:01:31\n",
      "Installing collected packages: numpy\n",
      "Successfully installed numpy-2.3.3\n"
     ]
    }
   ],
   "source": [
    "    !pip install numpy"
   ]
  },
  {
   "cell_type": "code",
   "execution_count": 100,
   "id": "1f580d45-6627-4e21-ad44-8cbed60b7e30",
   "metadata": {},
   "outputs": [],
   "source": [
    "import numpy as np"
   ]
  },
  {
   "cell_type": "code",
   "execution_count": 101,
   "id": "b57af160-60ba-4958-ac1d-fcae03693eb3",
   "metadata": {},
   "outputs": [],
   "source": [
    "a = np.array([1,2,3,4,7])"
   ]
  },
  {
   "cell_type": "code",
   "execution_count": 102,
   "id": "f28dd68e-585b-4046-b848-fb7a13cdaa5d",
   "metadata": {},
   "outputs": [],
   "source": [
    "b = np.array((2,3,4,5))"
   ]
  },
  {
   "cell_type": "code",
   "execution_count": 103,
   "id": "4e46d7d7-b972-48bb-944c-f2d824885f74",
   "metadata": {},
   "outputs": [
    {
     "name": "stdout",
     "output_type": "stream",
     "text": [
      "[1 2 3 4 7]\n"
     ]
    }
   ],
   "source": [
    "print(a)"
   ]
  },
  {
   "cell_type": "code",
   "execution_count": null,
   "id": "1ff5f701-6bd7-4b73-9170-e5a855eb1e74",
   "metadata": {},
   "outputs": [],
   "source": []
  },
  {
   "cell_type": "code",
   "execution_count": 104,
   "id": "a09e6592-9b67-434e-b4c2-adddda76409d",
   "metadata": {},
   "outputs": [
    {
     "name": "stdout",
     "output_type": "stream",
     "text": [
      "[1 2 3 4 7]\n"
     ]
    }
   ],
   "source": [
    "print(a)"
   ]
  },
  {
   "cell_type": "code",
   "execution_count": 105,
   "id": "7caa0c52-5e0e-4486-8011-9cee23a9bea8",
   "metadata": {},
   "outputs": [
    {
     "name": "stdout",
     "output_type": "stream",
     "text": [
      "[2 3 4 5]\n"
     ]
    }
   ],
   "source": [
    "print(b)"
   ]
  },
  {
   "cell_type": "code",
   "execution_count": 106,
   "id": "3f5cce49-a5ef-403c-9812-104307482c94",
   "metadata": {},
   "outputs": [
    {
     "name": "stdout",
     "output_type": "stream",
     "text": [
      "Requirement already satisfied: numpy in c:\\users\\amingo\\appdata\\local\\programs\\python\\python313\\lib\\site-packages (2.3.3)\n"
     ]
    }
   ],
   "source": [
    "!pip install numpy"
   ]
  },
  {
   "cell_type": "code",
   "execution_count": 107,
   "id": "31109781-f7ea-46d1-b7e6-80bae7fdc16e",
   "metadata": {},
   "outputs": [
    {
     "data": {
      "text/plain": [
       "numpy.ndarray"
      ]
     },
     "execution_count": 107,
     "metadata": {},
     "output_type": "execute_result"
    }
   ],
   "source": [
    "type(a)"
   ]
  },
  {
   "cell_type": "code",
   "execution_count": 109,
   "id": "2d2e68be-2850-479c-ad32-6a79ef545fa4",
   "metadata": {},
   "outputs": [
    {
     "data": {
      "text/plain": [
       "numpy.ndarray"
      ]
     },
     "execution_count": 109,
     "metadata": {},
     "output_type": "execute_result"
    }
   ],
   "source": [
    "type(b)"
   ]
  },
  {
   "cell_type": "code",
   "execution_count": 110,
   "id": "32785e02-bd97-4614-9f4b-cd94fcfbedec",
   "metadata": {},
   "outputs": [
    {
     "data": {
      "text/plain": [
       "dtype('int64')"
      ]
     },
     "execution_count": 110,
     "metadata": {},
     "output_type": "execute_result"
    }
   ],
   "source": [
    "a.dtype"
   ]
  },
  {
   "cell_type": "code",
   "execution_count": 111,
   "id": "d7343468-1686-4e6e-97b5-939cb47bd064",
   "metadata": {},
   "outputs": [],
   "source": [
    "a = np.array([[1,2,3,4],[2,3,4,5]])"
   ]
  },
  {
   "cell_type": "code",
   "execution_count": 112,
   "id": "eafb585f-4515-4f79-a6b1-3e6b0333e8b8",
   "metadata": {},
   "outputs": [
    {
     "name": "stdout",
     "output_type": "stream",
     "text": [
      "2\n"
     ]
    }
   ],
   "source": [
    "print(a.ndim)"
   ]
  },
  {
   "cell_type": "code",
   "execution_count": 113,
   "id": "b54418d7-ec11-4a44-a2ac-46acbf60825c",
   "metadata": {},
   "outputs": [
    {
     "name": "stdout",
     "output_type": "stream",
     "text": [
      "3\n"
     ]
    }
   ],
   "source": [
    "print(a[0][2])"
   ]
  },
  {
   "cell_type": "code",
   "execution_count": null,
   "id": "42b485e0-fbf2-4204-bacd-f0895eff19ea",
   "metadata": {},
   "outputs": [],
   "source": [
    "b = np.array([[[1,2,3],[4,5,6]], [[1,2,3],[4,5,6]]])"
   ]
  }
 ],
 "metadata": {
  "kernelspec": {
   "display_name": "Python 3 (ipykernel)",
   "language": "python",
   "name": "python3"
  },
  "language_info": {
   "codemirror_mode": {
    "name": "ipython",
    "version": 3
   },
   "file_extension": ".py",
   "mimetype": "text/x-python",
   "name": "python",
   "nbconvert_exporter": "python",
   "pygments_lexer": "ipython3",
   "version": "3.13.5"
  }
 },
 "nbformat": 4,
 "nbformat_minor": 5
}
