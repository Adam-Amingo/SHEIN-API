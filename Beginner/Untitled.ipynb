{
 "cells": [
  {
   "cell_type": "markdown",
   "id": "29d10a12-7950-4d51-81d1-d2cc84779c25",
   "metadata": {},
   "source": [
    "# "
   ]
  },
  {
   "cell_type": "code",
   "execution_count": 1,
   "id": "b94c46ed-5ce6-42d5-be39-237f51f76f66",
   "metadata": {},
   "outputs": [],
   "source": [
    "L = [1 , 3 , 4.9 , \"name\" , 3]\n",
    "T = (1 , 3, 4.9 , \"name\" )\n",
    "S = {1,3, 4.9 , 3}\n",
    "D = {23 : \"Jordan\", 34 : \"Lebron\"}"
   ]
  },
  {
   "cell_type": "code",
   "execution_count": 3,
   "id": "f6064892-7c52-4ac5-8c94-0c4bb30d4848",
   "metadata": {},
   "outputs": [
    {
     "name": "stdout",
     "output_type": "stream",
     "text": [
      "The type of L is  <class 'list'>\n",
      "The type of T is  <class 'tuple'>\n",
      "The type of S is  <class 'set'>\n",
      "The type of D is  <class 'dict'>\n"
     ]
    }
   ],
   "source": [
    "print(\"The type of L is \" , type(L))\n",
    "print(\"The type of T is \" , type(T))\n",
    "print(\"The type of S is \" , type(S))\n",
    "print(\"The type of D is \" , type(D))"
   ]
  },
  {
   "cell_type": "code",
   "execution_count": 5,
   "id": "5e00bf4c-8394-4260-9d58-560c0c830367",
   "metadata": {},
   "outputs": [
    {
     "name": "stdout",
     "output_type": "stream",
     "text": [
      "3\n",
      "4.9\n",
      "True\n",
      "Jordan\n"
     ]
    }
   ],
   "source": [
    "print(L[1])\n",
    "print(T[2])\n",
    "print(1 in S)\n",
    "print(D[23])"
   ]
  },
  {
   "cell_type": "code",
   "execution_count": 6,
   "id": "3b574925-4635-4145-8ab2-e92fbf5409ec",
   "metadata": {},
   "outputs": [
    {
     "name": "stdout",
     "output_type": "stream",
     "text": [
      "{1, 3, 4.9}\n"
     ]
    }
   ],
   "source": [
    "print(S)"
   ]
  },
  {
   "cell_type": "code",
   "execution_count": 7,
   "id": "f823384b-95b8-4545-ad7d-43af6e40d11a",
   "metadata": {},
   "outputs": [
    {
     "data": {
      "text/plain": [
       "[1, 3, 4.9, 'name', 3]"
      ]
     },
     "execution_count": 7,
     "metadata": {},
     "output_type": "execute_result"
    }
   ],
   "source": [
    "L"
   ]
  },
  {
   "cell_type": "code",
   "execution_count": 8,
   "id": "e051d2f5-f6c6-49e1-8399-204347117814",
   "metadata": {},
   "outputs": [
    {
     "data": {
      "text/plain": [
       "{1, 3, 4.9}"
      ]
     },
     "execution_count": 8,
     "metadata": {},
     "output_type": "execute_result"
    }
   ],
   "source": [
    "S"
   ]
  },
  {
   "cell_type": "code",
   "execution_count": 9,
   "id": "47e09989-78d0-48f4-b172-c9184c02a0a6",
   "metadata": {},
   "outputs": [
    {
     "data": {
      "text/plain": [
       "{23: 'Jordan', 34: 'Lebron'}"
      ]
     },
     "execution_count": 9,
     "metadata": {},
     "output_type": "execute_result"
    }
   ],
   "source": [
    "D"
   ]
  },
  {
   "cell_type": "code",
   "execution_count": 10,
   "id": "c26d0c67-a4a4-46a5-ab5a-c09fd834ce36",
   "metadata": {},
   "outputs": [
    {
     "data": {
      "text/plain": [
       "(1, 3, 4.9, 'name')"
      ]
     },
     "execution_count": 10,
     "metadata": {},
     "output_type": "execute_result"
    }
   ],
   "source": [
    "T"
   ]
  },
  {
   "cell_type": "code",
   "execution_count": 11,
   "id": "faffc706-ecc2-4b41-8f00-d7a9864b52dc",
   "metadata": {},
   "outputs": [
    {
     "data": {
      "text/plain": [
       "[3, 4.9]"
      ]
     },
     "execution_count": 11,
     "metadata": {},
     "output_type": "execute_result"
    }
   ],
   "source": [
    "L[1:3]"
   ]
  },
  {
   "cell_type": "code",
   "execution_count": 12,
   "id": "fa39f3a1-4c10-4d2e-941a-6112fd82c1d1",
   "metadata": {},
   "outputs": [
    {
     "data": {
      "text/plain": [
       "[3, 'name', 4.9, 3, 1]"
      ]
     },
     "execution_count": 12,
     "metadata": {},
     "output_type": "execute_result"
    }
   ],
   "source": [
    "L[::-1]"
   ]
  },
  {
   "cell_type": "code",
   "execution_count": 13,
   "id": "71873489-dac3-4bf9-82f1-cd6f82baa83a",
   "metadata": {},
   "outputs": [
    {
     "data": {
      "text/plain": [
       "(1, 3, 4.9)"
      ]
     },
     "execution_count": 13,
     "metadata": {},
     "output_type": "execute_result"
    }
   ],
   "source": [
    "T[:3]"
   ]
  },
  {
   "cell_type": "code",
   "execution_count": 14,
   "id": "6598c3b2-d578-4e97-add6-c24323f0ba1f",
   "metadata": {},
   "outputs": [
    {
     "data": {
      "text/plain": [
       "[1, 3, 4.9, 'name', 3]"
      ]
     },
     "execution_count": 14,
     "metadata": {},
     "output_type": "execute_result"
    }
   ],
   "source": [
    "L "
   ]
  },
  {
   "cell_type": "code",
   "execution_count": 15,
   "id": "bc6c897d-135e-4642-aeb3-8adda02ccb8a",
   "metadata": {},
   "outputs": [],
   "source": [
    "L = L + [\"how\" , \"are\" , 6 , \"you\"]"
   ]
  },
  {
   "cell_type": "code",
   "execution_count": 16,
   "id": "a221e63b-9e70-478e-a4ed-bcac3639c5a4",
   "metadata": {},
   "outputs": [
    {
     "data": {
      "text/plain": [
       "[1, 3, 4.9, 'name', 3, 'how', 'are', 6, 'you']"
      ]
     },
     "execution_count": 16,
     "metadata": {},
     "output_type": "execute_result"
    }
   ],
   "source": [
    "L"
   ]
  },
  {
   "cell_type": "code",
   "execution_count": 17,
   "id": "e01a231a-d213-43e8-8dc9-76a90ab9452c",
   "metadata": {},
   "outputs": [],
   "source": [
    "L.append(8.9)"
   ]
  },
  {
   "cell_type": "code",
   "execution_count": 18,
   "id": "74bdf94d-77c3-437a-a688-22da9b75b99f",
   "metadata": {},
   "outputs": [
    {
     "data": {
      "text/plain": [
       "[1, 3, 4.9, 'name', 3, 'how', 'are', 6, 'you', 8.9]"
      ]
     },
     "execution_count": 18,
     "metadata": {},
     "output_type": "execute_result"
    }
   ],
   "source": [
    "L"
   ]
  },
  {
   "cell_type": "code",
   "execution_count": 19,
   "id": "c54a77f3-6f29-427f-8b99-3e41912d1384",
   "metadata": {},
   "outputs": [],
   "source": [
    "T2 = ( 'a', 'b' , 45)\n",
    "T3 = T + T2"
   ]
  },
  {
   "cell_type": "code",
   "execution_count": 20,
   "id": "0c9248c2-878d-4896-9003-a60da0694cec",
   "metadata": {},
   "outputs": [
    {
     "data": {
      "text/plain": [
       "(1, 3, 4.9, 'name', 'a', 'b', 45)"
      ]
     },
     "execution_count": 20,
     "metadata": {},
     "output_type": "execute_result"
    }
   ],
   "source": [
    "T3"
   ]
  },
  {
   "cell_type": "code",
   "execution_count": 21,
   "id": "990d5631-347a-4c91-bf24-da73bf5b1b03",
   "metadata": {},
   "outputs": [
    {
     "data": {
      "text/plain": [
       "{1, 3, 4.9}"
      ]
     },
     "execution_count": 21,
     "metadata": {},
     "output_type": "execute_result"
    }
   ],
   "source": [
    "S"
   ]
  },
  {
   "cell_type": "code",
   "execution_count": 22,
   "id": "04d8578e-486c-48e7-aa48-c05b35c2eda5",
   "metadata": {},
   "outputs": [
    {
     "ename": "TypeError",
     "evalue": "'int' object is not iterable",
     "output_type": "error",
     "traceback": [
      "\u001b[31m---------------------------------------------------------------------------\u001b[39m",
      "\u001b[31mTypeError\u001b[39m                                 Traceback (most recent call last)",
      "\u001b[36mCell\u001b[39m\u001b[36m \u001b[39m\u001b[32mIn[22]\u001b[39m\u001b[32m, line 1\u001b[39m\n\u001b[32m----> \u001b[39m\u001b[32m1\u001b[39m \u001b[43mS\u001b[49m\u001b[43m.\u001b[49m\u001b[43mupdate\u001b[49m\u001b[43m(\u001b[49m\u001b[32;43m3\u001b[39;49m\u001b[43m,\u001b[49m\u001b[43m \u001b[49m\u001b[33;43m'\u001b[39;49m\u001b[33;43mgame\u001b[39;49m\u001b[33;43m'\u001b[39;49m\u001b[43m \u001b[49m\u001b[43m,\u001b[49m\u001b[43m \u001b[49m\u001b[33;43m'\u001b[39;49m\u001b[33;43mname\u001b[39;49m\u001b[33;43m'\u001b[39;49m\u001b[43m)\u001b[49m\n",
      "\u001b[31mTypeError\u001b[39m: 'int' object is not iterable"
     ]
    }
   ],
   "source": [
    "S.update(3, 'game' , 'name')"
   ]
  },
  {
   "cell_type": "code",
   "execution_count": 23,
   "id": "7a951518-1b25-49c3-8705-93c303e886a2",
   "metadata": {},
   "outputs": [
    {
     "data": {
      "text/plain": [
       "{1, 3, 4.9}"
      ]
     },
     "execution_count": 23,
     "metadata": {},
     "output_type": "execute_result"
    }
   ],
   "source": [
    "S"
   ]
  },
  {
   "cell_type": "code",
   "execution_count": 24,
   "id": "4d4e0dff-3a49-4cb7-b7a7-c9f66f9a3b29",
   "metadata": {},
   "outputs": [],
   "source": [
    "S.update({23 , 3 , 'game'})"
   ]
  },
  {
   "cell_type": "code",
   "execution_count": 25,
   "id": "79f9568a-54be-45ce-bbb8-34a00171075e",
   "metadata": {},
   "outputs": [
    {
     "data": {
      "text/plain": [
       "{1, 23, 3, 4.9, 'game'}"
      ]
     },
     "execution_count": 25,
     "metadata": {},
     "output_type": "execute_result"
    }
   ],
   "source": [
    "S"
   ]
  },
  {
   "cell_type": "code",
   "execution_count": 26,
   "id": "ee1d521c-170b-4a30-9cdc-9f3556352c8d",
   "metadata": {},
   "outputs": [
    {
     "data": {
      "text/plain": [
       "{23: 'Jordan', 34: 'Lebron'}"
      ]
     },
     "execution_count": 26,
     "metadata": {},
     "output_type": "execute_result"
    }
   ],
   "source": [
    "D"
   ]
  },
  {
   "cell_type": "code",
   "execution_count": 27,
   "id": "e4ef9dcf-a010-4e6e-afd2-2234e2aad387",
   "metadata": {},
   "outputs": [],
   "source": [
    "D['newKey'] = \"newValue\""
   ]
  },
  {
   "cell_type": "code",
   "execution_count": 28,
   "id": "9ec27639-19da-4d52-9cdd-7f9911f8a7b8",
   "metadata": {},
   "outputs": [
    {
     "data": {
      "text/plain": [
       "{23: 'Jordan', 34: 'Lebron', 'newKey': 'newValue'}"
      ]
     },
     "execution_count": 28,
     "metadata": {},
     "output_type": "execute_result"
    }
   ],
   "source": [
    "D"
   ]
  },
  {
   "cell_type": "code",
   "execution_count": null,
   "id": "9eef0070-ac83-4536-9959-545e326d1bcf",
   "metadata": {},
   "outputs": [],
   "source": []
  },
  {
   "cell_type": "code",
   "execution_count": 30,
   "id": "b8af222e-d31e-49a0-b010-b8fb60ba0cf4",
   "metadata": {},
   "outputs": [],
   "source": [
    "D1 = {'X' : 23 , 'Y' : 45}"
   ]
  },
  {
   "cell_type": "code",
   "execution_count": 32,
   "id": "944f5072-c157-44b2-9e1f-da70b4f11241",
   "metadata": {},
   "outputs": [
    {
     "ename": "TypeError",
     "evalue": "unsupported operand type(s) for +: 'dict' and 'dict'",
     "output_type": "error",
     "traceback": [
      "\u001b[31m---------------------------------------------------------------------------\u001b[39m",
      "\u001b[31mTypeError\u001b[39m                                 Traceback (most recent call last)",
      "\u001b[36mCell\u001b[39m\u001b[36m \u001b[39m\u001b[32mIn[32]\u001b[39m\u001b[32m, line 1\u001b[39m\n\u001b[32m----> \u001b[39m\u001b[32m1\u001b[39m D2 = \u001b[43mD\u001b[49m\u001b[43m \u001b[49m\u001b[43m+\u001b[49m\u001b[43m \u001b[49m\u001b[43mD1\u001b[49m\n",
      "\u001b[31mTypeError\u001b[39m: unsupported operand type(s) for +: 'dict' and 'dict'"
     ]
    }
   ],
   "source": [
    "D2 = D + D1"
   ]
  },
  {
   "cell_type": "code",
   "execution_count": 33,
   "id": "f998f349-b57d-4185-ab5f-7f75d62dcd08",
   "metadata": {},
   "outputs": [
    {
     "data": {
      "text/plain": [
       "{1, 23, 3, 4.9, 'game'}"
      ]
     },
     "execution_count": 33,
     "metadata": {},
     "output_type": "execute_result"
    }
   ],
   "source": [
    "S"
   ]
  },
  {
   "cell_type": "code",
   "execution_count": 34,
   "id": "162c42d5-3401-44ce-ab69-bec2a098cc66",
   "metadata": {},
   "outputs": [],
   "source": [
    "S.remove('game')"
   ]
  },
  {
   "cell_type": "code",
   "execution_count": 35,
   "id": "23b2109e-08a0-4a33-bb06-d447141aed36",
   "metadata": {},
   "outputs": [
    {
     "data": {
      "text/plain": [
       "{1, 3, 4.9, 23}"
      ]
     },
     "execution_count": 35,
     "metadata": {},
     "output_type": "execute_result"
    }
   ],
   "source": [
    "S"
   ]
  },
  {
   "cell_type": "code",
   "execution_count": 36,
   "id": "3d127fee-a762-46cf-b34c-7850c10a27ac",
   "metadata": {},
   "outputs": [],
   "source": [
    "D.update(D1)"
   ]
  },
  {
   "cell_type": "code",
   "execution_count": 37,
   "id": "7657b112-4b16-4d51-95f0-27e2d53b5347",
   "metadata": {},
   "outputs": [
    {
     "data": {
      "text/plain": [
       "{23: 'Jordan', 34: 'Lebron', 'newKey': 'newValue', 'X': 23, 'Y': 45}"
      ]
     },
     "execution_count": 37,
     "metadata": {},
     "output_type": "execute_result"
    }
   ],
   "source": [
    "D"
   ]
  },
  {
   "cell_type": "code",
   "execution_count": 38,
   "id": "e5a70cb1-98b8-4f24-8661-80bd65e32e49",
   "metadata": {},
   "outputs": [],
   "source": [
    "L2  = L.copy()"
   ]
  },
  {
   "cell_type": "code",
   "execution_count": 39,
   "id": "f647c82b-0d33-4a51-8092-80f93d393415",
   "metadata": {},
   "outputs": [
    {
     "data": {
      "text/plain": [
       "[1, 3, 4.9, 'name', 3, 'how', 'are', 6, 'you', 8.9]"
      ]
     },
     "execution_count": 39,
     "metadata": {},
     "output_type": "execute_result"
    }
   ],
   "source": [
    "L2"
   ]
  },
  {
   "cell_type": "code",
   "execution_count": 40,
   "id": "1783a4f2-7c1e-4795-8f38-ce5da1980eaa",
   "metadata": {},
   "outputs": [],
   "source": [
    "L2[2] = 4.9"
   ]
  },
  {
   "cell_type": "code",
   "execution_count": 41,
   "id": "e6574cc7-1106-473f-9840-ba6f664deae8",
   "metadata": {},
   "outputs": [
    {
     "data": {
      "text/plain": [
       "[1, 3, 4.9, 'name', 3, 'how', 'are', 6, 'you', 8.9]"
      ]
     },
     "execution_count": 41,
     "metadata": {},
     "output_type": "execute_result"
    }
   ],
   "source": [
    "L2"
   ]
  },
  {
   "cell_type": "code",
   "execution_count": 42,
   "id": "ca53883f-b6e7-4354-8d4c-145897e933c2",
   "metadata": {},
   "outputs": [
    {
     "data": {
      "text/plain": [
       "[1, 3, 4.9, 'name', 3, 'how', 'are', 6, 'you', 8.9]"
      ]
     },
     "execution_count": 42,
     "metadata": {},
     "output_type": "execute_result"
    }
   ],
   "source": [
    "L"
   ]
  },
  {
   "cell_type": "code",
   "execution_count": 43,
   "id": "6c8591cd-1484-4bed-9cc1-9c1b98832373",
   "metadata": {},
   "outputs": [],
   "source": [
    "L2[3] = 45"
   ]
  },
  {
   "cell_type": "code",
   "execution_count": 44,
   "id": "7c740fc0-72ee-4970-90b4-e55690799dc9",
   "metadata": {},
   "outputs": [
    {
     "data": {
      "text/plain": [
       "[1, 3, 4.9, 45, 3, 'how', 'are', 6, 'you', 8.9]"
      ]
     },
     "execution_count": 44,
     "metadata": {},
     "output_type": "execute_result"
    }
   ],
   "source": [
    "L2"
   ]
  },
  {
   "cell_type": "code",
   "execution_count": 45,
   "id": "cd3f7afc-1b7a-4f9a-8f4d-46ef2994a2b9",
   "metadata": {},
   "outputs": [
    {
     "data": {
      "text/plain": [
       "[1, 3, 4.9, 'name', 3, 'how', 'are', 6, 'you', 8.9]"
      ]
     },
     "execution_count": 45,
     "metadata": {},
     "output_type": "execute_result"
    }
   ],
   "source": [
    "L"
   ]
  },
  {
   "cell_type": "code",
   "execution_count": 46,
   "id": "da1f7958-b396-42db-bfae-4642ab518f26",
   "metadata": {},
   "outputs": [],
   "source": [
    "L3 = L[1:5]"
   ]
  },
  {
   "cell_type": "code",
   "execution_count": 47,
   "id": "994adcd1-151e-4d8e-b99a-9ba33b3bb327",
   "metadata": {},
   "outputs": [
    {
     "data": {
      "text/plain": [
       "[3, 4.9, 'name', 3]"
      ]
     },
     "execution_count": 47,
     "metadata": {},
     "output_type": "execute_result"
    }
   ],
   "source": [
    "L3"
   ]
  },
  {
   "cell_type": "code",
   "execution_count": 48,
   "id": "8eac2ab7-610e-45ed-b53f-99ba47995202",
   "metadata": {},
   "outputs": [
    {
     "name": "stdout",
     "output_type": "stream",
     "text": [
      "Help on built-in function append:\n",
      "\n",
      "append(object, /) method of builtins.list instance\n",
      "    Append object to the end of the list.\n",
      "\n"
     ]
    }
   ],
   "source": [
    "help(L.append)"
   ]
  },
  {
   "cell_type": "code",
   "execution_count": 49,
   "id": "de328f35-891a-4f0d-92a5-952b08f8576f",
   "metadata": {},
   "outputs": [
    {
     "data": {
      "text/plain": [
       "\u001b[31mSignature:\u001b[39m L.clear()\n",
       "\u001b[31mDocstring:\u001b[39m Remove all items from list.\n",
       "\u001b[31mType:\u001b[39m      builtin_function_or_method"
      ]
     },
     "metadata": {},
     "output_type": "display_data"
    }
   ],
   "source": [
    "L.clear?"
   ]
  },
  {
   "cell_type": "code",
   "execution_count": 50,
   "id": "0a208f68-f1ec-4a98-a713-b6916d644324",
   "metadata": {},
   "outputs": [
    {
     "data": {
      "text/plain": [
       "\u001b[31mSignature:\u001b[39m L.pop(index=-\u001b[32m1\u001b[39m, /)\n",
       "\u001b[31mDocstring:\u001b[39m\n",
       "Remove and return item at index (default last).\n",
       "\n",
       "Raises IndexError if list is empty or index is out of range.\n",
       "\u001b[31mType:\u001b[39m      builtin_function_or_method"
      ]
     },
     "metadata": {},
     "output_type": "display_data"
    }
   ],
   "source": [
    "L.pop?"
   ]
  },
  {
   "cell_type": "code",
   "execution_count": 51,
   "id": "d7a5eb21-4a61-4da3-b2b0-4bed7d729264",
   "metadata": {},
   "outputs": [
    {
     "data": {
      "text/plain": [
       "\u001b[31mSignature:\u001b[39m D.items()\n",
       "\u001b[31mDocstring:\u001b[39m Return a set-like object providing a view on the dict's items.\n",
       "\u001b[31mType:\u001b[39m      builtin_function_or_method"
      ]
     },
     "metadata": {},
     "output_type": "display_data"
    }
   ],
   "source": [
    "D.items?"
   ]
  },
  {
   "cell_type": "code",
   "execution_count": 52,
   "id": "bb16fccb-69f6-41a7-aff8-6d9e997bf7cb",
   "metadata": {},
   "outputs": [
    {
     "data": {
      "text/plain": [
       "[1, 3, 4.9, 'name', 3, 'how', 'are', 6, 'you', 8.9]"
      ]
     },
     "execution_count": 52,
     "metadata": {},
     "output_type": "execute_result"
    }
   ],
   "source": [
    "L "
   ]
  },
  {
   "cell_type": "code",
   "execution_count": 53,
   "id": "a2152dc8-fbd0-4080-8906-8fcf2c447e7f",
   "metadata": {},
   "outputs": [
    {
     "data": {
      "text/plain": [
       "(1, 3, 4.9, 'name')"
      ]
     },
     "execution_count": 53,
     "metadata": {},
     "output_type": "execute_result"
    }
   ],
   "source": [
    "T"
   ]
  },
  {
   "cell_type": "code",
   "execution_count": 54,
   "id": "c20dbef1-d3bf-46c7-b55a-607be36388ca",
   "metadata": {},
   "outputs": [
    {
     "data": {
      "text/plain": [
       "{1, 3, 4.9, 23}"
      ]
     },
     "execution_count": 54,
     "metadata": {},
     "output_type": "execute_result"
    }
   ],
   "source": [
    "S"
   ]
  },
  {
   "cell_type": "code",
   "execution_count": 55,
   "id": "ddd002c7-995e-4430-9be7-7e615bb28a97",
   "metadata": {},
   "outputs": [
    {
     "ename": "NameError",
     "evalue": "name 'DD' is not defined",
     "output_type": "error",
     "traceback": [
      "\u001b[31m---------------------------------------------------------------------------\u001b[39m",
      "\u001b[31mNameError\u001b[39m                                 Traceback (most recent call last)",
      "\u001b[36mCell\u001b[39m\u001b[36m \u001b[39m\u001b[32mIn[55]\u001b[39m\u001b[32m, line 1\u001b[39m\n\u001b[32m----> \u001b[39m\u001b[32m1\u001b[39m \u001b[43mDD\u001b[49m\n",
      "\u001b[31mNameError\u001b[39m: name 'DD' is not defined"
     ]
    }
   ],
   "source": [
    "DD"
   ]
  },
  {
   "cell_type": "code",
   "execution_count": 56,
   "id": "456d94ba-c082-41c6-890b-99353de1e18b",
   "metadata": {},
   "outputs": [
    {
     "data": {
      "text/plain": [
       "{23: 'Jordan', 34: 'Lebron', 'newKey': 'newValue', 'X': 23, 'Y': 45}"
      ]
     },
     "execution_count": 56,
     "metadata": {},
     "output_type": "execute_result"
    }
   ],
   "source": [
    "D"
   ]
  },
  {
   "cell_type": "code",
   "execution_count": 57,
   "id": "6bbe43dc-e498-49e0-81b3-fe71f3799f19",
   "metadata": {},
   "outputs": [],
   "source": [
    "DD = {\"A\" : L , \"B\": T , \"C\":S , \"D\":D}"
   ]
  },
  {
   "cell_type": "code",
   "execution_count": 58,
   "id": "4973e113-5bbe-4f10-b69b-4f523efdb216",
   "metadata": {},
   "outputs": [
    {
     "data": {
      "text/plain": [
       "{'A': [1, 3, 4.9, 'name', 3, 'how', 'are', 6, 'you', 8.9],\n",
       " 'B': (1, 3, 4.9, 'name'),\n",
       " 'C': {1, 3, 4.9, 23},\n",
       " 'D': {23: 'Jordan', 34: 'Lebron', 'newKey': 'newValue', 'X': 23, 'Y': 45}}"
      ]
     },
     "execution_count": 58,
     "metadata": {},
     "output_type": "execute_result"
    }
   ],
   "source": [
    "DD"
   ]
  },
  {
   "cell_type": "code",
   "execution_count": 59,
   "id": "c7ce8d32-f83c-4f69-9ac0-2e1ece9df0e0",
   "metadata": {},
   "outputs": [
    {
     "data": {
      "text/plain": [
       "[1, 3, 4.9, 'name', 3, 'how', 'are', 6, 'you', 8.9]"
      ]
     },
     "execution_count": 59,
     "metadata": {},
     "output_type": "execute_result"
    }
   ],
   "source": [
    "DD['A']"
   ]
  },
  {
   "cell_type": "code",
   "execution_count": 60,
   "id": "010d94aa-b84d-42c4-9bed-b429776fc66b",
   "metadata": {},
   "outputs": [
    {
     "data": {
      "text/plain": [
       "4.9"
      ]
     },
     "execution_count": 60,
     "metadata": {},
     "output_type": "execute_result"
    }
   ],
   "source": [
    "DD['A'][2]"
   ]
  },
  {
   "cell_type": "code",
   "execution_count": 61,
   "id": "37d7c2fc-542a-48fe-8e80-c774b41b5d2a",
   "metadata": {},
   "outputs": [],
   "source": [
    "K = DD['D']"
   ]
  },
  {
   "cell_type": "code",
   "execution_count": 62,
   "id": "d0cdaf4d-ba66-4c87-8cb9-45ae04bd4240",
   "metadata": {},
   "outputs": [
    {
     "data": {
      "text/plain": [
       "{23: 'Jordan', 34: 'Lebron', 'newKey': 'newValue', 'X': 23, 'Y': 45}"
      ]
     },
     "execution_count": 62,
     "metadata": {},
     "output_type": "execute_result"
    }
   ],
   "source": [
    "K"
   ]
  },
  {
   "cell_type": "code",
   "execution_count": 64,
   "id": "abaf97b4-1825-4ab7-b51a-aff5ebd906b0",
   "metadata": {},
   "outputs": [
    {
     "name": "stdout",
     "output_type": "stream",
     "text": [
      "23 Jordan\n",
      "34 Lebron\n",
      "newKey newValue\n",
      "X 23\n",
      "Y 45\n"
     ]
    }
   ],
   "source": [
    "for x in K :\n",
    "    print(x , K[x])"
   ]
  },
  {
   "cell_type": "code",
   "execution_count": 65,
   "id": "4bc609d9-0ac0-4333-bd76-a4d6a2250296",
   "metadata": {},
   "outputs": [],
   "source": [
    "L4 = [L , T , S , D , 23 , \"name\"]"
   ]
  },
  {
   "cell_type": "code",
   "execution_count": 66,
   "id": "fde94782-3189-4e1d-9aed-e391b7c856c1",
   "metadata": {},
   "outputs": [
    {
     "data": {
      "text/plain": [
       "[[1, 3, 4.9, 'name', 3, 'how', 'are', 6, 'you', 8.9],\n",
       " (1, 3, 4.9, 'name'),\n",
       " {1, 3, 4.9, 23},\n",
       " {23: 'Jordan', 34: 'Lebron', 'newKey': 'newValue', 'X': 23, 'Y': 45},\n",
       " 23,\n",
       " 'name']"
      ]
     },
     "execution_count": 66,
     "metadata": {},
     "output_type": "execute_result"
    }
   ],
   "source": [
    "L4"
   ]
  },
  {
   "cell_type": "code",
   "execution_count": 67,
   "id": "b9cd6131-9a03-4c39-af1f-11b5f46b4035",
   "metadata": {},
   "outputs": [
    {
     "data": {
      "text/plain": [
       "set"
      ]
     },
     "execution_count": 67,
     "metadata": {},
     "output_type": "execute_result"
    }
   ],
   "source": [
    "type(L4[2])"
   ]
  },
  {
   "cell_type": "code",
   "execution_count": 68,
   "id": "0894a310-cfb2-40e8-bd6b-629b95facc91",
   "metadata": {},
   "outputs": [],
   "source": [
    "L5 = [x**2 for x in range(10)]"
   ]
  },
  {
   "cell_type": "code",
   "execution_count": 69,
   "id": "80092c81-b2ca-4965-80c3-f37c8e72684b",
   "metadata": {},
   "outputs": [
    {
     "data": {
      "text/plain": [
       "[0, 1, 4, 9, 16, 25, 36, 49, 64, 81]"
      ]
     },
     "execution_count": 69,
     "metadata": {},
     "output_type": "execute_result"
    }
   ],
   "source": [
    "L5"
   ]
  },
  {
   "cell_type": "code",
   "execution_count": 70,
   "id": "0595bd4c-859d-42d8-8f40-1f11cfd29223",
   "metadata": {},
   "outputs": [],
   "source": [
    "S3 = {x**2 for x in range(2 , 20 , 3)}"
   ]
  },
  {
   "cell_type": "code",
   "execution_count": 71,
   "id": "0c8b0326-6e1c-4261-99e6-7f626d8ba5d0",
   "metadata": {},
   "outputs": [
    {
     "data": {
      "text/plain": [
       "{4, 25, 64, 121, 196, 289}"
      ]
     },
     "execution_count": 71,
     "metadata": {},
     "output_type": "execute_result"
    }
   ],
   "source": [
    "S3"
   ]
  },
  {
   "cell_type": "code",
   "execution_count": 72,
   "id": "9da17e4f-3c1c-4024-9414-f1d704e9fe7c",
   "metadata": {},
   "outputs": [
    {
     "data": {
      "text/plain": [
       "False"
      ]
     },
     "execution_count": 72,
     "metadata": {},
     "output_type": "execute_result"
    }
   ],
   "source": [
    "43 in D"
   ]
  },
  {
   "cell_type": "code",
   "execution_count": 73,
   "id": "4354d24c-54a7-4cf3-95ba-d3168e4e4c7c",
   "metadata": {},
   "outputs": [
    {
     "ename": "SyntaxError",
     "evalue": "invalid syntax (3540573613.py, line 1)",
     "output_type": "error",
     "traceback": [
      "  \u001b[36mCell\u001b[39m\u001b[36m \u001b[39m\u001b[32mIn[73]\u001b[39m\u001b[32m, line 1\u001b[39m\n\u001b[31m    \u001b[39m\u001b[31m\"\"Lets say you are a teacher and you have students records containing id of a student and the marks list subject where different\u001b[39m\n      ^\n\u001b[31mSyntaxError\u001b[39m\u001b[31m:\u001b[39m invalid syntax\n"
     ]
    }
   ],
   "source": [
    "\"\"Lets say you are a teacher and you have students records containing id of a student and the marks list subject where different \n",
    "students have taken different number of subjects all are in hard. You want to enter all the data in computer and want to\n",
    "compute the average marks of student and display \"\""
   ]
  },
  {
   "cell_type": "code",
   "execution_count": 76,
   "id": "000571b1-4a94-47b9-8501-977ac405881b",
   "metadata": {},
   "outputs": [],
   "source": [
    "def getDataFromUser():\n",
    "    D = {}\n",
    "    while True:\n",
    "        studentId = input(\"Enter student ID:  \")\n",
    "        marksList = input(\"Enter the marks by comma separated values:  \")\n",
    "        moreStudents = input(\"Enter 'no' to quit insertion \")\n",
    "        if studentId in D:\n",
    "            print(studentId, \"is already inserted\")\n",
    "        else:\n",
    "            D[studentId] = marksList.split(\",\")\n",
    "        if moreStudents.lower() == 'no':\n",
    "            return D\n",
    "            "
   ]
  },
  {
   "cell_type": "code",
   "execution_count": 75,
   "id": "dee2dfba-284a-4300-b61c-a98ededa2a9e",
   "metadata": {},
   "outputs": [
    {
     "name": "stdin",
     "output_type": "stream",
     "text": [
      "Enter student ID:   123\n",
      "Enter the marks by comma separated values:   23 , 45 , 67\n",
      "Enter 'no' to quit insertion  kahdk\n"
     ]
    },
    {
     "ename": "NameError",
     "evalue": "name 'moreStudent' is not defined",
     "output_type": "error",
     "traceback": [
      "\u001b[31m---------------------------------------------------------------------------\u001b[39m",
      "\u001b[31mNameError\u001b[39m                                 Traceback (most recent call last)",
      "\u001b[36mCell\u001b[39m\u001b[36m \u001b[39m\u001b[32mIn[75]\u001b[39m\u001b[32m, line 1\u001b[39m\n\u001b[32m----> \u001b[39m\u001b[32m1\u001b[39m studentData = \u001b[43mgetDataFromUser\u001b[49m\u001b[43m(\u001b[49m\u001b[43m)\u001b[49m\n",
      "\u001b[36mCell\u001b[39m\u001b[36m \u001b[39m\u001b[32mIn[74]\u001b[39m\u001b[32m, line 11\u001b[39m, in \u001b[36mgetDataFromUser\u001b[39m\u001b[34m()\u001b[39m\n\u001b[32m      9\u001b[39m \u001b[38;5;28;01melse\u001b[39;00m:\n\u001b[32m     10\u001b[39m     D[studentId] = marksList.split(\u001b[33m\"\u001b[39m\u001b[33m,\u001b[39m\u001b[33m\"\u001b[39m)\n\u001b[32m---> \u001b[39m\u001b[32m11\u001b[39m \u001b[38;5;28;01mif\u001b[39;00m \u001b[43mmoreStudent\u001b[49m.lower() == \u001b[33m'\u001b[39m\u001b[33mno\u001b[39m\u001b[33m'\u001b[39m:\n\u001b[32m     12\u001b[39m     \u001b[38;5;28;01mreturn\u001b[39;00m D\n",
      "\u001b[31mNameError\u001b[39m: name 'moreStudent' is not defined"
     ]
    }
   ],
   "source": [
    "studentData = getDataFromUser()"
   ]
  },
  {
   "cell_type": "code",
   "execution_count": null,
   "id": "594ce001-0bb6-4d04-9a14-2c62358a5d05",
   "metadata": {},
   "outputs": [],
   "source": []
  },
  {
   "cell_type": "code",
   "execution_count": 77,
   "id": "decc2b25-a993-4b52-90d9-408b7b17c78b",
   "metadata": {},
   "outputs": [],
   "source": [
    "def getDataFromUser():\n",
    "    D = {}\n",
    "    while True:\n",
    "        studentId = input(\"Enter student ID:  \")\n",
    "        marksList = input(\"Enter the marks by comma separated values:  \")\n",
    "        moreStudents = input(\"Enter 'no' to quit insertion \")\n",
    "        if studentId in D:\n",
    "            print(studentId, \"is already inserted\")\n",
    "        else:\n",
    "            D[studentId] = marksList.split(\",\")\n",
    "        if moreStudents.lower() == 'no':\n",
    "            return D"
   ]
  },
  {
   "cell_type": "code",
   "execution_count": 78,
   "id": "4b04f6a3-7b8e-4a6c-aaed-ffd5157f5d7a",
   "metadata": {},
   "outputs": [
    {
     "name": "stdin",
     "output_type": "stream",
     "text": [
      "Enter student ID:   123\n",
      "Enter the marks by comma separated values:   45,23,67\n",
      "Enter 'no' to quit insertion  no\n"
     ]
    }
   ],
   "source": [
    "studentData = getDataFromUser()"
   ]
  },
  {
   "cell_type": "code",
   "execution_count": 79,
   "id": "4bdc8bd0-799a-466a-8f34-18aaed3ccac7",
   "metadata": {},
   "outputs": [
    {
     "name": "stdin",
     "output_type": "stream",
     "text": [
      "Enter student ID:   456\n",
      "Enter the marks by comma separated values:   34, 87,45\n",
      "Enter 'no' to quit insertion  kjhkl\n",
      "Enter student ID:   124\n",
      "Enter the marks by comma separated values:   87,23,44,55,4\n",
      "Enter 'no' to quit insertion  kjhk\n",
      "Enter student ID:   456\n",
      "Enter the marks by comma separated values:   45 ,45\n",
      "Enter 'no' to quit insertion  jhsl\n"
     ]
    },
    {
     "name": "stdout",
     "output_type": "stream",
     "text": [
      "456 is already inserted\n"
     ]
    },
    {
     "name": "stdin",
     "output_type": "stream",
     "text": [
      "Enter student ID:   23\n",
      "Enter the marks by comma separated values:   45,45\n",
      "Enter 'no' to quit insertion  no\n"
     ]
    }
   ],
   "source": [
    "studentData = getDataFromUser()"
   ]
  },
  {
   "cell_type": "code",
   "execution_count": 80,
   "id": "8f03b213-c21e-4ab6-8935-e5f01747195b",
   "metadata": {},
   "outputs": [
    {
     "data": {
      "text/plain": [
       "{'456': ['34', ' 87', '45'],\n",
       " '124': ['87', '23', '44', '55', '4'],\n",
       " '23': ['45', '45']}"
      ]
     },
     "execution_count": 80,
     "metadata": {},
     "output_type": "execute_result"
    }
   ],
   "source": [
    "studentData"
   ]
  },
  {
   "cell_type": "code",
   "execution_count": 81,
   "id": "c3144432-ea55-48f6-bb7d-c2b0310ca4c9",
   "metadata": {},
   "outputs": [],
   "source": [
    "def getAvgMarks(D):\n",
    "    avgMarks = {}\n",
    "    for x in D :\n",
    "        L = D[x]\n",
    "        sum = 0 \n",
    "        for marks in L :\n",
    "            sum += int(marks)\n",
    "        avgMarks[x] = sum / len(L)\n",
    "            \n",
    "            \n",
    "        "
   ]
  },
  {
   "cell_type": "code",
   "execution_count": 82,
   "id": "ae9d9db2-ae31-43aa-ad84-33aec09be434",
   "metadata": {},
   "outputs": [
    {
     "ename": "NameError",
     "evalue": "name 's' is not defined",
     "output_type": "error",
     "traceback": [
      "\u001b[31m---------------------------------------------------------------------------\u001b[39m",
      "\u001b[31mNameError\u001b[39m                                 Traceback (most recent call last)",
      "\u001b[36mCell\u001b[39m\u001b[36m \u001b[39m\u001b[32mIn[82]\u001b[39m\u001b[32m, line 1\u001b[39m\n\u001b[32m----> \u001b[39m\u001b[32m1\u001b[39m avgMarks = \u001b[43mgetAvgMarks\u001b[49m\u001b[43m(\u001b[49m\u001b[43mstudentData\u001b[49m\u001b[43m)\u001b[49m\n",
      "\u001b[36mCell\u001b[39m\u001b[36m \u001b[39m\u001b[32mIn[81]\u001b[39m\u001b[32m, line 8\u001b[39m, in \u001b[36mgetAvgMarks\u001b[39m\u001b[34m(D)\u001b[39m\n\u001b[32m      6\u001b[39m \u001b[38;5;28;01mfor\u001b[39;00m marks \u001b[38;5;129;01min\u001b[39;00m L :\n\u001b[32m      7\u001b[39m     \u001b[38;5;28msum\u001b[39m += \u001b[38;5;28mint\u001b[39m(marks)\n\u001b[32m----> \u001b[39m\u001b[32m8\u001b[39m avgMarks[x] = \u001b[43ms\u001b[49m / \u001b[38;5;28mlen\u001b[39m(L)\n",
      "\u001b[31mNameError\u001b[39m: name 's' is not defined"
     ]
    }
   ],
   "source": [
    "avgMarks = getAvgMarks(studentData)"
   ]
  },
  {
   "cell_type": "code",
   "execution_count": 83,
   "id": "dbfb4969-fdc5-46d0-bfef-37c88b8d5673",
   "metadata": {},
   "outputs": [
    {
     "ename": "NameError",
     "evalue": "name 's' is not defined",
     "output_type": "error",
     "traceback": [
      "\u001b[31m---------------------------------------------------------------------------\u001b[39m",
      "\u001b[31mNameError\u001b[39m                                 Traceback (most recent call last)",
      "\u001b[36mCell\u001b[39m\u001b[36m \u001b[39m\u001b[32mIn[83]\u001b[39m\u001b[32m, line 1\u001b[39m\n\u001b[32m----> \u001b[39m\u001b[32m1\u001b[39m avgMarks = \u001b[43mgetAvgMarks\u001b[49m\u001b[43m(\u001b[49m\u001b[43mstudentData\u001b[49m\u001b[43m)\u001b[49m\n",
      "\u001b[36mCell\u001b[39m\u001b[36m \u001b[39m\u001b[32mIn[81]\u001b[39m\u001b[32m, line 8\u001b[39m, in \u001b[36mgetAvgMarks\u001b[39m\u001b[34m(D)\u001b[39m\n\u001b[32m      6\u001b[39m \u001b[38;5;28;01mfor\u001b[39;00m marks \u001b[38;5;129;01min\u001b[39;00m L :\n\u001b[32m      7\u001b[39m     \u001b[38;5;28msum\u001b[39m += \u001b[38;5;28mint\u001b[39m(marks)\n\u001b[32m----> \u001b[39m\u001b[32m8\u001b[39m avgMarks[x] = \u001b[43ms\u001b[49m / \u001b[38;5;28mlen\u001b[39m(L)\n",
      "\u001b[31mNameError\u001b[39m: name 's' is not defined"
     ]
    }
   ],
   "source": [
    "avgMarks = getAvgMarks(studentData)"
   ]
  },
  {
   "cell_type": "code",
   "execution_count": 88,
   "id": "9f7e505f-e146-494e-bd6d-5a4098b44658",
   "metadata": {},
   "outputs": [],
   "source": [
    "def getAvgMarks(D):\n",
    "    avgMarks = {}\n",
    "    for x in D :\n",
    "        L = D[x]\n",
    "        sum = 0 \n",
    "        for marks in L :\n",
    "            sum += int(marks)\n",
    "        avgMarks[x] = sum / len(L)\n",
    "    return avgMarks\n",
    "            "
   ]
  },
  {
   "cell_type": "code",
   "execution_count": 89,
   "id": "ed2703a9-f367-47dd-96f1-f9b6d5edb1db",
   "metadata": {},
   "outputs": [],
   "source": [
    "avgMarks = getAvgMarks(studentData)"
   ]
  },
  {
   "cell_type": "code",
   "execution_count": 95,
   "id": "f35db95e-9aab-43ba-9207-47c7fde98ce0",
   "metadata": {},
   "outputs": [
    {
     "name": "stdout",
     "output_type": "stream",
     "text": [
      "Student :  456 got avg marks as:  55.333333333333336\n",
      "Student :  124 got avg marks as:  42.6\n",
      "Student :  23 got avg marks as:  45.0\n"
     ]
    }
   ],
   "source": [
    "for x in avgMarks:\n",
    "    print('Student : ', x, 'got avg marks as: ', avgMarks[x])"
   ]
  },
  {
   "cell_type": "code",
   "execution_count": 96,
   "id": "71587916-bcb1-4f41-9e7f-b6b7d6dd5c7c",
   "metadata": {},
   "outputs": [
    {
     "name": "stdout",
     "output_type": "stream",
     "text": [
      "{'456': 55.333333333333336, '124': 42.6, '23': 45.0}\n"
     ]
    }
   ],
   "source": [
    "print(avgMarks)"
   ]
  },
  {
   "cell_type": "code",
   "execution_count": 97,
   "id": "53ff7a7a-cfa2-4839-8a2c-364e060c746d",
   "metadata": {},
   "outputs": [
    {
     "ename": "ModuleNotFoundError",
     "evalue": "No module named 'numpy'",
     "output_type": "error",
     "traceback": [
      "\u001b[31m---------------------------------------------------------------------------\u001b[39m",
      "\u001b[31mModuleNotFoundError\u001b[39m                       Traceback (most recent call last)",
      "\u001b[36mCell\u001b[39m\u001b[36m \u001b[39m\u001b[32mIn[97]\u001b[39m\u001b[32m, line 1\u001b[39m\n\u001b[32m----> \u001b[39m\u001b[32m1\u001b[39m \u001b[38;5;28;01mimport\u001b[39;00m\u001b[38;5;250m \u001b[39m\u001b[34;01mnumpy\u001b[39;00m\u001b[38;5;250m \u001b[39m\u001b[38;5;28;01mas\u001b[39;00m\u001b[38;5;250m \u001b[39m\u001b[34;01mnp\u001b[39;00m\n",
      "\u001b[31mModuleNotFoundError\u001b[39m: No module named 'numpy'"
     ]
    }
   ],
   "source": [
    "import numpy as np"
   ]
  },
  {
   "cell_type": "code",
   "execution_count": 98,
   "id": "489b08c5-d948-4562-9c8f-11c080a96f36",
   "metadata": {},
   "outputs": [
    {
     "ename": "ModuleNotFoundError",
     "evalue": "No module named 'numpy'",
     "output_type": "error",
     "traceback": [
      "\u001b[31m---------------------------------------------------------------------------\u001b[39m",
      "\u001b[31mModuleNotFoundError\u001b[39m                       Traceback (most recent call last)",
      "\u001b[36mCell\u001b[39m\u001b[36m \u001b[39m\u001b[32mIn[98]\u001b[39m\u001b[32m, line 1\u001b[39m\n\u001b[32m----> \u001b[39m\u001b[32m1\u001b[39m \u001b[38;5;28;01mimport\u001b[39;00m\u001b[38;5;250m \u001b[39m\u001b[34;01mnumpy\u001b[39;00m\u001b[38;5;250m \u001b[39m\u001b[38;5;28;01mas\u001b[39;00m\u001b[38;5;250m \u001b[39m\u001b[34;01mnp\u001b[39;00m\n",
      "\u001b[31mModuleNotFoundError\u001b[39m: No module named 'numpy'"
     ]
    }
   ],
   "source": [
    "import numpy as np"
   ]
  },
  {
   "cell_type": "code",
   "execution_count": 99,
   "id": "f9264265-f36d-483d-9cc1-3617704db547",
   "metadata": {},
   "outputs": [
    {
     "name": "stdout",
     "output_type": "stream",
     "text": [
      "Collecting numpy\n",
      "  Downloading numpy-2.3.3-cp313-cp313-win_amd64.whl.metadata (60 kB)\n",
      "Downloading numpy-2.3.3-cp313-cp313-win_amd64.whl (12.8 MB)\n",
      "   ---------------------------------------- 0.0/12.8 MB ? eta -:--:--\n",
      "   ---------------------------------------- 0.0/12.8 MB ? eta -:--:--\n",
      "   ---------------------------------------- 0.0/12.8 MB ? eta -:--:--\n",
      "   ---------------------------------------- 0.0/12.8 MB ? eta -:--:--\n",
      "    --------------------------------------- 0.3/12.8 MB ? eta -:--:--\n",
      "    --------------------------------------- 0.3/12.8 MB ? eta -:--:--\n",
      "    --------------------------------------- 0.3/12.8 MB ? eta -:--:--\n",
      "    --------------------------------------- 0.3/12.8 MB ? eta -:--:--\n",
      "   - -------------------------------------- 0.5/12.8 MB 359.3 kB/s eta 0:00:35\n",
      "   - -------------------------------------- 0.5/12.8 MB 359.3 kB/s eta 0:00:35\n",
      "   -- ------------------------------------- 0.8/12.8 MB 419.0 kB/s eta 0:00:29\n",
      "   -- ------------------------------------- 0.8/12.8 MB 419.0 kB/s eta 0:00:29\n",
      "   -- ------------------------------------- 0.8/12.8 MB 419.0 kB/s eta 0:00:29\n",
      "   -- ------------------------------------- 0.8/12.8 MB 419.0 kB/s eta 0:00:29\n",
      "   -- ------------------------------------- 0.8/12.8 MB 419.0 kB/s eta 0:00:29\n",
      "   --- ------------------------------------ 1.0/12.8 MB 353.0 kB/s eta 0:00:34\n",
      "   --- ------------------------------------ 1.0/12.8 MB 353.0 kB/s eta 0:00:34\n",
      "   --- ------------------------------------ 1.0/12.8 MB 353.0 kB/s eta 0:00:34\n",
      "   --- ------------------------------------ 1.0/12.8 MB 353.0 kB/s eta 0:00:34\n",
      "   --- ------------------------------------ 1.0/12.8 MB 353.0 kB/s eta 0:00:34\n",
      "   ---- ----------------------------------- 1.3/12.8 MB 316.8 kB/s eta 0:00:37\n",
      "   ---- ----------------------------------- 1.3/12.8 MB 316.8 kB/s eta 0:00:37\n",
      "   ---- ----------------------------------- 1.6/12.8 MB 359.2 kB/s eta 0:00:32\n",
      "   ---- ----------------------------------- 1.6/12.8 MB 359.2 kB/s eta 0:00:32\n",
      "   ----- ---------------------------------- 1.8/12.8 MB 373.0 kB/s eta 0:00:30\n",
      "   ----- ---------------------------------- 1.8/12.8 MB 373.0 kB/s eta 0:00:30\n",
      "   ----- ---------------------------------- 1.8/12.8 MB 373.0 kB/s eta 0:00:30\n",
      "   ----- ---------------------------------- 1.8/12.8 MB 373.0 kB/s eta 0:00:30\n",
      "   ----- ---------------------------------- 1.8/12.8 MB 373.0 kB/s eta 0:00:30\n",
      "   ----- ---------------------------------- 1.8/12.8 MB 373.0 kB/s eta 0:00:30\n",
      "   ----- ---------------------------------- 1.8/12.8 MB 373.0 kB/s eta 0:00:30\n",
      "   ------ --------------------------------- 2.1/12.8 MB 330.7 kB/s eta 0:00:33\n",
      "   ------ --------------------------------- 2.1/12.8 MB 330.7 kB/s eta 0:00:33\n",
      "   ------ --------------------------------- 2.1/12.8 MB 330.7 kB/s eta 0:00:33\n",
      "   ------ --------------------------------- 2.1/12.8 MB 330.7 kB/s eta 0:00:33\n",
      "   ------ --------------------------------- 2.1/12.8 MB 330.7 kB/s eta 0:00:33\n",
      "   ------ --------------------------------- 2.1/12.8 MB 330.7 kB/s eta 0:00:33\n",
      "   ------ --------------------------------- 2.1/12.8 MB 330.7 kB/s eta 0:00:33\n",
      "   ------ --------------------------------- 2.1/12.8 MB 330.7 kB/s eta 0:00:33\n",
      "   ------ --------------------------------- 2.1/12.8 MB 330.7 kB/s eta 0:00:33\n",
      "   ------ --------------------------------- 2.1/12.8 MB 330.7 kB/s eta 0:00:33\n",
      "   ------ --------------------------------- 2.1/12.8 MB 330.7 kB/s eta 0:00:33\n",
      "   ------ --------------------------------- 2.1/12.8 MB 330.7 kB/s eta 0:00:33\n",
      "   ------ --------------------------------- 2.1/12.8 MB 330.7 kB/s eta 0:00:33\n",
      "   ------ --------------------------------- 2.1/12.8 MB 330.7 kB/s eta 0:00:33\n",
      "   ------ --------------------------------- 2.1/12.8 MB 330.7 kB/s eta 0:00:33\n",
      "   ------ --------------------------------- 2.1/12.8 MB 330.7 kB/s eta 0:00:33\n",
      "   ------ --------------------------------- 2.1/12.8 MB 330.7 kB/s eta 0:00:33\n",
      "   ------ --------------------------------- 2.1/12.8 MB 330.7 kB/s eta 0:00:33\n",
      "   ------ --------------------------------- 2.1/12.8 MB 330.7 kB/s eta 0:00:33\n",
      "   ------ --------------------------------- 2.1/12.8 MB 330.7 kB/s eta 0:00:33\n",
      "   ------ --------------------------------- 2.1/12.8 MB 330.7 kB/s eta 0:00:33\n",
      "   ------ --------------------------------- 2.1/12.8 MB 330.7 kB/s eta 0:00:33\n",
      "   ------ --------------------------------- 2.1/12.8 MB 330.7 kB/s eta 0:00:33\n",
      "   ------ --------------------------------- 2.1/12.8 MB 330.7 kB/s eta 0:00:33\n",
      "   ------ --------------------------------- 2.1/12.8 MB 330.7 kB/s eta 0:00:33\n",
      "   ------ --------------------------------- 2.1/12.8 MB 330.7 kB/s eta 0:00:33\n",
      "   ------ --------------------------------- 2.1/12.8 MB 330.7 kB/s eta 0:00:33\n",
      "   ------ --------------------------------- 2.1/12.8 MB 330.7 kB/s eta 0:00:33\n",
      "   ------ --------------------------------- 2.1/12.8 MB 330.7 kB/s eta 0:00:33\n",
      "   ------ --------------------------------- 2.1/12.8 MB 330.7 kB/s eta 0:00:33\n",
      "   ------ --------------------------------- 2.1/12.8 MB 330.7 kB/s eta 0:00:33\n",
      "   ------ --------------------------------- 2.1/12.8 MB 330.7 kB/s eta 0:00:33\n",
      "   ------- -------------------------------- 2.4/12.8 MB 171.6 kB/s eta 0:01:01\n",
      "   ------- -------------------------------- 2.4/12.8 MB 171.6 kB/s eta 0:01:01\n",
      "   ------- -------------------------------- 2.4/12.8 MB 171.6 kB/s eta 0:01:01\n",
      "   ------- -------------------------------- 2.4/12.8 MB 171.6 kB/s eta 0:01:01\n",
      "   -------- ------------------------------- 2.6/12.8 MB 178.6 kB/s eta 0:00:57\n",
      "   -------- ------------------------------- 2.6/12.8 MB 178.6 kB/s eta 0:00:57\n",
      "   -------- ------------------------------- 2.6/12.8 MB 178.6 kB/s eta 0:00:57\n",
      "   -------- ------------------------------- 2.6/12.8 MB 178.6 kB/s eta 0:00:57\n",
      "   -------- ------------------------------- 2.6/12.8 MB 178.6 kB/s eta 0:00:57\n",
      "   -------- ------------------------------- 2.6/12.8 MB 178.6 kB/s eta 0:00:57\n",
      "   -------- ------------------------------- 2.6/12.8 MB 178.6 kB/s eta 0:00:57\n",
      "   -------- ------------------------------- 2.6/12.8 MB 178.6 kB/s eta 0:00:57\n",
      "   -------- ------------------------------- 2.6/12.8 MB 178.6 kB/s eta 0:00:57\n",
      "   -------- ------------------------------- 2.6/12.8 MB 178.6 kB/s eta 0:00:57\n",
      "   -------- ------------------------------- 2.6/12.8 MB 178.6 kB/s eta 0:00:57\n",
      "   -------- ------------------------------- 2.6/12.8 MB 178.6 kB/s eta 0:00:57\n",
      "   -------- ------------------------------- 2.6/12.8 MB 178.6 kB/s eta 0:00:57\n",
      "   -------- ------------------------------- 2.6/12.8 MB 178.6 kB/s eta 0:00:57\n",
      "   -------- ------------------------------- 2.6/12.8 MB 178.6 kB/s eta 0:00:57\n",
      "   -------- ------------------------------- 2.6/12.8 MB 178.6 kB/s eta 0:00:57\n",
      "   -------- ------------------------------- 2.6/12.8 MB 178.6 kB/s eta 0:00:57\n",
      "   --------- ------------------------------ 2.9/12.8 MB 157.0 kB/s eta 0:01:04\n",
      "   --------- ------------------------------ 2.9/12.8 MB 157.0 kB/s eta 0:01:04\n",
      "   --------- ------------------------------ 2.9/12.8 MB 157.0 kB/s eta 0:01:04\n",
      "   --------- ------------------------------ 2.9/12.8 MB 157.0 kB/s eta 0:01:04\n",
      "   --------- ------------------------------ 2.9/12.8 MB 157.0 kB/s eta 0:01:04\n",
      "   --------- ------------------------------ 2.9/12.8 MB 157.0 kB/s eta 0:01:04\n",
      "   --------- ------------------------------ 2.9/12.8 MB 157.0 kB/s eta 0:01:04\n",
      "   --------- ------------------------------ 2.9/12.8 MB 157.0 kB/s eta 0:01:04\n",
      "   --------- ------------------------------ 2.9/12.8 MB 157.0 kB/s eta 0:01:04\n",
      "   --------- ------------------------------ 2.9/12.8 MB 157.0 kB/s eta 0:01:04\n",
      "   --------- ------------------------------ 2.9/12.8 MB 157.0 kB/s eta 0:01:04\n",
      "   --------- ------------------------------ 2.9/12.8 MB 157.0 kB/s eta 0:01:04\n",
      "   --------- ------------------------------ 3.1/12.8 MB 150.2 kB/s eta 0:01:05\n",
      "   --------- ------------------------------ 3.1/12.8 MB 150.2 kB/s eta 0:01:05\n",
      "   --------- ------------------------------ 3.1/12.8 MB 150.2 kB/s eta 0:01:05\n",
      "   --------- ------------------------------ 3.1/12.8 MB 150.2 kB/s eta 0:01:05\n",
      "   --------- ------------------------------ 3.1/12.8 MB 150.2 kB/s eta 0:01:05\n",
      "   ---------- ----------------------------- 3.4/12.8 MB 154.7 kB/s eta 0:01:01\n",
      "   ---------- ----------------------------- 3.4/12.8 MB 154.7 kB/s eta 0:01:01\n",
      "   ---------- ----------------------------- 3.4/12.8 MB 154.7 kB/s eta 0:01:01\n",
      "   ---------- ----------------------------- 3.4/12.8 MB 154.7 kB/s eta 0:01:01\n",
      "   ---------- ----------------------------- 3.4/12.8 MB 154.7 kB/s eta 0:01:01\n",
      "   ---------- ----------------------------- 3.4/12.8 MB 154.7 kB/s eta 0:01:01\n",
      "   ---------- ----------------------------- 3.4/12.8 MB 154.7 kB/s eta 0:01:01\n",
      "   ----------- ---------------------------- 3.7/12.8 MB 157.0 kB/s eta 0:00:59\n",
      "   ----------- ---------------------------- 3.7/12.8 MB 157.0 kB/s eta 0:00:59\n",
      "   ----------- ---------------------------- 3.7/12.8 MB 157.0 kB/s eta 0:00:59\n",
      "   ----------- ---------------------------- 3.7/12.8 MB 157.0 kB/s eta 0:00:59\n",
      "   ----------- ---------------------------- 3.7/12.8 MB 157.0 kB/s eta 0:00:59\n",
      "   ----------- ---------------------------- 3.7/12.8 MB 157.0 kB/s eta 0:00:59\n",
      "   ----------- ---------------------------- 3.7/12.8 MB 157.0 kB/s eta 0:00:59\n",
      "   ----------- ---------------------------- 3.7/12.8 MB 157.0 kB/s eta 0:00:59\n",
      "   ----------- ---------------------------- 3.7/12.8 MB 157.0 kB/s eta 0:00:59\n",
      "   ----------- ---------------------------- 3.7/12.8 MB 157.0 kB/s eta 0:00:59\n",
      "   ----------- ---------------------------- 3.7/12.8 MB 157.0 kB/s eta 0:00:59\n",
      "   ----------- ---------------------------- 3.7/12.8 MB 157.0 kB/s eta 0:00:59\n",
      "   ----------- ---------------------------- 3.7/12.8 MB 157.0 kB/s eta 0:00:59\n",
      "   ----------- ---------------------------- 3.7/12.8 MB 157.0 kB/s eta 0:00:59\n",
      "   ----------- ---------------------------- 3.7/12.8 MB 157.0 kB/s eta 0:00:59\n",
      "   ----------- ---------------------------- 3.7/12.8 MB 157.0 kB/s eta 0:00:59\n",
      "   ----------- ---------------------------- 3.7/12.8 MB 157.0 kB/s eta 0:00:59\n",
      "   ----------- ---------------------------- 3.7/12.8 MB 157.0 kB/s eta 0:00:59\n",
      "   ------------ --------------------------- 3.9/12.8 MB 143.3 kB/s eta 0:01:02\n",
      "   ------------ --------------------------- 3.9/12.8 MB 143.3 kB/s eta 0:01:02\n",
      "   ------------ --------------------------- 3.9/12.8 MB 143.3 kB/s eta 0:01:02\n",
      "   ------------- -------------------------- 4.2/12.8 MB 150.2 kB/s eta 0:00:58\n",
      "   ------------- -------------------------- 4.2/12.8 MB 150.2 kB/s eta 0:00:58\n",
      "   ------------- -------------------------- 4.2/12.8 MB 150.2 kB/s eta 0:00:58\n",
      "   ------------- -------------------------- 4.2/12.8 MB 150.2 kB/s eta 0:00:58\n",
      "   ------------- -------------------------- 4.5/12.8 MB 155.3 kB/s eta 0:00:54\n",
      "   ------------- -------------------------- 4.5/12.8 MB 155.3 kB/s eta 0:00:54\n",
      "   ------------- -------------------------- 4.5/12.8 MB 155.3 kB/s eta 0:00:54\n",
      "   ------------- -------------------------- 4.5/12.8 MB 155.3 kB/s eta 0:00:54\n",
      "   ------------- -------------------------- 4.5/12.8 MB 155.3 kB/s eta 0:00:54\n",
      "   ------------- -------------------------- 4.5/12.8 MB 155.3 kB/s eta 0:00:54\n",
      "   ------------- -------------------------- 4.5/12.8 MB 155.3 kB/s eta 0:00:54\n",
      "   ------------- -------------------------- 4.5/12.8 MB 155.3 kB/s eta 0:00:54\n",
      "   ------------- -------------------------- 4.5/12.8 MB 155.3 kB/s eta 0:00:54\n",
      "   ------------- -------------------------- 4.5/12.8 MB 155.3 kB/s eta 0:00:54\n",
      "   ------------- -------------------------- 4.5/12.8 MB 155.3 kB/s eta 0:00:54\n",
      "   ------------- -------------------------- 4.5/12.8 MB 155.3 kB/s eta 0:00:54\n",
      "   ------------- -------------------------- 4.5/12.8 MB 155.3 kB/s eta 0:00:54\n",
      "   ------------- -------------------------- 4.5/12.8 MB 155.3 kB/s eta 0:00:54\n",
      "   ------------- -------------------------- 4.5/12.8 MB 155.3 kB/s eta 0:00:54\n",
      "   ------------- -------------------------- 4.5/12.8 MB 155.3 kB/s eta 0:00:54\n",
      "   ------------- -------------------------- 4.5/12.8 MB 155.3 kB/s eta 0:00:54\n",
      "   ------------- -------------------------- 4.5/12.8 MB 155.3 kB/s eta 0:00:54\n",
      "   ------------- -------------------------- 4.5/12.8 MB 155.3 kB/s eta 0:00:54\n",
      "   ------------- -------------------------- 4.5/12.8 MB 155.3 kB/s eta 0:00:54\n",
      "   ------------- -------------------------- 4.5/12.8 MB 155.3 kB/s eta 0:00:54\n",
      "   ------------- -------------------------- 4.5/12.8 MB 155.3 kB/s eta 0:00:54\n",
      "   ------------- -------------------------- 4.5/12.8 MB 155.3 kB/s eta 0:00:54\n",
      "   ------------- -------------------------- 4.5/12.8 MB 155.3 kB/s eta 0:00:54\n",
      "   -------------- ------------------------- 4.7/12.8 MB 123.3 kB/s eta 0:01:06\n",
      "   -------------- ------------------------- 4.7/12.8 MB 123.3 kB/s eta 0:01:06\n",
      "   -------------- ------------------------- 4.7/12.8 MB 123.3 kB/s eta 0:01:06\n",
      "   -------------- ------------------------- 4.7/12.8 MB 123.3 kB/s eta 0:01:06\n",
      "   -------------- ------------------------- 4.7/12.8 MB 123.3 kB/s eta 0:01:06\n",
      "   -------------- ------------------------- 4.7/12.8 MB 123.3 kB/s eta 0:01:06\n",
      "   -------------- ------------------------- 4.7/12.8 MB 123.3 kB/s eta 0:01:06\n",
      "   --------------- ------------------------ 5.0/12.8 MB 114.2 kB/s eta 0:01:09\n",
      "   --------------- ------------------------ 5.0/12.8 MB 114.2 kB/s eta 0:01:09\n",
      "   --------------- ------------------------ 5.0/12.8 MB 114.2 kB/s eta 0:01:09\n",
      "   ---------------- ----------------------- 5.2/12.8 MB 114.1 kB/s eta 0:01:07\n",
      "   ---------------- ----------------------- 5.2/12.8 MB 114.1 kB/s eta 0:01:07\n",
      "   ---------------- ----------------------- 5.2/12.8 MB 114.1 kB/s eta 0:01:07\n",
      "   ---------------- ----------------------- 5.2/12.8 MB 114.1 kB/s eta 0:01:07\n",
      "   ----------------- ---------------------- 5.5/12.8 MB 115.9 kB/s eta 0:01:03\n",
      "   ----------------- ---------------------- 5.5/12.8 MB 115.9 kB/s eta 0:01:03\n",
      "   ----------------- ---------------------- 5.5/12.8 MB 115.9 kB/s eta 0:01:03\n",
      "   ----------------- ---------------------- 5.5/12.8 MB 115.9 kB/s eta 0:01:03\n",
      "   ------------------ --------------------- 5.8/12.8 MB 143.8 kB/s eta 0:00:49\n",
      "   ------------------ --------------------- 5.8/12.8 MB 143.8 kB/s eta 0:00:49\n",
      "   ------------------ --------------------- 6.0/12.8 MB 152.7 kB/s eta 0:00:45\n",
      "   ------------------ --------------------- 6.0/12.8 MB 152.7 kB/s eta 0:00:45\n",
      "   ------------------ --------------------- 6.0/12.8 MB 152.7 kB/s eta 0:00:45\n",
      "   ------------------ --------------------- 6.0/12.8 MB 152.7 kB/s eta 0:00:45\n",
      "   ------------------ --------------------- 6.0/12.8 MB 152.7 kB/s eta 0:00:45\n",
      "   ------------------- -------------------- 6.3/12.8 MB 157.0 kB/s eta 0:00:42\n",
      "   ------------------- -------------------- 6.3/12.8 MB 157.0 kB/s eta 0:00:42\n",
      "   ------------------- -------------------- 6.3/12.8 MB 157.0 kB/s eta 0:00:42\n",
      "   ------------------- -------------------- 6.3/12.8 MB 157.0 kB/s eta 0:00:42\n",
      "   ------------------- -------------------- 6.3/12.8 MB 157.0 kB/s eta 0:00:42\n",
      "   ------------------- -------------------- 6.3/12.8 MB 157.0 kB/s eta 0:00:42\n",
      "   ------------------- -------------------- 6.3/12.8 MB 157.0 kB/s eta 0:00:42\n",
      "   ------------------- -------------------- 6.3/12.8 MB 157.0 kB/s eta 0:00:42\n",
      "   ------------------- -------------------- 6.3/12.8 MB 157.0 kB/s eta 0:00:42\n",
      "   ------------------- -------------------- 6.3/12.8 MB 157.0 kB/s eta 0:00:42\n",
      "   ------------------- -------------------- 6.3/12.8 MB 157.0 kB/s eta 0:00:42\n",
      "   ------------------- -------------------- 6.3/12.8 MB 157.0 kB/s eta 0:00:42\n",
      "   ------------------- -------------------- 6.3/12.8 MB 157.0 kB/s eta 0:00:42\n",
      "   ------------------- -------------------- 6.3/12.8 MB 157.0 kB/s eta 0:00:42\n",
      "   ------------------- -------------------- 6.3/12.8 MB 157.0 kB/s eta 0:00:42\n",
      "   ------------------- -------------------- 6.3/12.8 MB 157.0 kB/s eta 0:00:42\n",
      "   ------------------- -------------------- 6.3/12.8 MB 157.0 kB/s eta 0:00:42\n",
      "   ------------------- -------------------- 6.3/12.8 MB 157.0 kB/s eta 0:00:42\n",
      "   ------------------- -------------------- 6.3/12.8 MB 157.0 kB/s eta 0:00:42\n",
      "   ------------------- -------------------- 6.3/12.8 MB 157.0 kB/s eta 0:00:42\n",
      "   ------------------- -------------------- 6.3/12.8 MB 157.0 kB/s eta 0:00:42\n",
      "   ------------------- -------------------- 6.3/12.8 MB 157.0 kB/s eta 0:00:42\n",
      "   ------------------- -------------------- 6.3/12.8 MB 157.0 kB/s eta 0:00:42\n",
      "   ------------------- -------------------- 6.3/12.8 MB 157.0 kB/s eta 0:00:42\n",
      "   ------------------- -------------------- 6.3/12.8 MB 157.0 kB/s eta 0:00:42\n",
      "   ------------------- -------------------- 6.3/12.8 MB 157.0 kB/s eta 0:00:42\n",
      "   ------------------- -------------------- 6.3/12.8 MB 157.0 kB/s eta 0:00:42\n",
      "   ------------------- -------------------- 6.3/12.8 MB 157.0 kB/s eta 0:00:42\n",
      "   ------------------- -------------------- 6.3/12.8 MB 157.0 kB/s eta 0:00:42\n",
      "   ------------------- -------------------- 6.3/12.8 MB 157.0 kB/s eta 0:00:42\n",
      "   ------------------- -------------------- 6.3/12.8 MB 157.0 kB/s eta 0:00:42\n",
      "   ------------------- -------------------- 6.3/12.8 MB 157.0 kB/s eta 0:00:42\n",
      "   ------------------- -------------------- 6.3/12.8 MB 157.0 kB/s eta 0:00:42\n",
      "   ------------------- -------------------- 6.3/12.8 MB 157.0 kB/s eta 0:00:42\n",
      "   ------------------- -------------------- 6.3/12.8 MB 157.0 kB/s eta 0:00:42\n",
      "   ------------------- -------------------- 6.3/12.8 MB 157.0 kB/s eta 0:00:42\n",
      "   ------------------- -------------------- 6.3/12.8 MB 157.0 kB/s eta 0:00:42\n",
      "   ------------------- -------------------- 6.3/12.8 MB 157.0 kB/s eta 0:00:42\n",
      "   ------------------- -------------------- 6.3/12.8 MB 157.0 kB/s eta 0:00:42\n",
      "   ------------------- -------------------- 6.3/12.8 MB 157.0 kB/s eta 0:00:42\n",
      "   ------------------- -------------------- 6.3/12.8 MB 157.0 kB/s eta 0:00:42\n",
      "   ------------------- -------------------- 6.3/12.8 MB 157.0 kB/s eta 0:00:42\n",
      "   ------------------- -------------------- 6.3/12.8 MB 157.0 kB/s eta 0:00:42\n",
      "   ------------------- -------------------- 6.3/12.8 MB 157.0 kB/s eta 0:00:42\n",
      "   ------------------- -------------------- 6.3/12.8 MB 157.0 kB/s eta 0:00:42\n",
      "   ------------------- -------------------- 6.3/12.8 MB 157.0 kB/s eta 0:00:42\n",
      "   ------------------- -------------------- 6.3/12.8 MB 157.0 kB/s eta 0:00:42\n",
      "   ------------------- -------------------- 6.3/12.8 MB 157.0 kB/s eta 0:00:42\n",
      "   ------------------- -------------------- 6.3/12.8 MB 157.0 kB/s eta 0:00:42\n",
      "   ------------------- -------------------- 6.3/12.8 MB 157.0 kB/s eta 0:00:42\n",
      "   ------------------- -------------------- 6.3/12.8 MB 157.0 kB/s eta 0:00:42\n",
      "   ------------------- -------------------- 6.3/12.8 MB 157.0 kB/s eta 0:00:42\n",
      "   ------------------- -------------------- 6.3/12.8 MB 157.0 kB/s eta 0:00:42\n",
      "   ------------------- -------------------- 6.3/12.8 MB 157.0 kB/s eta 0:00:42\n",
      "   ------------------- -------------------- 6.3/12.8 MB 157.0 kB/s eta 0:00:42\n",
      "   ------------------- -------------------- 6.3/12.8 MB 157.0 kB/s eta 0:00:42\n",
      "   ------------------- -------------------- 6.3/12.8 MB 157.0 kB/s eta 0:00:42\n",
      "   ------------------- -------------------- 6.3/12.8 MB 157.0 kB/s eta 0:00:42\n",
      "   ------------------- -------------------- 6.3/12.8 MB 157.0 kB/s eta 0:00:42\n",
      "   ------------------- -------------------- 6.3/12.8 MB 157.0 kB/s eta 0:00:42\n",
      "   ------------------- -------------------- 6.3/12.8 MB 157.0 kB/s eta 0:00:42\n",
      "   ------------------- -------------------- 6.3/12.8 MB 157.0 kB/s eta 0:00:42\n",
      "   ------------------- -------------------- 6.3/12.8 MB 157.0 kB/s eta 0:00:42\n",
      "   ------------------- -------------------- 6.3/12.8 MB 157.0 kB/s eta 0:00:42\n",
      "   ------------------- -------------------- 6.3/12.8 MB 157.0 kB/s eta 0:00:42\n",
      "   ------------------- -------------------- 6.3/12.8 MB 157.0 kB/s eta 0:00:42\n",
      "   ------------------- -------------------- 6.3/12.8 MB 157.0 kB/s eta 0:00:42\n",
      "   ------------------- -------------------- 6.3/12.8 MB 157.0 kB/s eta 0:00:42\n",
      "   ------------------- -------------------- 6.3/12.8 MB 157.0 kB/s eta 0:00:42\n",
      "   ------------------- -------------------- 6.3/12.8 MB 157.0 kB/s eta 0:00:42\n",
      "   ------------------- -------------------- 6.3/12.8 MB 157.0 kB/s eta 0:00:42\n",
      "   ------------------- -------------------- 6.3/12.8 MB 157.0 kB/s eta 0:00:42\n",
      "   ------------------- -------------------- 6.3/12.8 MB 157.0 kB/s eta 0:00:42\n",
      "   -------------------- ------------------- 6.6/12.8 MB 96.3 kB/s eta 0:01:05\n",
      "   -------------------- ------------------- 6.6/12.8 MB 96.3 kB/s eta 0:01:05\n",
      "   -------------------- ------------------- 6.6/12.8 MB 96.3 kB/s eta 0:01:05\n",
      "   -------------------- ------------------- 6.6/12.8 MB 96.3 kB/s eta 0:01:05\n",
      "   -------------------- ------------------- 6.6/12.8 MB 96.3 kB/s eta 0:01:05\n",
      "   -------------------- ------------------- 6.6/12.8 MB 96.3 kB/s eta 0:01:05\n",
      "   -------------------- ------------------- 6.6/12.8 MB 96.3 kB/s eta 0:01:05\n",
      "   -------------------- ------------------- 6.6/12.8 MB 96.3 kB/s eta 0:01:05\n",
      "   -------------------- ------------------- 6.6/12.8 MB 96.3 kB/s eta 0:01:05\n",
      "   -------------------- ------------------- 6.6/12.8 MB 96.3 kB/s eta 0:01:05\n",
      "   -------------------- ------------------- 6.6/12.8 MB 96.3 kB/s eta 0:01:05\n",
      "   -------------------- ------------------- 6.6/12.8 MB 96.3 kB/s eta 0:01:05\n",
      "   -------------------- ------------------- 6.6/12.8 MB 96.3 kB/s eta 0:01:05\n",
      "   -------------------- ------------------- 6.6/12.8 MB 96.3 kB/s eta 0:01:05\n",
      "   -------------------- ------------------- 6.6/12.8 MB 96.3 kB/s eta 0:01:05\n",
      "   -------------------- ------------------- 6.6/12.8 MB 96.3 kB/s eta 0:01:05\n",
      "   -------------------- ------------------- 6.6/12.8 MB 96.3 kB/s eta 0:01:05\n",
      "   -------------------- ------------------- 6.6/12.8 MB 96.3 kB/s eta 0:01:05\n",
      "   -------------------- ------------------- 6.6/12.8 MB 96.3 kB/s eta 0:01:05\n",
      "   -------------------- ------------------- 6.6/12.8 MB 96.3 kB/s eta 0:01:05\n",
      "   -------------------- ------------------- 6.6/12.8 MB 96.3 kB/s eta 0:01:05\n",
      "   -------------------- ------------------- 6.6/12.8 MB 96.3 kB/s eta 0:01:05\n",
      "   -------------------- ------------------- 6.6/12.8 MB 96.3 kB/s eta 0:01:05\n",
      "   -------------------- ------------------- 6.6/12.8 MB 96.3 kB/s eta 0:01:05\n",
      "   -------------------- ------------------- 6.6/12.8 MB 96.3 kB/s eta 0:01:05\n",
      "   -------------------- ------------------- 6.6/12.8 MB 96.3 kB/s eta 0:01:05\n",
      "   -------------------- ------------------- 6.6/12.8 MB 96.3 kB/s eta 0:01:05\n",
      "   -------------------- ------------------- 6.6/12.8 MB 96.3 kB/s eta 0:01:05\n",
      "   -------------------- ------------------- 6.6/12.8 MB 96.3 kB/s eta 0:01:05\n",
      "   -------------------- ------------------- 6.6/12.8 MB 96.3 kB/s eta 0:01:05\n",
      "   -------------------- ------------------- 6.6/12.8 MB 96.3 kB/s eta 0:01:05\n",
      "   -------------------- ------------------- 6.6/12.8 MB 96.3 kB/s eta 0:01:05\n",
      "   -------------------- ------------------- 6.6/12.8 MB 96.3 kB/s eta 0:01:05\n",
      "   -------------------- ------------------- 6.6/12.8 MB 96.3 kB/s eta 0:01:05\n",
      "   -------------------- ------------------- 6.6/12.8 MB 96.3 kB/s eta 0:01:05\n",
      "   -------------------- ------------------- 6.6/12.8 MB 96.3 kB/s eta 0:01:05\n",
      "   -------------------- ------------------- 6.6/12.8 MB 96.3 kB/s eta 0:01:05\n",
      "   -------------------- ------------------- 6.6/12.8 MB 96.3 kB/s eta 0:01:05\n",
      "   -------------------- ------------------- 6.6/12.8 MB 96.3 kB/s eta 0:01:05\n",
      "   -------------------- ------------------- 6.6/12.8 MB 96.3 kB/s eta 0:01:05\n",
      "   -------------------- ------------------- 6.6/12.8 MB 96.3 kB/s eta 0:01:05\n",
      "   -------------------- ------------------- 6.6/12.8 MB 96.3 kB/s eta 0:01:05\n",
      "   -------------------- ------------------- 6.6/12.8 MB 96.3 kB/s eta 0:01:05\n",
      "   -------------------- ------------------- 6.6/12.8 MB 96.3 kB/s eta 0:01:05\n",
      "   -------------------- ------------------- 6.6/12.8 MB 96.3 kB/s eta 0:01:05\n",
      "   -------------------- ------------------- 6.6/12.8 MB 96.3 kB/s eta 0:01:05\n",
      "   -------------------- ------------------- 6.6/12.8 MB 96.3 kB/s eta 0:01:05\n",
      "   -------------------- ------------------- 6.6/12.8 MB 96.3 kB/s eta 0:01:05\n",
      "   -------------------- ------------------- 6.6/12.8 MB 96.3 kB/s eta 0:01:05\n",
      "   -------------------- ------------------- 6.6/12.8 MB 96.3 kB/s eta 0:01:05\n",
      "   -------------------- ------------------- 6.6/12.8 MB 96.3 kB/s eta 0:01:05\n",
      "   -------------------- ------------------- 6.6/12.8 MB 96.3 kB/s eta 0:01:05\n",
      "   -------------------- ------------------- 6.6/12.8 MB 96.3 kB/s eta 0:01:05\n",
      "   -------------------- ------------------- 6.6/12.8 MB 96.3 kB/s eta 0:01:05\n",
      "   --------------------- ------------------ 6.8/12.8 MB 44.9 kB/s eta 0:02:13\n",
      "   --------------------- ------------------ 6.8/12.8 MB 44.9 kB/s eta 0:02:13\n",
      "   --------------------- ------------------ 6.8/12.8 MB 44.9 kB/s eta 0:02:13\n",
      "   --------------------- ------------------ 6.8/12.8 MB 44.9 kB/s eta 0:02:13\n",
      "   --------------------- ------------------ 6.8/12.8 MB 44.9 kB/s eta 0:02:13\n",
      "   --------------------- ------------------ 6.8/12.8 MB 44.9 kB/s eta 0:02:13\n",
      "   --------------------- ------------------ 6.8/12.8 MB 44.9 kB/s eta 0:02:13\n",
      "   --------------------- ------------------ 6.8/12.8 MB 44.9 kB/s eta 0:02:13\n",
      "   --------------------- ------------------ 6.8/12.8 MB 44.9 kB/s eta 0:02:13\n",
      "   --------------------- ------------------ 6.8/12.8 MB 44.9 kB/s eta 0:02:13\n",
      "   --------------------- ------------------ 6.8/12.8 MB 44.9 kB/s eta 0:02:13\n",
      "   --------------------- ------------------ 6.8/12.8 MB 44.9 kB/s eta 0:02:13\n",
      "   --------------------- ------------------ 6.8/12.8 MB 44.9 kB/s eta 0:02:13\n",
      "   --------------------- ------------------ 6.8/12.8 MB 44.9 kB/s eta 0:02:13\n",
      "   --------------------- ------------------ 6.8/12.8 MB 44.9 kB/s eta 0:02:13\n",
      "   --------------------- ------------------ 6.8/12.8 MB 44.9 kB/s eta 0:02:13\n",
      "   --------------------- ------------------ 6.8/12.8 MB 44.9 kB/s eta 0:02:13\n",
      "   --------------------- ------------------ 6.8/12.8 MB 44.9 kB/s eta 0:02:13\n",
      "   --------------------- ------------------ 6.8/12.8 MB 44.9 kB/s eta 0:02:13\n",
      "   --------------------- ------------------ 6.8/12.8 MB 44.9 kB/s eta 0:02:13\n",
      "   --------------------- ------------------ 6.8/12.8 MB 44.9 kB/s eta 0:02:13\n",
      "   --------------------- ------------------ 6.8/12.8 MB 44.9 kB/s eta 0:02:13\n",
      "   --------------------- ------------------ 6.8/12.8 MB 44.9 kB/s eta 0:02:13\n",
      "   --------------------- ------------------ 6.8/12.8 MB 44.9 kB/s eta 0:02:13\n",
      "   ---------------------- ----------------- 7.1/12.8 MB 32.1 kB/s eta 0:02:58\n",
      "   ---------------------- ----------------- 7.3/12.8 MB 47.5 kB/s eta 0:01:55\n",
      "   ----------------------- ---------------- 7.6/12.8 MB 62.6 kB/s eta 0:01:23\n",
      "   ----------------------- ---------------- 7.6/12.8 MB 62.6 kB/s eta 0:01:23\n",
      "   ------------------------ --------------- 7.9/12.8 MB 77.0 kB/s eta 0:01:04\n",
      "   ------------------------ --------------- 7.9/12.8 MB 77.0 kB/s eta 0:01:04\n",
      "   ------------------------ --------------- 7.9/12.8 MB 77.0 kB/s eta 0:01:04\n",
      "   ------------------------- -------------- 8.1/12.8 MB 88.5 kB/s eta 0:00:53\n",
      "   ------------------------- -------------- 8.1/12.8 MB 88.5 kB/s eta 0:00:53\n",
      "   -------------------------- ------------- 8.4/12.8 MB 100.5 kB/s eta 0:00:44\n",
      "   -------------------------- ------------- 8.4/12.8 MB 100.5 kB/s eta 0:00:44\n",
      "   -------------------------- ------------- 8.4/12.8 MB 100.5 kB/s eta 0:00:44\n",
      "   -------------------------- ------------- 8.4/12.8 MB 100.5 kB/s eta 0:00:44\n",
      "   -------------------------- ------------- 8.4/12.8 MB 100.5 kB/s eta 0:00:44\n",
      "   -------------------------- ------------- 8.4/12.8 MB 100.5 kB/s eta 0:00:44\n",
      "   -------------------------- ------------- 8.4/12.8 MB 100.5 kB/s eta 0:00:44\n",
      "   -------------------------- ------------- 8.4/12.8 MB 100.5 kB/s eta 0:00:44\n",
      "   -------------------------- ------------- 8.4/12.8 MB 100.5 kB/s eta 0:00:44\n",
      "   -------------------------- ------------- 8.4/12.8 MB 100.5 kB/s eta 0:00:44\n",
      "   -------------------------- ------------- 8.4/12.8 MB 100.5 kB/s eta 0:00:44\n",
      "   -------------------------- ------------- 8.4/12.8 MB 100.5 kB/s eta 0:00:44\n",
      "   -------------------------- ------------- 8.4/12.8 MB 100.5 kB/s eta 0:00:44\n",
      "   -------------------------- ------------- 8.4/12.8 MB 100.5 kB/s eta 0:00:44\n",
      "   -------------------------- ------------- 8.4/12.8 MB 100.5 kB/s eta 0:00:44\n",
      "   -------------------------- ------------- 8.4/12.8 MB 100.5 kB/s eta 0:00:44\n",
      "   -------------------------- ------------- 8.4/12.8 MB 100.5 kB/s eta 0:00:44\n",
      "   -------------------------- ------------- 8.4/12.8 MB 100.5 kB/s eta 0:00:44\n",
      "   -------------------------- ------------- 8.4/12.8 MB 100.5 kB/s eta 0:00:44\n",
      "   -------------------------- ------------- 8.4/12.8 MB 100.5 kB/s eta 0:00:44\n",
      "   -------------------------- ------------- 8.4/12.8 MB 100.5 kB/s eta 0:00:44\n",
      "   -------------------------- ------------- 8.4/12.8 MB 100.5 kB/s eta 0:00:44\n",
      "   -------------------------- ------------- 8.4/12.8 MB 100.5 kB/s eta 0:00:44\n",
      "   -------------------------- ------------- 8.4/12.8 MB 100.5 kB/s eta 0:00:44\n",
      "   -------------------------- ------------- 8.4/12.8 MB 100.5 kB/s eta 0:00:44\n",
      "   -------------------------- ------------- 8.4/12.8 MB 100.5 kB/s eta 0:00:44\n",
      "   -------------------------- ------------- 8.4/12.8 MB 100.5 kB/s eta 0:00:44\n",
      "   -------------------------- ------------- 8.4/12.8 MB 100.5 kB/s eta 0:00:44\n",
      "   -------------------------- ------------- 8.4/12.8 MB 100.5 kB/s eta 0:00:44\n",
      "   --------------------------- ------------ 8.7/12.8 MB 86.6 kB/s eta 0:00:48\n",
      "   --------------------------- ------------ 8.7/12.8 MB 86.6 kB/s eta 0:00:48\n",
      "   --------------------------- ------------ 8.9/12.8 MB 96.0 kB/s eta 0:00:41\n",
      "   --------------------------- ------------ 8.9/12.8 MB 96.0 kB/s eta 0:00:41\n",
      "   --------------------------- ------------ 8.9/12.8 MB 96.0 kB/s eta 0:00:41\n",
      "   --------------------------- ------------ 8.9/12.8 MB 96.0 kB/s eta 0:00:41\n",
      "   --------------------------- ------------ 8.9/12.8 MB 96.0 kB/s eta 0:00:41\n",
      "   --------------------------- ------------ 8.9/12.8 MB 96.0 kB/s eta 0:00:41\n",
      "   --------------------------- ------------ 8.9/12.8 MB 96.0 kB/s eta 0:00:41\n",
      "   ---------------------------- ----------- 9.2/12.8 MB 100.3 kB/s eta 0:00:36\n",
      "   ----------------------------- ---------- 9.4/12.8 MB 109.5 kB/s eta 0:00:31\n",
      "   ----------------------------- ---------- 9.4/12.8 MB 109.5 kB/s eta 0:00:31\n",
      "   ----------------------------- ---------- 9.4/12.8 MB 109.5 kB/s eta 0:00:31\n",
      "   ----------------------------- ---------- 9.4/12.8 MB 109.5 kB/s eta 0:00:31\n",
      "   ----------------------------- ---------- 9.4/12.8 MB 109.5 kB/s eta 0:00:31\n",
      "   ----------------------------- ---------- 9.4/12.8 MB 109.5 kB/s eta 0:00:31\n",
      "   ----------------------------- ---------- 9.4/12.8 MB 109.5 kB/s eta 0:00:31\n",
      "   ------------------------------ --------- 9.7/12.8 MB 113.1 kB/s eta 0:00:28\n",
      "   ------------------------------ --------- 9.7/12.8 MB 113.1 kB/s eta 0:00:28\n",
      "   ------------------------------- -------- 10.0/12.8 MB 120.9 kB/s eta 0:00:24\n",
      "   ------------------------------- -------- 10.2/12.8 MB 129.1 kB/s eta 0:00:20\n",
      "   -------------------------------- ------- 10.5/12.8 MB 137.4 kB/s eta 0:00:17\n",
      "   -------------------------------- ------- 10.5/12.8 MB 137.4 kB/s eta 0:00:17\n",
      "   -------------------------------- ------- 10.5/12.8 MB 137.4 kB/s eta 0:00:17\n",
      "   -------------------------------- ------- 10.5/12.8 MB 137.4 kB/s eta 0:00:17\n",
      "   -------------------------------- ------- 10.5/12.8 MB 137.4 kB/s eta 0:00:17\n",
      "   -------------------------------- ------- 10.5/12.8 MB 137.4 kB/s eta 0:00:17\n",
      "   --------------------------------- ------ 10.7/12.8 MB 140.6 kB/s eta 0:00:15\n",
      "   --------------------------------- ------ 10.7/12.8 MB 140.6 kB/s eta 0:00:15\n",
      "   ---------------------------------- ----- 11.0/12.8 MB 220.6 kB/s eta 0:00:09\n",
      "   ---------------------------------- ----- 11.0/12.8 MB 220.6 kB/s eta 0:00:09\n",
      "   ---------------------------------- ----- 11.0/12.8 MB 220.6 kB/s eta 0:00:09\n",
      "   ---------------------------------- ----- 11.0/12.8 MB 220.6 kB/s eta 0:00:09\n",
      "   ---------------------------------- ----- 11.0/12.8 MB 220.6 kB/s eta 0:00:09\n",
      "   ---------------------------------- ----- 11.0/12.8 MB 220.6 kB/s eta 0:00:09\n",
      "   ---------------------------------- ----- 11.0/12.8 MB 220.6 kB/s eta 0:00:09\n",
      "   ----------------------------------- ---- 11.3/12.8 MB 218.0 kB/s eta 0:00:07\n",
      "   ----------------------------------- ---- 11.3/12.8 MB 218.0 kB/s eta 0:00:07\n",
      "   ----------------------------------- ---- 11.3/12.8 MB 218.0 kB/s eta 0:00:07\n",
      "   ----------------------------------- ---- 11.3/12.8 MB 218.0 kB/s eta 0:00:07\n",
      "   ----------------------------------- ---- 11.3/12.8 MB 218.0 kB/s eta 0:00:07\n",
      "   ----------------------------------- ---- 11.3/12.8 MB 218.0 kB/s eta 0:00:07\n",
      "   ----------------------------------- ---- 11.3/12.8 MB 218.0 kB/s eta 0:00:07\n",
      "   ----------------------------------- ---- 11.3/12.8 MB 218.0 kB/s eta 0:00:07\n",
      "   ----------------------------------- ---- 11.3/12.8 MB 218.0 kB/s eta 0:00:07\n",
      "   ----------------------------------- ---- 11.3/12.8 MB 218.0 kB/s eta 0:00:07\n",
      "   ------------------------------------ --- 11.5/12.8 MB 208.3 kB/s eta 0:00:06\n",
      "   ------------------------------------ --- 11.5/12.8 MB 208.3 kB/s eta 0:00:06\n",
      "   ------------------------------------ --- 11.5/12.8 MB 208.3 kB/s eta 0:00:06\n",
      "   ------------------------------------ --- 11.5/12.8 MB 208.3 kB/s eta 0:00:06\n",
      "   ------------------------------------ --- 11.5/12.8 MB 208.3 kB/s eta 0:00:06\n",
      "   ------------------------------------ --- 11.8/12.8 MB 211.3 kB/s eta 0:00:05\n",
      "   ------------------------------------ --- 11.8/12.8 MB 211.3 kB/s eta 0:00:05\n",
      "   ------------------------------------ --- 11.8/12.8 MB 211.3 kB/s eta 0:00:05\n",
      "   ------------------------------------ --- 11.8/12.8 MB 211.3 kB/s eta 0:00:05\n",
      "   ------------------------------------ --- 11.8/12.8 MB 211.3 kB/s eta 0:00:05\n",
      "   ------------------------------------ --- 11.8/12.8 MB 211.3 kB/s eta 0:00:05\n",
      "   ------------------------------------- -- 12.1/12.8 MB 211.2 kB/s eta 0:00:04\n",
      "   ------------------------------------- -- 12.1/12.8 MB 211.2 kB/s eta 0:00:04\n",
      "   ------------------------------------- -- 12.1/12.8 MB 211.2 kB/s eta 0:00:04\n",
      "   -------------------------------------- - 12.3/12.8 MB 215.3 kB/s eta 0:00:03\n",
      "   -------------------------------------- - 12.3/12.8 MB 215.3 kB/s eta 0:00:03\n",
      "   -------------------------------------- - 12.3/12.8 MB 215.3 kB/s eta 0:00:03\n",
      "   -------------------------------------- - 12.3/12.8 MB 215.3 kB/s eta 0:00:03\n",
      "   ---------------------------------------  12.6/12.8 MB 218.2 kB/s eta 0:00:01\n",
      "   ---------------------------------------  12.6/12.8 MB 218.2 kB/s eta 0:00:01\n",
      "   ---------------------------------------- 12.8/12.8 MB 222.5 kB/s  0:01:31\n",
      "Installing collected packages: numpy\n",
      "Successfully installed numpy-2.3.3\n"
     ]
    }
   ],
   "source": [
    "    !pip install numpy"
   ]
  },
  {
   "cell_type": "code",
   "execution_count": 100,
   "id": "1f580d45-6627-4e21-ad44-8cbed60b7e30",
   "metadata": {},
   "outputs": [],
   "source": [
    "import numpy as np"
   ]
  },
  {
   "cell_type": "code",
   "execution_count": 101,
   "id": "b57af160-60ba-4958-ac1d-fcae03693eb3",
   "metadata": {},
   "outputs": [],
   "source": [
    "a = np.array([1,2,3,4,7])"
   ]
  },
  {
   "cell_type": "code",
   "execution_count": 102,
   "id": "f28dd68e-585b-4046-b848-fb7a13cdaa5d",
   "metadata": {},
   "outputs": [],
   "source": [
    "b = np.array((2,3,4,5))"
   ]
  },
  {
   "cell_type": "code",
   "execution_count": 103,
   "id": "4e46d7d7-b972-48bb-944c-f2d824885f74",
   "metadata": {},
   "outputs": [
    {
     "name": "stdout",
     "output_type": "stream",
     "text": [
      "[1 2 3 4 7]\n"
     ]
    }
   ],
   "source": [
    "print(a)"
   ]
  },
  {
   "cell_type": "code",
   "execution_count": null,
   "id": "1ff5f701-6bd7-4b73-9170-e5a855eb1e74",
   "metadata": {},
   "outputs": [],
   "source": []
  },
  {
   "cell_type": "code",
   "execution_count": 104,
   "id": "a09e6592-9b67-434e-b4c2-adddda76409d",
   "metadata": {},
   "outputs": [
    {
     "name": "stdout",
     "output_type": "stream",
     "text": [
      "[1 2 3 4 7]\n"
     ]
    }
   ],
   "source": [
    "print(a)"
   ]
  },
  {
   "cell_type": "code",
   "execution_count": 105,
   "id": "7caa0c52-5e0e-4486-8011-9cee23a9bea8",
   "metadata": {},
   "outputs": [
    {
     "name": "stdout",
     "output_type": "stream",
     "text": [
      "[2 3 4 5]\n"
     ]
    }
   ],
   "source": [
    "print(b)"
   ]
  },
  {
   "cell_type": "code",
   "execution_count": 106,
   "id": "3f5cce49-a5ef-403c-9812-104307482c94",
   "metadata": {},
   "outputs": [
    {
     "name": "stdout",
     "output_type": "stream",
     "text": [
      "Requirement already satisfied: numpy in c:\\users\\amingo\\appdata\\local\\programs\\python\\python313\\lib\\site-packages (2.3.3)\n"
     ]
    }
   ],
   "source": [
    "!pip install numpy"
   ]
  },
  {
   "cell_type": "code",
   "execution_count": 107,
   "id": "31109781-f7ea-46d1-b7e6-80bae7fdc16e",
   "metadata": {},
   "outputs": [
    {
     "data": {
      "text/plain": [
       "numpy.ndarray"
      ]
     },
     "execution_count": 107,
     "metadata": {},
     "output_type": "execute_result"
    }
   ],
   "source": [
    "type(a)"
   ]
  },
  {
   "cell_type": "code",
   "execution_count": 109,
   "id": "2d2e68be-2850-479c-ad32-6a79ef545fa4",
   "metadata": {},
   "outputs": [
    {
     "data": {
      "text/plain": [
       "numpy.ndarray"
      ]
     },
     "execution_count": 109,
     "metadata": {},
     "output_type": "execute_result"
    }
   ],
   "source": [
    "type(b)"
   ]
  },
  {
   "cell_type": "code",
   "execution_count": 110,
   "id": "32785e02-bd97-4614-9f4b-cd94fcfbedec",
   "metadata": {},
   "outputs": [
    {
     "data": {
      "text/plain": [
       "dtype('int64')"
      ]
     },
     "execution_count": 110,
     "metadata": {},
     "output_type": "execute_result"
    }
   ],
   "source": [
    "a.dtype"
   ]
  },
  {
   "cell_type": "code",
   "execution_count": 111,
   "id": "d7343468-1686-4e6e-97b5-939cb47bd064",
   "metadata": {},
   "outputs": [],
   "source": [
    "a = np.array([[1,2,3,4],[2,3,4,5]])"
   ]
  },
  {
   "cell_type": "code",
   "execution_count": 112,
   "id": "eafb585f-4515-4f79-a6b1-3e6b0333e8b8",
   "metadata": {},
   "outputs": [
    {
     "name": "stdout",
     "output_type": "stream",
     "text": [
      "2\n"
     ]
    }
   ],
   "source": [
    "print(a.ndim)"
   ]
  },
  {
   "cell_type": "code",
   "execution_count": 113,
   "id": "b54418d7-ec11-4a44-a2ac-46acbf60825c",
   "metadata": {},
   "outputs": [
    {
     "name": "stdout",
     "output_type": "stream",
     "text": [
      "3\n"
     ]
    }
   ],
   "source": [
    "print(a[0][2])"
   ]
  },
  {
   "cell_type": "code",
   "execution_count": 119,
   "id": "42b485e0-fbf2-4204-bacd-f0895eff19ea",
   "metadata": {},
   "outputs": [],
   "source": [
    "b = np.array([[[1,2,3],[4,5,6]], [[1,2,3],[4,5,7]]])"
   ]
  },
  {
   "cell_type": "code",
   "execution_count": 115,
   "id": "4ef26c87-6dfd-460d-9f04-f5bde2a9e661",
   "metadata": {},
   "outputs": [
    {
     "name": "stdout",
     "output_type": "stream",
     "text": [
      "3\n"
     ]
    }
   ],
   "source": [
    "print(b.ndim)"
   ]
  },
  {
   "cell_type": "code",
   "execution_count": 116,
   "id": "e48742fd-6b34-499c-9afe-628b4c75d029",
   "metadata": {},
   "outputs": [
    {
     "ename": "IndexError",
     "evalue": "index 2 is out of bounds for axis 0 with size 2",
     "output_type": "error",
     "traceback": [
      "\u001b[31m---------------------------------------------------------------------------\u001b[39m",
      "\u001b[31mIndexError\u001b[39m                                Traceback (most recent call last)",
      "\u001b[36mCell\u001b[39m\u001b[36m \u001b[39m\u001b[32mIn[116]\u001b[39m\u001b[32m, line 1\u001b[39m\n\u001b[32m----> \u001b[39m\u001b[32m1\u001b[39m \u001b[38;5;28mprint\u001b[39m(\u001b[43mb\u001b[49m\u001b[43m[\u001b[49m\u001b[32;43m2\u001b[39;49m\u001b[43m,\u001b[49m\u001b[32;43m1\u001b[39;49m\u001b[43m]\u001b[49m)\n",
      "\u001b[31mIndexError\u001b[39m: index 2 is out of bounds for axis 0 with size 2"
     ]
    }
   ],
   "source": [
    "print(b[2,1])"
   ]
  },
  {
   "cell_type": "code",
   "execution_count": null,
   "id": "4e801e16-e968-45b3-9958-7b1abf570a09",
   "metadata": {},
   "outputs": [],
   "source": []
  },
  {
   "cell_type": "code",
   "execution_count": 121,
   "id": "ec0b21d2-b530-4d04-bd9a-ea6291afd2d6",
   "metadata": {},
   "outputs": [
    {
     "name": "stdout",
     "output_type": "stream",
     "text": [
      "7\n"
     ]
    }
   ],
   "source": [
    "print(b[1,1,2])"
   ]
  },
  {
   "cell_type": "code",
   "execution_count": 123,
   "id": "a3e8f668-b584-4e52-a3bc-107df722c28a",
   "metadata": {},
   "outputs": [],
   "source": [
    "a = np.array([[1,2,3],[4,5,6]])"
   ]
  },
  {
   "cell_type": "code",
   "execution_count": 124,
   "id": "bee8e822-28d7-4c07-a926-710bf512190f",
   "metadata": {},
   "outputs": [
    {
     "name": "stdout",
     "output_type": "stream",
     "text": [
      "[[1 2 3]\n",
      " [4 5 6]]\n"
     ]
    }
   ],
   "source": [
    "print(a)"
   ]
  },
  {
   "cell_type": "code",
   "execution_count": 125,
   "id": "f3196ef4-0039-4e23-ad4e-5de861cd1897",
   "metadata": {},
   "outputs": [
    {
     "name": "stdout",
     "output_type": "stream",
     "text": [
      "[[[1 2 3]\n",
      "  [4 5 6]]\n",
      "\n",
      " [[1 2 3]\n",
      "  [4 5 7]]]\n"
     ]
    }
   ],
   "source": [
    "print(b)"
   ]
  },
  {
   "cell_type": "code",
   "execution_count": 126,
   "id": "6692b8c8-8e11-48f9-9ca2-b35b874bcbe1",
   "metadata": {},
   "outputs": [
    {
     "name": "stdout",
     "output_type": "stream",
     "text": [
      "3\n"
     ]
    }
   ],
   "source": [
    "print(b.ndim)"
   ]
  },
  {
   "cell_type": "code",
   "execution_count": 127,
   "id": "4a6584fc-47e9-4edc-9844-77130e1bacd3",
   "metadata": {},
   "outputs": [
    {
     "data": {
      "text/plain": [
       "np.int64(3)"
      ]
     },
     "execution_count": 127,
     "metadata": {},
     "output_type": "execute_result"
    }
   ],
   "source": [
    "a[0,2]"
   ]
  },
  {
   "cell_type": "code",
   "execution_count": 128,
   "id": "3833958f-078b-4468-8a50-1e562fa3b1b4",
   "metadata": {},
   "outputs": [
    {
     "name": "stdout",
     "output_type": "stream",
     "text": [
      "[[[1 2 3]\n",
      "  [4 5 6]]\n",
      "\n",
      " [[1 2 3]\n",
      "  [4 5 7]]]\n"
     ]
    }
   ],
   "source": [
    "print(b)"
   ]
  },
  {
   "cell_type": "code",
   "execution_count": 129,
   "id": "6a7c5456-39dc-4564-b623-1555d5e54e73",
   "metadata": {},
   "outputs": [
    {
     "name": "stdout",
     "output_type": "stream",
     "text": [
      "3\n"
     ]
    }
   ],
   "source": [
    "print(b.ndim)"
   ]
  },
  {
   "cell_type": "code",
   "execution_count": 130,
   "id": "74485b21-4bbe-4b4c-a255-57fdfa14ab32",
   "metadata": {},
   "outputs": [],
   "source": [
    "B = np.array([[],[],[]])"
   ]
  },
  {
   "cell_type": "code",
   "execution_count": 131,
   "id": "04305aae-038f-448d-8f23-ca66559ec660",
   "metadata": {},
   "outputs": [
    {
     "name": "stdout",
     "output_type": "stream",
     "text": [
      "2\n"
     ]
    }
   ],
   "source": [
    "print(B.ndim)"
   ]
  },
  {
   "cell_type": "code",
   "execution_count": 134,
   "id": "3c9bc848-9334-4855-af1a-08806da9a5b2",
   "metadata": {},
   "outputs": [],
   "source": [
    "B = np.array([[1,2,3],[3,4,5],[5,6,7]])"
   ]
  },
  {
   "cell_type": "raw",
   "id": "9ef4b88d-d44d-4927-b711-cd171f9ec7c3",
   "metadata": {},
   "source": [
    "print(B.ndim)"
   ]
  },
  {
   "cell_type": "code",
   "execution_count": 140,
   "id": "4ce7f24b-d7e8-4a31-b725-3b46f6655917",
   "metadata": {},
   "outputs": [
    {
     "name": "stdout",
     "output_type": "stream",
     "text": [
      "2\n"
     ]
    }
   ],
   "source": [
    "print(B.ndim)"
   ]
  },
  {
   "cell_type": "code",
   "execution_count": 141,
   "id": "51822c5b-a9f4-4b88-965d-8b61910364e0",
   "metadata": {},
   "outputs": [],
   "source": [
    "B = np.array([[1,2,3],[3,4,5],[5,6,7]])"
   ]
  },
  {
   "cell_type": "code",
   "execution_count": 143,
   "id": "a0852e48-0743-413a-b808-0238cb4beda7",
   "metadata": {},
   "outputs": [
    {
     "name": "stdout",
     "output_type": "stream",
     "text": [
      "2\n",
      "(3, 3)\n"
     ]
    }
   ],
   "source": [
    "print(B.ndim)\n",
    "print(B.shape)"
   ]
  },
  {
   "cell_type": "code",
   "execution_count": 147,
   "id": "bc264e6b-73c4-4f2e-aabf-1d6075dc9157",
   "metadata": {},
   "outputs": [],
   "source": [
    "C = np.array([[[1,2,3],[4,5,6],[0,0,-1]] ,[[1,2,-3],[4,5,-6],[0,0,-1]]] )"
   ]
  },
  {
   "cell_type": "code",
   "execution_count": 148,
   "id": "1da71184-e3f5-4e38-ba73-878c37dff2c2",
   "metadata": {},
   "outputs": [
    {
     "name": "stdout",
     "output_type": "stream",
     "text": [
      "(2, 3, 3)\n"
     ]
    }
   ],
   "source": [
    "print(C.shape)"
   ]
  },
  {
   "cell_type": "code",
   "execution_count": 149,
   "id": "1de606dd-83a5-4224-a982-71ff7be46ae9",
   "metadata": {},
   "outputs": [
    {
     "name": "stdout",
     "output_type": "stream",
     "text": [
      "3\n"
     ]
    }
   ],
   "source": [
    "print(C.ndim)"
   ]
  },
  {
   "cell_type": "code",
   "execution_count": 150,
   "id": "730d69cf-dae7-4447-9777-aa305128a4c6",
   "metadata": {},
   "outputs": [
    {
     "data": {
      "text/plain": [
       "np.int64(-3)"
      ]
     },
     "execution_count": 150,
     "metadata": {},
     "output_type": "execute_result"
    }
   ],
   "source": [
    "C[1 , 0 , 2]"
   ]
  },
  {
   "cell_type": "code",
   "execution_count": 151,
   "id": "6884a9c5-73fc-4fcf-83c0-9c587e769f20",
   "metadata": {},
   "outputs": [
    {
     "data": {
      "text/plain": [
       "numpy.ndarray"
      ]
     },
     "execution_count": 151,
     "metadata": {},
     "output_type": "execute_result"
    }
   ],
   "source": [
    "type(C)"
   ]
  },
  {
   "cell_type": "code",
   "execution_count": 152,
   "id": "d5b083b5-e7c5-453e-bb2c-bb5f74e7774b",
   "metadata": {},
   "outputs": [],
   "source": [
    "F = np.array([2])"
   ]
  },
  {
   "cell_type": "code",
   "execution_count": 153,
   "id": "de2af034-1853-436c-b27c-c85212d41d27",
   "metadata": {},
   "outputs": [
    {
     "ename": "TypeError",
     "evalue": "'int' object is not callable",
     "output_type": "error",
     "traceback": [
      "\u001b[31m---------------------------------------------------------------------------\u001b[39m",
      "\u001b[31mTypeError\u001b[39m                                 Traceback (most recent call last)",
      "\u001b[36mCell\u001b[39m\u001b[36m \u001b[39m\u001b[32mIn[153]\u001b[39m\u001b[32m, line 1\u001b[39m\n\u001b[32m----> \u001b[39m\u001b[32m1\u001b[39m \u001b[43mF\u001b[49m\u001b[43m.\u001b[49m\u001b[43mndim\u001b[49m\u001b[43m(\u001b[49m\u001b[43m)\u001b[49m\n",
      "\u001b[31mTypeError\u001b[39m: 'int' object is not callable"
     ]
    }
   ],
   "source": [
    "F.ndim()"
   ]
  },
  {
   "cell_type": "code",
   "execution_count": 154,
   "id": "64bcd996-5b3c-48fd-af8d-c6b8b8fbc8eb",
   "metadata": {},
   "outputs": [
    {
     "data": {
      "text/plain": [
       "1"
      ]
     },
     "execution_count": 154,
     "metadata": {},
     "output_type": "execute_result"
    }
   ],
   "source": [
    "F.ndim"
   ]
  },
  {
   "cell_type": "code",
   "execution_count": 155,
   "id": "4fa2ff27-fa7e-4879-94db-171e00f72dd9",
   "metadata": {},
   "outputs": [
    {
     "data": {
      "text/plain": [
       "18"
      ]
     },
     "execution_count": 155,
     "metadata": {},
     "output_type": "execute_result"
    }
   ],
   "source": [
    "C.size"
   ]
  },
  {
   "cell_type": "code",
   "execution_count": 156,
   "id": "5cd9f4fa-88ff-4e60-a0ca-0dbeb3c55ca8",
   "metadata": {},
   "outputs": [
    {
     "data": {
      "text/plain": [
       "144"
      ]
     },
     "execution_count": 156,
     "metadata": {},
     "output_type": "execute_result"
    }
   ],
   "source": [
    "C.nbytes"
   ]
  },
  {
   "cell_type": "code",
   "execution_count": 157,
   "id": "1e589dc7-75b0-4ddf-84a2-6f64f07ee74e",
   "metadata": {},
   "outputs": [
    {
     "data": {
      "text/plain": [
       "<function ndarray.transpose>"
      ]
     },
     "execution_count": 157,
     "metadata": {},
     "output_type": "execute_result"
    }
   ],
   "source": [
    "C.transpose"
   ]
  },
  {
   "cell_type": "code",
   "execution_count": 158,
   "id": "cc506565-98e4-4398-90d0-269a39a6f3cc",
   "metadata": {},
   "outputs": [
    {
     "name": "stdout",
     "output_type": "stream",
     "text": [
      "<built-in method transpose of numpy.ndarray object at 0x00000295E6B72550>\n"
     ]
    }
   ],
   "source": [
    "print(C.transpose)"
   ]
  },
  {
   "cell_type": "code",
   "execution_count": 159,
   "id": "61ab23b6-946c-46a7-8fc9-2198769d5768",
   "metadata": {},
   "outputs": [
    {
     "name": "stdout",
     "output_type": "stream",
     "text": [
      "[[[ 1  2  3]\n",
      "  [ 4  5  6]\n",
      "  [ 0  0 -1]]\n",
      "\n",
      " [[ 1  2 -3]\n",
      "  [ 4  5 -6]\n",
      "  [ 0  0 -1]]]\n"
     ]
    }
   ],
   "source": [
    "print(C)"
   ]
  },
  {
   "cell_type": "code",
   "execution_count": null,
   "id": "8d6badfa-024c-4e22-81ff-191408c840a6",
   "metadata": {},
   "outputs": [],
   "source": []
  },
  {
   "cell_type": "code",
   "execution_count": 164,
   "id": "24a5e09c-d9ba-4424-8240-c5ccc88aff06",
   "metadata": {},
   "outputs": [],
   "source": [
    "A = np.arange(20,100, 3)"
   ]
  },
  {
   "cell_type": "code",
   "execution_count": 165,
   "id": "6e7a725e-bdd8-471a-af67-4507878a71de",
   "metadata": {},
   "outputs": [
    {
     "name": "stdout",
     "output_type": "stream",
     "text": [
      "[20 23 26 29 32 35 38 41 44 47 50 53 56 59 62 65 68 71 74 77 80 83 86 89\n",
      " 92 95 98]\n"
     ]
    }
   ],
   "source": [
    "print(A)"
   ]
  },
  {
   "cell_type": "code",
   "execution_count": 166,
   "id": "e0b44ed7-9292-43fa-8ca0-359734cfc1a7",
   "metadata": {},
   "outputs": [
    {
     "name": "stdout",
     "output_type": "stream",
     "text": [
      "range(0, 10)\n"
     ]
    }
   ],
   "source": [
    "print(range(0,10))"
   ]
  },
  {
   "cell_type": "code",
   "execution_count": 167,
   "id": "e5c540c7-805a-42df-9b40-0342399f1f80",
   "metadata": {},
   "outputs": [
    {
     "ename": "SyntaxError",
     "evalue": "invalid syntax (364268711.py, line 1)",
     "output_type": "error",
     "traceback": [
      "  \u001b[36mCell\u001b[39m\u001b[36m \u001b[39m\u001b[32mIn[167]\u001b[39m\u001b[32m, line 1\u001b[39m\n\u001b[31m    \u001b[39m\u001b[31mfor i in range A:\u001b[39m\n                   ^\n\u001b[31mSyntaxError\u001b[39m\u001b[31m:\u001b[39m invalid syntax\n"
     ]
    }
   ],
   "source": [
    "for i in range A:\n",
    "    print(i)"
   ]
  },
  {
   "cell_type": "code",
   "execution_count": 168,
   "id": "3d826288-ddf1-4885-ba9c-ccc5e20b137b",
   "metadata": {},
   "outputs": [
    {
     "ename": "TypeError",
     "evalue": "only integer scalar arrays can be converted to a scalar index",
     "output_type": "error",
     "traceback": [
      "\u001b[31m---------------------------------------------------------------------------\u001b[39m",
      "\u001b[31mTypeError\u001b[39m                                 Traceback (most recent call last)",
      "\u001b[36mCell\u001b[39m\u001b[36m \u001b[39m\u001b[32mIn[168]\u001b[39m\u001b[32m, line 1\u001b[39m\n\u001b[32m----> \u001b[39m\u001b[32m1\u001b[39m \u001b[38;5;28;01mfor\u001b[39;00m i \u001b[38;5;129;01min\u001b[39;00m \u001b[38;5;28;43mrange\u001b[39;49m\u001b[43m(\u001b[49m\u001b[43mA\u001b[49m\u001b[43m)\u001b[49m:\n\u001b[32m      2\u001b[39m     \u001b[38;5;28mprint\u001b[39m(i)\n",
      "\u001b[31mTypeError\u001b[39m: only integer scalar arrays can be converted to a scalar index"
     ]
    }
   ],
   "source": [
    "for i in range(A):\n",
    "    print(i)"
   ]
  },
  {
   "cell_type": "code",
   "execution_count": 169,
   "id": "8a4d370d-b3f6-43cd-8401-e44d9494ef17",
   "metadata": {},
   "outputs": [
    {
     "ename": "TypeError",
     "evalue": "only integer scalar arrays can be converted to a scalar index",
     "output_type": "error",
     "traceback": [
      "\u001b[31m---------------------------------------------------------------------------\u001b[39m",
      "\u001b[31mTypeError\u001b[39m                                 Traceback (most recent call last)",
      "\u001b[36mCell\u001b[39m\u001b[36m \u001b[39m\u001b[32mIn[169]\u001b[39m\u001b[32m, line 1\u001b[39m\n\u001b[32m----> \u001b[39m\u001b[32m1\u001b[39m \u001b[38;5;28;01mfor\u001b[39;00m i \u001b[38;5;129;01min\u001b[39;00m \u001b[38;5;28;43mrange\u001b[39;49m\u001b[43m(\u001b[49m\u001b[43mA\u001b[49m\u001b[43m \u001b[49m\u001b[43m,\u001b[49m\u001b[43m \u001b[49m\u001b[32;43m2\u001b[39;49m\u001b[43m)\u001b[49m:\n\u001b[32m      2\u001b[39m     \u001b[38;5;28mprint\u001b[39m(i)\n",
      "\u001b[31mTypeError\u001b[39m: only integer scalar arrays can be converted to a scalar index"
     ]
    }
   ],
   "source": [
    "for i in range(A , 2):\n",
    "    print(i)"
   ]
  },
  {
   "cell_type": "code",
   "execution_count": 170,
   "id": "0c7115f9-dc9c-44e8-9e03-fad3cbeb0f88",
   "metadata": {},
   "outputs": [
    {
     "name": "stdout",
     "output_type": "stream",
     "text": [
      "[0, 1, 2, 3, 4, 5, 6, 7, 8, 9, 10, 11, 12, 13, 14, 15, 16, 17, 18, 19]\n"
     ]
    }
   ],
   "source": [
    "print(list(range(20)))"
   ]
  },
  {
   "cell_type": "code",
   "execution_count": 171,
   "id": "7b0117aa-f365-48c0-9645-fd9e0eb6906a",
   "metadata": {},
   "outputs": [],
   "source": [
    "A = np.random.permutation(np.arange(10))"
   ]
  },
  {
   "cell_type": "code",
   "execution_count": 172,
   "id": "6ba3cc2e-393c-42ab-b8d7-0bc881e2fa8b",
   "metadata": {},
   "outputs": [
    {
     "name": "stdout",
     "output_type": "stream",
     "text": [
      "[6 8 5 4 7 0 3 1 2 9]\n"
     ]
    }
   ],
   "source": [
    "print(A)"
   ]
  },
  {
   "cell_type": "code",
   "execution_count": 173,
   "id": "41594728-5b05-4582-ac15-cca1bdfed04d",
   "metadata": {},
   "outputs": [
    {
     "data": {
      "text/plain": [
       "\u001b[31mSignature:\u001b[39m np.random.randint(low, high=\u001b[38;5;28;01mNone\u001b[39;00m, size=\u001b[38;5;28;01mNone\u001b[39;00m, dtype=<\u001b[38;5;28;01mclass\u001b[39;00m \u001b[33m'int'\u001b[39m>)\n",
       "\u001b[31mDocstring:\u001b[39m\n",
       "randint(low, high=None, size=None, dtype=int)\n",
       "\n",
       "Return random integers from `low` (inclusive) to `high` (exclusive).\n",
       "\n",
       "Return random integers from the \"discrete uniform\" distribution of\n",
       "the specified dtype in the \"half-open\" interval [`low`, `high`). If\n",
       "`high` is None (the default), then results are from [0, `low`).\n",
       "\n",
       ".. note::\n",
       "    New code should use the `~numpy.random.Generator.integers`\n",
       "    method of a `~numpy.random.Generator` instance instead;\n",
       "    please see the :ref:`random-quick-start`.\n",
       "\n",
       "Parameters\n",
       "----------\n",
       "low : int or array-like of ints\n",
       "    Lowest (signed) integers to be drawn from the distribution (unless\n",
       "    ``high=None``, in which case this parameter is one above the\n",
       "    *highest* such integer).\n",
       "high : int or array-like of ints, optional\n",
       "    If provided, one above the largest (signed) integer to be drawn\n",
       "    from the distribution (see above for behavior if ``high=None``).\n",
       "    If array-like, must contain integer values\n",
       "size : int or tuple of ints, optional\n",
       "    Output shape.  If the given shape is, e.g., ``(m, n, k)``, then\n",
       "    ``m * n * k`` samples are drawn.  Default is None, in which case a\n",
       "    single value is returned.\n",
       "dtype : dtype, optional\n",
       "    Desired dtype of the result. Byteorder must be native.\n",
       "    The default value is long.\n",
       "\n",
       "    .. warning::\n",
       "      This function defaults to the C-long dtype, which is 32bit on windows\n",
       "      and otherwise 64bit on 64bit platforms (and 32bit on 32bit ones).\n",
       "      Since NumPy 2.0, NumPy's default integer is 32bit on 32bit platforms\n",
       "      and 64bit on 64bit platforms.  Which corresponds to `np.intp`.\n",
       "      (`dtype=int` is not the same as in most NumPy functions.)\n",
       "\n",
       "Returns\n",
       "-------\n",
       "out : int or ndarray of ints\n",
       "    `size`-shaped array of random integers from the appropriate\n",
       "    distribution, or a single such random int if `size` not provided.\n",
       "\n",
       "See Also\n",
       "--------\n",
       "random_integers : similar to `randint`, only for the closed\n",
       "    interval [`low`, `high`], and 1 is the lowest value if `high` is\n",
       "    omitted.\n",
       "random.Generator.integers: which should be used for new code.\n",
       "\n",
       "Examples\n",
       "--------\n",
       ">>> np.random.randint(2, size=10)\n",
       "array([1, 0, 0, 0, 1, 1, 0, 0, 1, 0]) # random\n",
       ">>> np.random.randint(1, size=10)\n",
       "array([0, 0, 0, 0, 0, 0, 0, 0, 0, 0])\n",
       "\n",
       "Generate a 2 x 4 array of ints between 0 and 4, inclusive:\n",
       "\n",
       ">>> np.random.randint(5, size=(2, 4))\n",
       "array([[4, 0, 2, 1], # random\n",
       "       [3, 2, 2, 0]])\n",
       "\n",
       "Generate a 1 x 3 array with 3 different upper bounds\n",
       "\n",
       ">>> np.random.randint(1, [3, 5, 10])\n",
       "array([2, 2, 9]) # random\n",
       "\n",
       "Generate a 1 by 3 array with 3 different lower bounds\n",
       "\n",
       ">>> np.random.randint([1, 5, 7], 10)\n",
       "array([9, 8, 7]) # random\n",
       "\n",
       "Generate a 2 by 4 array using broadcasting with dtype of uint8\n",
       "\n",
       ">>> np.random.randint([1, 3, 5, 7], [[10], [20]], dtype=np.uint8)\n",
       "array([[ 8,  6,  9,  7], # random\n",
       "       [ 1, 16,  9, 12]], dtype=uint8)\n",
       "\u001b[31mType:\u001b[39m      method"
      ]
     },
     "metadata": {},
     "output_type": "display_data"
    }
   ],
   "source": [
    "np.random.randint?"
   ]
  },
  {
   "cell_type": "code",
   "execution_count": 177,
   "id": "349376ca-f896-46b9-bdb5-b606857a89f6",
   "metadata": {},
   "outputs": [
    {
     "ename": "TypeError",
     "evalue": "'module' object is not callable",
     "output_type": "error",
     "traceback": [
      "\u001b[31m---------------------------------------------------------------------------\u001b[39m",
      "\u001b[31mTypeError\u001b[39m                                 Traceback (most recent call last)",
      "\u001b[36mCell\u001b[39m\u001b[36m \u001b[39m\u001b[32mIn[177]\u001b[39m\u001b[32m, line 1\u001b[39m\n\u001b[32m----> \u001b[39m\u001b[32m1\u001b[39m J = \u001b[43mnp\u001b[49m\u001b[43m.\u001b[49m\u001b[43mrandom\u001b[49m\u001b[43m(\u001b[49m\u001b[32;43m3\u001b[39;49m\u001b[43m,\u001b[49m\u001b[43m \u001b[49m\u001b[32;43m7\u001b[39;49m\u001b[43m)\u001b[49m\n",
      "\u001b[31mTypeError\u001b[39m: 'module' object is not callable"
     ]
    }
   ],
   "source": [
    "J = np.random(3, 7)"
   ]
  },
  {
   "cell_type": "code",
   "execution_count": null,
   "id": "5ed9e63e-478c-4bd8-9811-113ee0cf8c6b",
   "metadata": {},
   "outputs": [],
   "source": []
  },
  {
   "cell_type": "code",
   "execution_count": 178,
   "id": "dd86c4ed-3e0f-4460-813f-e8b0c9388c95",
   "metadata": {},
   "outputs": [
    {
     "data": {
      "text/plain": [
       "array([1, 4, 2], dtype=int32)"
      ]
     },
     "execution_count": 178,
     "metadata": {},
     "output_type": "execute_result"
    }
   ],
   "source": [
    "np.random.randint(1 , [4 , 7 , 3])"
   ]
  },
  {
   "cell_type": "code",
   "execution_count": 180,
   "id": "2bec7ad1-6824-4358-9caf-7f8940b26f66",
   "metadata": {},
   "outputs": [
    {
     "data": {
      "text/plain": [
       "array([[4, 1, 3],\n",
       "       [0, 2, 2]], dtype=int32)"
      ]
     },
     "execution_count": 180,
     "metadata": {},
     "output_type": "execute_result"
    }
   ],
   "source": [
    "np.random.randint(5 , size=(2,3))"
   ]
  },
  {
   "cell_type": "code",
   "execution_count": 183,
   "id": "09e0ebe0-fc96-4495-ac6f-a5207ae0f03b",
   "metadata": {},
   "outputs": [
    {
     "data": {
      "text/plain": [
       "57"
      ]
     },
     "execution_count": 183,
     "metadata": {},
     "output_type": "execute_result"
    }
   ],
   "source": [
    "np.random.randint(56, 67)"
   ]
  },
  {
   "cell_type": "code",
   "execution_count": 192,
   "id": "0288bd16-4c0e-4d4f-906d-35cb42d1591a",
   "metadata": {},
   "outputs": [],
   "source": [
    "v = np.random.randint(20 , 40)"
   ]
  },
  {
   "cell_type": "code",
   "execution_count": 193,
   "id": "df43a05c-8ca6-4d79-9ea8-aad1f235088a",
   "metadata": {},
   "outputs": [
    {
     "name": "stdout",
     "output_type": "stream",
     "text": [
      "26\n"
     ]
    }
   ],
   "source": [
    "print(v)"
   ]
  },
  {
   "cell_type": "code",
   "execution_count": 194,
   "id": "37e0ee51-1da0-4d50-971b-1461a892c69b",
   "metadata": {},
   "outputs": [],
   "source": [
    "A = np.random.rand(1000)"
   ]
  },
  {
   "cell_type": "code",
   "execution_count": 196,
   "id": "0c95f603-2834-42a2-8d1d-bf61ccf47bf6",
   "metadata": {},
   "outputs": [
    {
     "ename": "ModuleNotFoundError",
     "evalue": "No module named 'matplotlib'",
     "output_type": "error",
     "traceback": [
      "\u001b[31m---------------------------------------------------------------------------\u001b[39m",
      "\u001b[31mModuleNotFoundError\u001b[39m                       Traceback (most recent call last)",
      "\u001b[36mCell\u001b[39m\u001b[36m \u001b[39m\u001b[32mIn[196]\u001b[39m\u001b[32m, line 1\u001b[39m\n\u001b[32m----> \u001b[39m\u001b[32m1\u001b[39m \u001b[38;5;28;01mimport\u001b[39;00m\u001b[38;5;250m \u001b[39m\u001b[34;01mmatplotlib\u001b[39;00m\u001b[34;01m.\u001b[39;00m\u001b[34;01mpyplot\u001b[39;00m\u001b[38;5;250m \u001b[39m\u001b[38;5;28;01mas\u001b[39;00m\u001b[38;5;250m \u001b[39m\u001b[34;01mplt\u001b[39;00m\n",
      "\u001b[31mModuleNotFoundError\u001b[39m: No module named 'matplotlib'"
     ]
    }
   ],
   "source": [
    "import matplotlib.pyplot as plt"
   ]
  },
  {
   "cell_type": "code",
   "execution_count": 197,
   "id": "74999c28-f4f3-4071-8f92-926b69b86ed7",
   "metadata": {},
   "outputs": [
    {
     "name": "stdout",
     "output_type": "stream",
     "text": [
      "Collecting matplotlib\n",
      "  Downloading matplotlib-3.10.6-cp313-cp313-win_amd64.whl.metadata (11 kB)\n",
      "Collecting contourpy>=1.0.1 (from matplotlib)\n",
      "  Downloading contourpy-1.3.3-cp313-cp313-win_amd64.whl.metadata (5.5 kB)\n",
      "Collecting cycler>=0.10 (from matplotlib)\n",
      "  Downloading cycler-0.12.1-py3-none-any.whl.metadata (3.8 kB)\n",
      "Collecting fonttools>=4.22.0 (from matplotlib)\n",
      "  Downloading fonttools-4.59.2-cp313-cp313-win_amd64.whl.metadata (111 kB)\n",
      "Collecting kiwisolver>=1.3.1 (from matplotlib)\n",
      "  Downloading kiwisolver-1.4.9-cp313-cp313-win_amd64.whl.metadata (6.4 kB)\n",
      "Requirement already satisfied: numpy>=1.23 in c:\\users\\amingo\\appdata\\local\\programs\\python\\python313\\lib\\site-packages (from matplotlib) (2.3.3)\n",
      "Requirement already satisfied: packaging>=20.0 in c:\\users\\amingo\\appdata\\local\\programs\\python\\python313\\lib\\site-packages (from matplotlib) (25.0)\n",
      "Collecting pillow>=8 (from matplotlib)\n",
      "  Downloading pillow-11.3.0-cp313-cp313-win_amd64.whl.metadata (9.2 kB)\n",
      "Collecting pyparsing>=2.3.1 (from matplotlib)\n",
      "  Downloading pyparsing-3.2.4-py3-none-any.whl.metadata (5.0 kB)\n",
      "Requirement already satisfied: python-dateutil>=2.7 in c:\\users\\amingo\\appdata\\local\\programs\\python\\python313\\lib\\site-packages (from matplotlib) (2.9.0.post0)\n",
      "Requirement already satisfied: six>=1.5 in c:\\users\\amingo\\appdata\\local\\programs\\python\\python313\\lib\\site-packages (from python-dateutil>=2.7->matplotlib) (1.17.0)\n",
      "Downloading matplotlib-3.10.6-cp313-cp313-win_amd64.whl (8.1 MB)\n",
      "   ---------------------------------------- 0.0/8.1 MB ? eta -:--:--\n",
      "   - -------------------------------------- 0.3/8.1 MB ? eta -:--:--\n",
      "   - -------------------------------------- 0.3/8.1 MB ? eta -:--:--\n",
      "   - -------------------------------------- 0.3/8.1 MB ? eta -:--:--\n",
      "   - -------------------------------------- 0.3/8.1 MB ? eta -:--:--\n",
      "   - -------------------------------------- 0.3/8.1 MB ? eta -:--:--\n",
      "   - -------------------------------------- 0.3/8.1 MB ? eta -:--:--\n",
      "   - -------------------------------------- 0.3/8.1 MB ? eta -:--:--\n",
      "   - -------------------------------------- 0.3/8.1 MB ? eta -:--:--\n",
      "   - -------------------------------------- 0.3/8.1 MB ? eta -:--:--\n",
      "   -- ------------------------------------- 0.5/8.1 MB 142.1 kB/s eta 0:00:54\n",
      "   -- ------------------------------------- 0.5/8.1 MB 142.1 kB/s eta 0:00:54\n",
      "   --- ------------------------------------ 0.8/8.1 MB 229.4 kB/s eta 0:00:32\n",
      "   --- ------------------------------------ 0.8/8.1 MB 229.4 kB/s eta 0:00:32\n",
      "   --- ------------------------------------ 0.8/8.1 MB 229.4 kB/s eta 0:00:32\n",
      "   --- ------------------------------------ 0.8/8.1 MB 229.4 kB/s eta 0:00:32\n",
      "   --- ------------------------------------ 0.8/8.1 MB 229.4 kB/s eta 0:00:32\n",
      "   --- ------------------------------------ 0.8/8.1 MB 229.4 kB/s eta 0:00:32\n",
      "   --- ------------------------------------ 0.8/8.1 MB 229.4 kB/s eta 0:00:32\n",
      "   --- ------------------------------------ 0.8/8.1 MB 229.4 kB/s eta 0:00:32\n",
      "   --- ------------------------------------ 0.8/8.1 MB 229.4 kB/s eta 0:00:32\n",
      "   ----- ---------------------------------- 1.0/8.1 MB 192.3 kB/s eta 0:00:37\n",
      "   ----- ---------------------------------- 1.0/8.1 MB 192.3 kB/s eta 0:00:37\n",
      "   ----- ---------------------------------- 1.0/8.1 MB 192.3 kB/s eta 0:00:37\n",
      "   ----- ---------------------------------- 1.0/8.1 MB 192.3 kB/s eta 0:00:37\n",
      "   ----- ---------------------------------- 1.0/8.1 MB 192.3 kB/s eta 0:00:37\n",
      "   ----- ---------------------------------- 1.0/8.1 MB 192.3 kB/s eta 0:00:37\n",
      "   ----- ---------------------------------- 1.0/8.1 MB 192.3 kB/s eta 0:00:37\n",
      "   ----- ---------------------------------- 1.0/8.1 MB 192.3 kB/s eta 0:00:37\n",
      "   ----- ---------------------------------- 1.0/8.1 MB 192.3 kB/s eta 0:00:37\n",
      "   ------ --------------------------------- 1.3/8.1 MB 171.6 kB/s eta 0:00:40\n",
      "   ------ --------------------------------- 1.3/8.1 MB 171.6 kB/s eta 0:00:40\n",
      "   ------ --------------------------------- 1.3/8.1 MB 171.6 kB/s eta 0:00:40\n",
      "   ------ --------------------------------- 1.3/8.1 MB 171.6 kB/s eta 0:00:40\n",
      "   ------ --------------------------------- 1.3/8.1 MB 171.6 kB/s eta 0:00:40\n",
      "   ------ --------------------------------- 1.3/8.1 MB 171.6 kB/s eta 0:00:40\n",
      "   ------ --------------------------------- 1.3/8.1 MB 171.6 kB/s eta 0:00:40\n",
      "   ------ --------------------------------- 1.3/8.1 MB 171.6 kB/s eta 0:00:40\n",
      "   ------ --------------------------------- 1.3/8.1 MB 171.6 kB/s eta 0:00:40\n",
      "   ------ --------------------------------- 1.3/8.1 MB 171.6 kB/s eta 0:00:40\n",
      "   ------ --------------------------------- 1.3/8.1 MB 171.6 kB/s eta 0:00:40\n",
      "   ------ --------------------------------- 1.3/8.1 MB 171.6 kB/s eta 0:00:40\n",
      "   ------ --------------------------------- 1.3/8.1 MB 171.6 kB/s eta 0:00:40\n",
      "   ------ --------------------------------- 1.3/8.1 MB 171.6 kB/s eta 0:00:40\n",
      "   ------ --------------------------------- 1.3/8.1 MB 171.6 kB/s eta 0:00:40\n",
      "   ------ --------------------------------- 1.3/8.1 MB 171.6 kB/s eta 0:00:40\n",
      "   ------ --------------------------------- 1.3/8.1 MB 171.6 kB/s eta 0:00:40\n",
      "   ------ --------------------------------- 1.3/8.1 MB 171.6 kB/s eta 0:00:40\n",
      "   ------ --------------------------------- 1.3/8.1 MB 171.6 kB/s eta 0:00:40\n",
      "   ------ --------------------------------- 1.3/8.1 MB 171.6 kB/s eta 0:00:40\n",
      "   ------ --------------------------------- 1.3/8.1 MB 171.6 kB/s eta 0:00:40\n",
      "   ------ --------------------------------- 1.3/8.1 MB 171.6 kB/s eta 0:00:40\n",
      "   ------ --------------------------------- 1.3/8.1 MB 171.6 kB/s eta 0:00:40\n",
      "   ------ --------------------------------- 1.3/8.1 MB 171.6 kB/s eta 0:00:40\n",
      "   ------ --------------------------------- 1.3/8.1 MB 171.6 kB/s eta 0:00:40\n",
      "   ------ --------------------------------- 1.3/8.1 MB 171.6 kB/s eta 0:00:40\n",
      "   ------- -------------------------------- 1.6/8.1 MB 114.3 kB/s eta 0:00:58\n",
      "   ------- -------------------------------- 1.6/8.1 MB 114.3 kB/s eta 0:00:58\n",
      "   ------- -------------------------------- 1.6/8.1 MB 114.3 kB/s eta 0:00:58\n",
      "   ------- -------------------------------- 1.6/8.1 MB 114.3 kB/s eta 0:00:58\n",
      "   ------- -------------------------------- 1.6/8.1 MB 114.3 kB/s eta 0:00:58\n",
      "   ------- -------------------------------- 1.6/8.1 MB 114.3 kB/s eta 0:00:58\n",
      "   ------- -------------------------------- 1.6/8.1 MB 114.3 kB/s eta 0:00:58\n",
      "   ------- -------------------------------- 1.6/8.1 MB 114.3 kB/s eta 0:00:58\n",
      "   ------- -------------------------------- 1.6/8.1 MB 114.3 kB/s eta 0:00:58\n",
      "   ------- -------------------------------- 1.6/8.1 MB 114.3 kB/s eta 0:00:58\n",
      "   ------- -------------------------------- 1.6/8.1 MB 114.3 kB/s eta 0:00:58\n",
      "   ------- -------------------------------- 1.6/8.1 MB 114.3 kB/s eta 0:00:58\n",
      "   ------- -------------------------------- 1.6/8.1 MB 114.3 kB/s eta 0:00:58\n",
      "   ------- -------------------------------- 1.6/8.1 MB 114.3 kB/s eta 0:00:58\n",
      "   ------- -------------------------------- 1.6/8.1 MB 114.3 kB/s eta 0:00:58\n",
      "   ------- -------------------------------- 1.6/8.1 MB 114.3 kB/s eta 0:00:58\n",
      "   ------- -------------------------------- 1.6/8.1 MB 114.3 kB/s eta 0:00:58\n",
      "   ------- -------------------------------- 1.6/8.1 MB 114.3 kB/s eta 0:00:58\n",
      "   ------- -------------------------------- 1.6/8.1 MB 114.3 kB/s eta 0:00:58\n",
      "   ------- -------------------------------- 1.6/8.1 MB 114.3 kB/s eta 0:00:58\n",
      "   ------- -------------------------------- 1.6/8.1 MB 114.3 kB/s eta 0:00:58\n",
      "   ------- -------------------------------- 1.6/8.1 MB 114.3 kB/s eta 0:00:58\n",
      "   ------- -------------------------------- 1.6/8.1 MB 114.3 kB/s eta 0:00:58\n",
      "   ------- -------------------------------- 1.6/8.1 MB 114.3 kB/s eta 0:00:58\n",
      "   ------- -------------------------------- 1.6/8.1 MB 114.3 kB/s eta 0:00:58\n",
      "   ------- -------------------------------- 1.6/8.1 MB 114.3 kB/s eta 0:00:58\n",
      "   --------- ------------------------------ 1.8/8.1 MB 92.3 kB/s eta 0:01:09\n",
      "   --------- ------------------------------ 1.8/8.1 MB 92.3 kB/s eta 0:01:09\n",
      "   --------- ------------------------------ 1.8/8.1 MB 92.3 kB/s eta 0:01:09\n",
      "   --------- ------------------------------ 1.8/8.1 MB 92.3 kB/s eta 0:01:09\n",
      "   --------- ------------------------------ 1.8/8.1 MB 92.3 kB/s eta 0:01:09\n",
      "   --------- ------------------------------ 1.8/8.1 MB 92.3 kB/s eta 0:01:09\n",
      "   --------- ------------------------------ 1.8/8.1 MB 92.3 kB/s eta 0:01:09\n",
      "   --------- ------------------------------ 1.8/8.1 MB 92.3 kB/s eta 0:01:09\n",
      "   --------- ------------------------------ 1.8/8.1 MB 92.3 kB/s eta 0:01:09\n",
      "   --------- ------------------------------ 1.8/8.1 MB 92.3 kB/s eta 0:01:09\n",
      "   --------- ------------------------------ 1.8/8.1 MB 92.3 kB/s eta 0:01:09\n",
      "   --------- ------------------------------ 1.8/8.1 MB 92.3 kB/s eta 0:01:09\n",
      "   --------- ------------------------------ 1.8/8.1 MB 92.3 kB/s eta 0:01:09\n",
      "   --------- ------------------------------ 1.8/8.1 MB 92.3 kB/s eta 0:01:09\n",
      "   --------- ------------------------------ 1.8/8.1 MB 92.3 kB/s eta 0:01:09\n",
      "   --------- ------------------------------ 1.8/8.1 MB 92.3 kB/s eta 0:01:09\n",
      "   --------- ------------------------------ 1.8/8.1 MB 92.3 kB/s eta 0:01:09\n",
      "   --------- ------------------------------ 1.8/8.1 MB 92.3 kB/s eta 0:01:09\n",
      "   --------- ------------------------------ 1.8/8.1 MB 92.3 kB/s eta 0:01:09\n",
      "   ---------- ----------------------------- 2.1/8.1 MB 87.0 kB/s eta 0:01:10\n",
      "   ---------- ----------------------------- 2.1/8.1 MB 87.0 kB/s eta 0:01:10\n",
      "   ---------- ----------------------------- 2.1/8.1 MB 87.0 kB/s eta 0:01:10\n",
      "   ---------- ----------------------------- 2.1/8.1 MB 87.0 kB/s eta 0:01:10\n",
      "   ---------- ----------------------------- 2.1/8.1 MB 87.0 kB/s eta 0:01:10\n",
      "   ---------- ----------------------------- 2.1/8.1 MB 87.0 kB/s eta 0:01:10\n",
      "   ---------- ----------------------------- 2.1/8.1 MB 87.0 kB/s eta 0:01:10\n",
      "   ---------- ----------------------------- 2.1/8.1 MB 87.0 kB/s eta 0:01:10\n",
      "   ---------- ----------------------------- 2.1/8.1 MB 87.0 kB/s eta 0:01:10\n",
      "   ---------- ----------------------------- 2.1/8.1 MB 87.0 kB/s eta 0:01:10\n",
      "   ---------- ----------------------------- 2.1/8.1 MB 87.0 kB/s eta 0:01:10\n",
      "   ---------- ----------------------------- 2.1/8.1 MB 87.0 kB/s eta 0:01:10\n",
      "   ---------- ----------------------------- 2.1/8.1 MB 87.0 kB/s eta 0:01:10\n",
      "   ---------- ----------------------------- 2.1/8.1 MB 87.0 kB/s eta 0:01:10\n",
      "   ---------- ----------------------------- 2.1/8.1 MB 87.0 kB/s eta 0:01:10\n",
      "   ---------- ----------------------------- 2.1/8.1 MB 87.0 kB/s eta 0:01:10\n",
      "   ---------- ----------------------------- 2.1/8.1 MB 87.0 kB/s eta 0:01:10\n",
      "   ---------- ----------------------------- 2.1/8.1 MB 87.0 kB/s eta 0:01:10\n",
      "   ---------- ----------------------------- 2.1/8.1 MB 87.0 kB/s eta 0:01:10\n",
      "   ---------- ----------------------------- 2.1/8.1 MB 87.0 kB/s eta 0:01:10\n",
      "   ---------- ----------------------------- 2.1/8.1 MB 87.0 kB/s eta 0:01:10\n",
      "   ---------- ----------------------------- 2.1/8.1 MB 87.0 kB/s eta 0:01:10\n",
      "   ---------- ----------------------------- 2.1/8.1 MB 87.0 kB/s eta 0:01:10\n",
      "   ---------- ----------------------------- 2.1/8.1 MB 87.0 kB/s eta 0:01:10\n",
      "   ---------- ----------------------------- 2.1/8.1 MB 87.0 kB/s eta 0:01:10\n",
      "   ---------- ----------------------------- 2.1/8.1 MB 87.0 kB/s eta 0:01:10\n",
      "   ---------- ----------------------------- 2.1/8.1 MB 87.0 kB/s eta 0:01:10\n",
      "   ---------- ----------------------------- 2.1/8.1 MB 87.0 kB/s eta 0:01:10\n",
      "   ----------- ---------------------------- 2.4/8.1 MB 77.8 kB/s eta 0:01:15\n",
      "   ----------- ---------------------------- 2.4/8.1 MB 77.8 kB/s eta 0:01:15\n",
      "   ----------- ---------------------------- 2.4/8.1 MB 77.8 kB/s eta 0:01:15\n",
      "   ----------- ---------------------------- 2.4/8.1 MB 77.8 kB/s eta 0:01:15\n",
      "   ----------- ---------------------------- 2.4/8.1 MB 77.8 kB/s eta 0:01:15\n",
      "   ----------- ---------------------------- 2.4/8.1 MB 77.8 kB/s eta 0:01:15\n",
      "   ----------- ---------------------------- 2.4/8.1 MB 77.8 kB/s eta 0:01:15\n",
      "   ----------- ---------------------------- 2.4/8.1 MB 77.8 kB/s eta 0:01:15\n",
      "   ----------- ---------------------------- 2.4/8.1 MB 77.8 kB/s eta 0:01:15\n",
      "   ----------- ---------------------------- 2.4/8.1 MB 77.8 kB/s eta 0:01:15\n",
      "   ----------- ---------------------------- 2.4/8.1 MB 77.8 kB/s eta 0:01:15\n",
      "   ----------- ---------------------------- 2.4/8.1 MB 77.8 kB/s eta 0:01:15\n",
      "   ----------- ---------------------------- 2.4/8.1 MB 77.8 kB/s eta 0:01:15\n",
      "   ----------- ---------------------------- 2.4/8.1 MB 77.8 kB/s eta 0:01:15\n",
      "   ----------- ---------------------------- 2.4/8.1 MB 77.8 kB/s eta 0:01:15\n",
      "   ----------- ---------------------------- 2.4/8.1 MB 77.8 kB/s eta 0:01:15\n",
      "   ----------- ---------------------------- 2.4/8.1 MB 77.8 kB/s eta 0:01:15\n",
      "   ----------- ---------------------------- 2.4/8.1 MB 77.8 kB/s eta 0:01:15\n",
      "   ----------- ---------------------------- 2.4/8.1 MB 77.8 kB/s eta 0:01:15\n",
      "   ----------- ---------------------------- 2.4/8.1 MB 77.8 kB/s eta 0:01:15\n",
      "   ----------- ---------------------------- 2.4/8.1 MB 77.8 kB/s eta 0:01:15\n",
      "   ----------- ---------------------------- 2.4/8.1 MB 77.8 kB/s eta 0:01:15\n",
      "   ----------- ---------------------------- 2.4/8.1 MB 77.8 kB/s eta 0:01:15\n",
      "   ----------- ---------------------------- 2.4/8.1 MB 77.8 kB/s eta 0:01:15\n",
      "   ----------- ---------------------------- 2.4/8.1 MB 77.8 kB/s eta 0:01:15\n",
      "   ----------- ---------------------------- 2.4/8.1 MB 77.8 kB/s eta 0:01:15\n",
      "   ----------- ---------------------------- 2.4/8.1 MB 77.8 kB/s eta 0:01:15\n",
      "   ----------- ---------------------------- 2.4/8.1 MB 77.8 kB/s eta 0:01:15\n",
      "   ----------- ---------------------------- 2.4/8.1 MB 77.8 kB/s eta 0:01:15\n",
      "   ----------- ---------------------------- 2.4/8.1 MB 77.8 kB/s eta 0:01:15\n",
      "   ----------- ---------------------------- 2.4/8.1 MB 77.8 kB/s eta 0:01:15\n",
      "   ----------- ---------------------------- 2.4/8.1 MB 77.8 kB/s eta 0:01:15\n",
      "   ----------- ---------------------------- 2.4/8.1 MB 77.8 kB/s eta 0:01:15\n",
      "   ------------ --------------------------- 2.6/8.1 MB 52.4 kB/s eta 0:01:45\n",
      "   ------------ --------------------------- 2.6/8.1 MB 52.4 kB/s eta 0:01:45\n",
      "   ------------ --------------------------- 2.6/8.1 MB 52.4 kB/s eta 0:01:45\n",
      "   ------------ --------------------------- 2.6/8.1 MB 52.4 kB/s eta 0:01:45\n",
      "   ------------ --------------------------- 2.6/8.1 MB 52.4 kB/s eta 0:01:45\n",
      "   ------------ --------------------------- 2.6/8.1 MB 52.4 kB/s eta 0:01:45\n",
      "   ------------ --------------------------- 2.6/8.1 MB 52.4 kB/s eta 0:01:45\n",
      "   ------------ --------------------------- 2.6/8.1 MB 52.4 kB/s eta 0:01:45\n",
      "   ------------ --------------------------- 2.6/8.1 MB 52.4 kB/s eta 0:01:45\n",
      "   ------------ --------------------------- 2.6/8.1 MB 52.4 kB/s eta 0:01:45\n",
      "   ------------ --------------------------- 2.6/8.1 MB 52.4 kB/s eta 0:01:45\n",
      "   ------------ --------------------------- 2.6/8.1 MB 52.4 kB/s eta 0:01:45\n",
      "   ------------ --------------------------- 2.6/8.1 MB 52.4 kB/s eta 0:01:45\n",
      "   ------------ --------------------------- 2.6/8.1 MB 52.4 kB/s eta 0:01:45\n",
      "   -------------- ------------------------- 2.9/8.1 MB 51.3 kB/s eta 0:01:43\n",
      "   -------------- ------------------------- 2.9/8.1 MB 51.3 kB/s eta 0:01:43\n",
      "   -------------- ------------------------- 2.9/8.1 MB 51.3 kB/s eta 0:01:43\n",
      "   -------------- ------------------------- 2.9/8.1 MB 51.3 kB/s eta 0:01:43\n",
      "   -------------- ------------------------- 2.9/8.1 MB 51.3 kB/s eta 0:01:43\n",
      "   -------------- ------------------------- 2.9/8.1 MB 51.3 kB/s eta 0:01:43\n",
      "   -------------- ------------------------- 2.9/8.1 MB 51.3 kB/s eta 0:01:43\n",
      "   -------------- ------------------------- 2.9/8.1 MB 51.3 kB/s eta 0:01:43\n",
      "   -------------- ------------------------- 2.9/8.1 MB 51.3 kB/s eta 0:01:43\n",
      "   -------------- ------------------------- 2.9/8.1 MB 51.3 kB/s eta 0:01:43\n",
      "   -------------- ------------------------- 2.9/8.1 MB 51.3 kB/s eta 0:01:43\n",
      "   -------------- ------------------------- 2.9/8.1 MB 51.3 kB/s eta 0:01:43\n",
      "   --------------- ------------------------ 3.1/8.1 MB 56.2 kB/s eta 0:01:29\n",
      "   --------------- ------------------------ 3.1/8.1 MB 56.2 kB/s eta 0:01:29\n",
      "   --------------- ------------------------ 3.1/8.1 MB 56.2 kB/s eta 0:01:29\n",
      "   --------------- ------------------------ 3.1/8.1 MB 56.2 kB/s eta 0:01:29\n",
      "   --------------- ------------------------ 3.1/8.1 MB 56.2 kB/s eta 0:01:29\n",
      "   --------------- ------------------------ 3.1/8.1 MB 56.2 kB/s eta 0:01:29\n",
      "   --------------- ------------------------ 3.1/8.1 MB 56.2 kB/s eta 0:01:29\n",
      "   --------------- ------------------------ 3.1/8.1 MB 56.2 kB/s eta 0:01:29\n",
      "   --------------- ------------------------ 3.1/8.1 MB 56.2 kB/s eta 0:01:29\n",
      "   --------------- ------------------------ 3.1/8.1 MB 56.2 kB/s eta 0:01:29\n",
      "   --------------- ------------------------ 3.1/8.1 MB 56.2 kB/s eta 0:01:29\n",
      "   --------------- ------------------------ 3.1/8.1 MB 56.2 kB/s eta 0:01:29\n",
      "   --------------- ------------------------ 3.1/8.1 MB 56.2 kB/s eta 0:01:29\n",
      "   --------------- ------------------------ 3.1/8.1 MB 56.2 kB/s eta 0:01:29\n",
      "   ---------------- ----------------------- 3.4/8.1 MB 62.1 kB/s eta 0:01:16\n",
      "   ---------------- ----------------------- 3.4/8.1 MB 62.1 kB/s eta 0:01:16\n",
      "   ---------------- ----------------------- 3.4/8.1 MB 62.1 kB/s eta 0:01:16\n",
      "   ---------------- ----------------------- 3.4/8.1 MB 62.1 kB/s eta 0:01:16\n",
      "   ---------------- ----------------------- 3.4/8.1 MB 62.1 kB/s eta 0:01:16\n",
      "   ---------------- ----------------------- 3.4/8.1 MB 62.1 kB/s eta 0:01:16\n",
      "   ---------------- ----------------------- 3.4/8.1 MB 62.1 kB/s eta 0:01:16\n",
      "   ---------------- ----------------------- 3.4/8.1 MB 62.1 kB/s eta 0:01:16\n",
      "   ---------------- ----------------------- 3.4/8.1 MB 62.1 kB/s eta 0:01:16\n",
      "   ---------------- ----------------------- 3.4/8.1 MB 62.1 kB/s eta 0:01:16\n",
      "   ---------------- ----------------------- 3.4/8.1 MB 62.1 kB/s eta 0:01:16\n",
      "   ---------------- ----------------------- 3.4/8.1 MB 62.1 kB/s eta 0:01:16\n",
      "   ---------------- ----------------------- 3.4/8.1 MB 62.1 kB/s eta 0:01:16\n",
      "   ------------------ --------------------- 3.7/8.1 MB 65.1 kB/s eta 0:01:09\n",
      "   ------------------ --------------------- 3.7/8.1 MB 65.1 kB/s eta 0:01:09\n",
      "   ------------------ --------------------- 3.7/8.1 MB 65.1 kB/s eta 0:01:09\n",
      "   ------------------ --------------------- 3.7/8.1 MB 65.1 kB/s eta 0:01:09\n",
      "   ------------------ --------------------- 3.7/8.1 MB 65.1 kB/s eta 0:01:09\n",
      "   ------------------ --------------------- 3.7/8.1 MB 65.1 kB/s eta 0:01:09\n",
      "   ------------------ --------------------- 3.7/8.1 MB 65.1 kB/s eta 0:01:09\n",
      "   ------------------ --------------------- 3.7/8.1 MB 65.1 kB/s eta 0:01:09\n",
      "   ------------------ --------------------- 3.7/8.1 MB 65.1 kB/s eta 0:01:09\n",
      "   ------------------ --------------------- 3.7/8.1 MB 65.1 kB/s eta 0:01:09\n",
      "   ------------------ --------------------- 3.7/8.1 MB 65.1 kB/s eta 0:01:09\n",
      "   ------------------ --------------------- 3.7/8.1 MB 65.1 kB/s eta 0:01:09\n",
      "   ------------------ --------------------- 3.7/8.1 MB 65.1 kB/s eta 0:01:09\n",
      "   ------------------ --------------------- 3.7/8.1 MB 65.1 kB/s eta 0:01:09\n",
      "   ------------------- -------------------- 3.9/8.1 MB 67.9 kB/s eta 0:01:02\n",
      "   ------------------- -------------------- 3.9/8.1 MB 67.9 kB/s eta 0:01:02\n",
      "   ------------------- -------------------- 3.9/8.1 MB 67.9 kB/s eta 0:01:02\n",
      "   ------------------- -------------------- 3.9/8.1 MB 67.9 kB/s eta 0:01:02\n",
      "   ------------------- -------------------- 3.9/8.1 MB 67.9 kB/s eta 0:01:02\n",
      "   -------------------- ------------------- 4.2/8.1 MB 74.6 kB/s eta 0:00:53\n",
      "   -------------------- ------------------- 4.2/8.1 MB 74.6 kB/s eta 0:00:53\n",
      "   -------------------- ------------------- 4.2/8.1 MB 74.6 kB/s eta 0:00:53\n",
      "   -------------------- ------------------- 4.2/8.1 MB 74.6 kB/s eta 0:00:53\n",
      "   -------------------- ------------------- 4.2/8.1 MB 74.6 kB/s eta 0:00:53\n",
      "   -------------------- ------------------- 4.2/8.1 MB 74.6 kB/s eta 0:00:53\n",
      "   -------------------- ------------------- 4.2/8.1 MB 74.6 kB/s eta 0:00:53\n",
      "   -------------------- ------------------- 4.2/8.1 MB 74.6 kB/s eta 0:00:53\n",
      "   -------------------- ------------------- 4.2/8.1 MB 74.6 kB/s eta 0:00:53\n",
      "   -------------------- ------------------- 4.2/8.1 MB 74.6 kB/s eta 0:00:53\n",
      "   -------------------- ------------------- 4.2/8.1 MB 74.6 kB/s eta 0:00:53\n",
      "   -------------------- ------------------- 4.2/8.1 MB 74.6 kB/s eta 0:00:53\n",
      "   -------------------- ------------------- 4.2/8.1 MB 74.6 kB/s eta 0:00:53\n",
      "   --------------------- ------------------ 4.5/8.1 MB 84.2 kB/s eta 0:00:44\n",
      "   --------------------- ------------------ 4.5/8.1 MB 84.2 kB/s eta 0:00:44\n",
      "   --------------------- ------------------ 4.5/8.1 MB 84.2 kB/s eta 0:00:44\n",
      "   --------------------- ------------------ 4.5/8.1 MB 84.2 kB/s eta 0:00:44\n",
      "   --------------------- ------------------ 4.5/8.1 MB 84.2 kB/s eta 0:00:44\n",
      "   --------------------- ------------------ 4.5/8.1 MB 84.2 kB/s eta 0:00:44\n",
      "   --------------------- ------------------ 4.5/8.1 MB 84.2 kB/s eta 0:00:44\n",
      "   --------------------- ------------------ 4.5/8.1 MB 84.2 kB/s eta 0:00:44\n",
      "   --------------------- ------------------ 4.5/8.1 MB 84.2 kB/s eta 0:00:44\n",
      "   --------------------- ------------------ 4.5/8.1 MB 84.2 kB/s eta 0:00:44\n",
      "   --------------------- ------------------ 4.5/8.1 MB 84.2 kB/s eta 0:00:44\n",
      "   --------------------- ------------------ 4.5/8.1 MB 84.2 kB/s eta 0:00:44\n",
      "   --------------------- ------------------ 4.5/8.1 MB 84.2 kB/s eta 0:00:44\n",
      "   --------------------- ------------------ 4.5/8.1 MB 84.2 kB/s eta 0:00:44\n",
      "   --------------------- ------------------ 4.5/8.1 MB 84.2 kB/s eta 0:00:44\n",
      "   ----------------------- ---------------- 4.7/8.1 MB 83.7 kB/s eta 0:00:41\n",
      "   ----------------------- ---------------- 4.7/8.1 MB 83.7 kB/s eta 0:00:41\n",
      "   ----------------------- ---------------- 4.7/8.1 MB 83.7 kB/s eta 0:00:41\n",
      "   ----------------------- ---------------- 4.7/8.1 MB 83.7 kB/s eta 0:00:41\n",
      "   ----------------------- ---------------- 4.7/8.1 MB 83.7 kB/s eta 0:00:41\n",
      "   ----------------------- ---------------- 4.7/8.1 MB 83.7 kB/s eta 0:00:41\n",
      "   ----------------------- ---------------- 4.7/8.1 MB 83.7 kB/s eta 0:00:41\n",
      "   ----------------------- ---------------- 4.7/8.1 MB 83.7 kB/s eta 0:00:41\n",
      "   ----------------------- ---------------- 4.7/8.1 MB 83.7 kB/s eta 0:00:41\n",
      "   ------------------------ --------------- 5.0/8.1 MB 102.8 kB/s eta 0:00:31\n",
      "   ------------------------ --------------- 5.0/8.1 MB 102.8 kB/s eta 0:00:31\n",
      "   ------------------------ --------------- 5.0/8.1 MB 102.8 kB/s eta 0:00:31\n",
      "   ------------------------ --------------- 5.0/8.1 MB 102.8 kB/s eta 0:00:31\n",
      "   ------------------------ --------------- 5.0/8.1 MB 102.8 kB/s eta 0:00:31\n",
      "   ------------------------ --------------- 5.0/8.1 MB 102.8 kB/s eta 0:00:31\n",
      "   ------------------------ --------------- 5.0/8.1 MB 102.8 kB/s eta 0:00:31\n",
      "   ------------------------ --------------- 5.0/8.1 MB 102.8 kB/s eta 0:00:31\n",
      "   ------------------------ --------------- 5.0/8.1 MB 102.8 kB/s eta 0:00:31\n",
      "   ------------------------ --------------- 5.0/8.1 MB 102.8 kB/s eta 0:00:31\n",
      "   ------------------------ --------------- 5.0/8.1 MB 102.8 kB/s eta 0:00:31\n",
      "   ------------------------- -------------- 5.2/8.1 MB 104.5 kB/s eta 0:00:28\n",
      "   ------------------------- -------------- 5.2/8.1 MB 104.5 kB/s eta 0:00:28\n",
      "   ------------------------- -------------- 5.2/8.1 MB 104.5 kB/s eta 0:00:28\n",
      "   ------------------------- -------------- 5.2/8.1 MB 104.5 kB/s eta 0:00:28\n",
      "   ------------------------- -------------- 5.2/8.1 MB 104.5 kB/s eta 0:00:28\n",
      "   ------------------------- -------------- 5.2/8.1 MB 104.5 kB/s eta 0:00:28\n",
      "   ------------------------- -------------- 5.2/8.1 MB 104.5 kB/s eta 0:00:28\n",
      "   ------------------------- -------------- 5.2/8.1 MB 104.5 kB/s eta 0:00:28\n",
      "   ------------------------- -------------- 5.2/8.1 MB 104.5 kB/s eta 0:00:28\n",
      "   ------------------------- -------------- 5.2/8.1 MB 104.5 kB/s eta 0:00:28\n",
      "   ------------------------- -------------- 5.2/8.1 MB 104.5 kB/s eta 0:00:28\n",
      "   ------------------------- -------------- 5.2/8.1 MB 104.5 kB/s eta 0:00:28\n",
      "   ------------------------- -------------- 5.2/8.1 MB 104.5 kB/s eta 0:00:28\n",
      "   ------------------------- -------------- 5.2/8.1 MB 104.5 kB/s eta 0:00:28\n",
      "   ------------------------- -------------- 5.2/8.1 MB 104.5 kB/s eta 0:00:28\n",
      "   ------------------------- -------------- 5.2/8.1 MB 104.5 kB/s eta 0:00:28\n",
      "   ------------------------- -------------- 5.2/8.1 MB 104.5 kB/s eta 0:00:28\n",
      "   ------------------------- -------------- 5.2/8.1 MB 104.5 kB/s eta 0:00:28\n",
      "   ------------------------- -------------- 5.2/8.1 MB 104.5 kB/s eta 0:00:28\n",
      "   ------------------------- -------------- 5.2/8.1 MB 104.5 kB/s eta 0:00:28\n",
      "   ------------------------- -------------- 5.2/8.1 MB 104.5 kB/s eta 0:00:28\n",
      "   ------------------------- -------------- 5.2/8.1 MB 104.5 kB/s eta 0:00:28\n",
      "   ------------------------- -------------- 5.2/8.1 MB 104.5 kB/s eta 0:00:28\n",
      "   ------------------------- -------------- 5.2/8.1 MB 104.5 kB/s eta 0:00:28\n",
      "   ------------------------- -------------- 5.2/8.1 MB 104.5 kB/s eta 0:00:28\n",
      "   ------------------------- -------------- 5.2/8.1 MB 104.5 kB/s eta 0:00:28\n",
      "   ------------------------- -------------- 5.2/8.1 MB 104.5 kB/s eta 0:00:28\n",
      "   --------------------------- ------------ 5.5/8.1 MB 94.0 kB/s eta 0:00:28\n",
      "   --------------------------- ------------ 5.5/8.1 MB 94.0 kB/s eta 0:00:28\n",
      "   --------------------------- ------------ 5.5/8.1 MB 94.0 kB/s eta 0:00:28\n",
      "   --------------------------- ------------ 5.5/8.1 MB 94.0 kB/s eta 0:00:28\n",
      "   --------------------------- ------------ 5.5/8.1 MB 94.0 kB/s eta 0:00:28\n",
      "   --------------------------- ------------ 5.5/8.1 MB 94.0 kB/s eta 0:00:28\n",
      "   --------------------------- ------------ 5.5/8.1 MB 94.0 kB/s eta 0:00:28\n",
      "   --------------------------- ------------ 5.5/8.1 MB 94.0 kB/s eta 0:00:28\n",
      "   --------------------------- ------------ 5.5/8.1 MB 94.0 kB/s eta 0:00:28\n",
      "   --------------------------- ------------ 5.5/8.1 MB 94.0 kB/s eta 0:00:28\n",
      "   --------------------------- ------------ 5.5/8.1 MB 94.0 kB/s eta 0:00:28\n",
      "   ---------------------------- ----------- 5.8/8.1 MB 93.8 kB/s eta 0:00:26\n",
      "   ---------------------------- ----------- 5.8/8.1 MB 93.8 kB/s eta 0:00:26\n",
      "   ---------------------------- ----------- 5.8/8.1 MB 93.8 kB/s eta 0:00:26\n",
      "   ---------------------------- ----------- 5.8/8.1 MB 93.8 kB/s eta 0:00:26\n",
      "   ---------------------------- ----------- 5.8/8.1 MB 93.8 kB/s eta 0:00:26\n",
      "   ---------------------------- ----------- 5.8/8.1 MB 93.8 kB/s eta 0:00:26\n",
      "   ---------------------------- ----------- 5.8/8.1 MB 93.8 kB/s eta 0:00:26\n",
      "   ---------------------------- ----------- 5.8/8.1 MB 93.8 kB/s eta 0:00:26\n",
      "   ---------------------------- ----------- 5.8/8.1 MB 93.8 kB/s eta 0:00:26\n",
      "   ---------------------------- ----------- 5.8/8.1 MB 93.8 kB/s eta 0:00:26\n",
      "   ---------------------------- ----------- 5.8/8.1 MB 93.8 kB/s eta 0:00:26\n",
      "   ---------------------------- ----------- 5.8/8.1 MB 93.8 kB/s eta 0:00:26\n",
      "   ---------------------------- ----------- 5.8/8.1 MB 93.8 kB/s eta 0:00:26\n",
      "   ---------------------------- ----------- 5.8/8.1 MB 93.8 kB/s eta 0:00:26\n",
      "   ---------------------------- ----------- 5.8/8.1 MB 93.8 kB/s eta 0:00:26\n",
      "   ---------------------------- ----------- 5.8/8.1 MB 93.8 kB/s eta 0:00:26\n",
      "   ---------------------------- ----------- 5.8/8.1 MB 93.8 kB/s eta 0:00:26\n",
      "   ---------------------------- ----------- 5.8/8.1 MB 93.8 kB/s eta 0:00:26\n",
      "   ---------------------------- ----------- 5.8/8.1 MB 93.8 kB/s eta 0:00:26\n",
      "   ---------------------------- ----------- 5.8/8.1 MB 93.8 kB/s eta 0:00:26\n",
      "   ---------------------------- ----------- 5.8/8.1 MB 93.8 kB/s eta 0:00:26\n",
      "   ---------------------------- ----------- 5.8/8.1 MB 93.8 kB/s eta 0:00:26\n",
      "   ---------------------------- ----------- 5.8/8.1 MB 93.8 kB/s eta 0:00:26\n",
      "   ---------------------------- ----------- 5.8/8.1 MB 93.8 kB/s eta 0:00:26\n",
      "   ---------------------------- ----------- 5.8/8.1 MB 93.8 kB/s eta 0:00:26\n",
      "   ---------------------------- ----------- 5.8/8.1 MB 93.8 kB/s eta 0:00:26\n",
      "   ---------------------------- ----------- 5.8/8.1 MB 93.8 kB/s eta 0:00:26\n",
      "   ---------------------------- ----------- 5.8/8.1 MB 93.8 kB/s eta 0:00:26\n",
      "   ---------------------------- ----------- 5.8/8.1 MB 93.8 kB/s eta 0:00:26\n",
      "   ----------------------------- ---------- 6.0/8.1 MB 83.3 kB/s eta 0:00:26\n",
      "   ----------------------------- ---------- 6.0/8.1 MB 83.3 kB/s eta 0:00:26\n",
      "   ----------------------------- ---------- 6.0/8.1 MB 83.3 kB/s eta 0:00:26\n",
      "   ----------------------------- ---------- 6.0/8.1 MB 83.3 kB/s eta 0:00:26\n",
      "   ----------------------------- ---------- 6.0/8.1 MB 83.3 kB/s eta 0:00:26\n",
      "   ----------------------------- ---------- 6.0/8.1 MB 83.3 kB/s eta 0:00:26\n",
      "   ----------------------------- ---------- 6.0/8.1 MB 83.3 kB/s eta 0:00:26\n",
      "   ----------------------------- ---------- 6.0/8.1 MB 83.3 kB/s eta 0:00:26\n",
      "   ----------------------------- ---------- 6.0/8.1 MB 83.3 kB/s eta 0:00:26\n",
      "   ----------------------------- ---------- 6.0/8.1 MB 83.3 kB/s eta 0:00:26\n",
      "   ----------------------------- ---------- 6.0/8.1 MB 83.3 kB/s eta 0:00:26\n",
      "   ----------------------------- ---------- 6.0/8.1 MB 83.3 kB/s eta 0:00:26\n",
      "   ----------------------------- ---------- 6.0/8.1 MB 83.3 kB/s eta 0:00:26\n",
      "   ----------------------------- ---------- 6.0/8.1 MB 83.3 kB/s eta 0:00:26\n",
      "   ------------------------------ --------- 6.3/8.1 MB 83.4 kB/s eta 0:00:22\n",
      "   ------------------------------ --------- 6.3/8.1 MB 83.4 kB/s eta 0:00:22\n",
      "   ------------------------------ --------- 6.3/8.1 MB 83.4 kB/s eta 0:00:22\n",
      "   ------------------------------ --------- 6.3/8.1 MB 83.4 kB/s eta 0:00:22\n",
      "   ------------------------------ --------- 6.3/8.1 MB 83.4 kB/s eta 0:00:22\n",
      "   ------------------------------ --------- 6.3/8.1 MB 83.4 kB/s eta 0:00:22\n",
      "   ------------------------------ --------- 6.3/8.1 MB 83.4 kB/s eta 0:00:22\n",
      "   ------------------------------ --------- 6.3/8.1 MB 83.4 kB/s eta 0:00:22\n",
      "   ------------------------------ --------- 6.3/8.1 MB 83.4 kB/s eta 0:00:22\n",
      "   ------------------------------ --------- 6.3/8.1 MB 83.4 kB/s eta 0:00:22\n",
      "   ------------------------------ --------- 6.3/8.1 MB 83.4 kB/s eta 0:00:22\n",
      "   ------------------------------ --------- 6.3/8.1 MB 83.4 kB/s eta 0:00:22\n",
      "   ------------------------------ --------- 6.3/8.1 MB 83.4 kB/s eta 0:00:22\n",
      "   ------------------------------ --------- 6.3/8.1 MB 83.4 kB/s eta 0:00:22\n",
      "   ------------------------------ --------- 6.3/8.1 MB 83.4 kB/s eta 0:00:22\n",
      "   ------------------------------ --------- 6.3/8.1 MB 83.4 kB/s eta 0:00:22\n",
      "   ------------------------------ --------- 6.3/8.1 MB 83.4 kB/s eta 0:00:22\n",
      "   ------------------------------ --------- 6.3/8.1 MB 83.4 kB/s eta 0:00:22\n",
      "   ------------------------------ --------- 6.3/8.1 MB 83.4 kB/s eta 0:00:22\n",
      "   ------------------------------ --------- 6.3/8.1 MB 83.4 kB/s eta 0:00:22\n",
      "   ------------------------------ --------- 6.3/8.1 MB 83.4 kB/s eta 0:00:22\n",
      "   ------------------------------ --------- 6.3/8.1 MB 83.4 kB/s eta 0:00:22\n",
      "   ------------------------------ --------- 6.3/8.1 MB 83.4 kB/s eta 0:00:22\n",
      "   ------------------------------ --------- 6.3/8.1 MB 83.4 kB/s eta 0:00:22\n",
      "   -------------------------------- ------- 6.6/8.1 MB 71.1 kB/s eta 0:00:23\n",
      "   -------------------------------- ------- 6.6/8.1 MB 71.1 kB/s eta 0:00:23\n",
      "   -------------------------------- ------- 6.6/8.1 MB 71.1 kB/s eta 0:00:23\n",
      "   -------------------------------- ------- 6.6/8.1 MB 71.1 kB/s eta 0:00:23\n",
      "   -------------------------------- ------- 6.6/8.1 MB 71.1 kB/s eta 0:00:23\n",
      "   -------------------------------- ------- 6.6/8.1 MB 71.1 kB/s eta 0:00:23\n",
      "   -------------------------------- ------- 6.6/8.1 MB 71.1 kB/s eta 0:00:23\n",
      "   -------------------------------- ------- 6.6/8.1 MB 71.1 kB/s eta 0:00:23\n",
      "   -------------------------------- ------- 6.6/8.1 MB 71.1 kB/s eta 0:00:23\n",
      "   -------------------------------- ------- 6.6/8.1 MB 71.1 kB/s eta 0:00:23\n",
      "   -------------------------------- ------- 6.6/8.1 MB 71.1 kB/s eta 0:00:23\n",
      "   -------------------------------- ------- 6.6/8.1 MB 71.1 kB/s eta 0:00:23\n",
      "   -------------------------------- ------- 6.6/8.1 MB 71.1 kB/s eta 0:00:23\n",
      "   -------------------------------- ------- 6.6/8.1 MB 71.1 kB/s eta 0:00:23\n",
      "   -------------------------------- ------- 6.6/8.1 MB 71.1 kB/s eta 0:00:23\n",
      "   -------------------------------- ------- 6.6/8.1 MB 71.1 kB/s eta 0:00:23\n",
      "   -------------------------------- ------- 6.6/8.1 MB 71.1 kB/s eta 0:00:23\n",
      "   -------------------------------- ------- 6.6/8.1 MB 71.1 kB/s eta 0:00:23\n",
      "   --------------------------------- ------ 6.8/8.1 MB 65.2 kB/s eta 0:00:21\n",
      "   --------------------------------- ------ 6.8/8.1 MB 65.2 kB/s eta 0:00:21\n",
      "   --------------------------------- ------ 6.8/8.1 MB 65.2 kB/s eta 0:00:21\n",
      "   --------------------------------- ------ 6.8/8.1 MB 65.2 kB/s eta 0:00:21\n",
      "   --------------------------------- ------ 6.8/8.1 MB 65.2 kB/s eta 0:00:21\n",
      "   --------------------------------- ------ 6.8/8.1 MB 65.2 kB/s eta 0:00:21\n",
      "   --------------------------------- ------ 6.8/8.1 MB 65.2 kB/s eta 0:00:21\n",
      "   --------------------------------- ------ 6.8/8.1 MB 65.2 kB/s eta 0:00:21\n",
      "   --------------------------------- ------ 6.8/8.1 MB 65.2 kB/s eta 0:00:21\n",
      "   --------------------------------- ------ 6.8/8.1 MB 65.2 kB/s eta 0:00:21\n",
      "   --------------------------------- ------ 6.8/8.1 MB 65.2 kB/s eta 0:00:21\n",
      "   --------------------------------- ------ 6.8/8.1 MB 65.2 kB/s eta 0:00:21\n",
      "   --------------------------------- ------ 6.8/8.1 MB 65.2 kB/s eta 0:00:21\n",
      "   --------------------------------- ------ 6.8/8.1 MB 65.2 kB/s eta 0:00:21\n",
      "   --------------------------------- ------ 6.8/8.1 MB 65.2 kB/s eta 0:00:21\n",
      "   --------------------------------- ------ 6.8/8.1 MB 65.2 kB/s eta 0:00:21\n",
      "   --------------------------------- ------ 6.8/8.1 MB 65.2 kB/s eta 0:00:21\n",
      "   --------------------------------- ------ 6.8/8.1 MB 65.2 kB/s eta 0:00:21\n",
      "   --------------------------------- ------ 6.8/8.1 MB 65.2 kB/s eta 0:00:21\n",
      "   --------------------------------- ------ 6.8/8.1 MB 65.2 kB/s eta 0:00:21\n",
      "   --------------------------------- ------ 6.8/8.1 MB 65.2 kB/s eta 0:00:21\n",
      "   --------------------------------- ------ 6.8/8.1 MB 65.2 kB/s eta 0:00:21\n",
      "   --------------------------------- ------ 6.8/8.1 MB 65.2 kB/s eta 0:00:21\n",
      "   --------------------------------- ------ 6.8/8.1 MB 65.2 kB/s eta 0:00:21\n",
      "   --------------------------------- ------ 6.8/8.1 MB 65.2 kB/s eta 0:00:21\n",
      "   --------------------------------- ------ 6.8/8.1 MB 65.2 kB/s eta 0:00:21\n",
      "   ---------------------------------- ----- 7.1/8.1 MB 61.1 kB/s eta 0:00:18\n",
      "   ---------------------------------- ----- 7.1/8.1 MB 61.1 kB/s eta 0:00:18\n",
      "   ---------------------------------- ----- 7.1/8.1 MB 61.1 kB/s eta 0:00:18\n",
      "   ---------------------------------- ----- 7.1/8.1 MB 61.1 kB/s eta 0:00:18\n",
      "   ---------------------------------- ----- 7.1/8.1 MB 61.1 kB/s eta 0:00:18\n",
      "   ---------------------------------- ----- 7.1/8.1 MB 61.1 kB/s eta 0:00:18\n",
      "   ---------------------------------- ----- 7.1/8.1 MB 61.1 kB/s eta 0:00:18\n",
      "   ---------------------------------- ----- 7.1/8.1 MB 61.1 kB/s eta 0:00:18\n",
      "   ---------------------------------- ----- 7.1/8.1 MB 61.1 kB/s eta 0:00:18\n",
      "   ---------------------------------- ----- 7.1/8.1 MB 61.1 kB/s eta 0:00:18\n",
      "   ---------------------------------- ----- 7.1/8.1 MB 61.1 kB/s eta 0:00:18\n",
      "   ---------------------------------- ----- 7.1/8.1 MB 61.1 kB/s eta 0:00:18\n",
      "   ---------------------------------- ----- 7.1/8.1 MB 61.1 kB/s eta 0:00:18\n",
      "   ---------------------------------- ----- 7.1/8.1 MB 61.1 kB/s eta 0:00:18\n",
      "   ---------------------------------- ----- 7.1/8.1 MB 61.1 kB/s eta 0:00:18\n",
      "   ---------------------------------- ----- 7.1/8.1 MB 61.1 kB/s eta 0:00:18\n",
      "   ---------------------------------- ----- 7.1/8.1 MB 61.1 kB/s eta 0:00:18\n",
      "   ---------------------------------- ----- 7.1/8.1 MB 61.1 kB/s eta 0:00:18\n",
      "   ---------------------------------- ----- 7.1/8.1 MB 61.1 kB/s eta 0:00:18\n",
      "   ------------------------------------ --- 7.3/8.1 MB 61.4 kB/s eta 0:00:13\n",
      "   ------------------------------------ --- 7.3/8.1 MB 61.4 kB/s eta 0:00:13\n",
      "   ------------------------------------ --- 7.3/8.1 MB 61.4 kB/s eta 0:00:13\n",
      "   ------------------------------------ --- 7.3/8.1 MB 61.4 kB/s eta 0:00:13\n",
      "   ------------------------------------ --- 7.3/8.1 MB 61.4 kB/s eta 0:00:13\n",
      "   ------------------------------------ --- 7.3/8.1 MB 61.4 kB/s eta 0:00:13\n",
      "   ------------------------------------ --- 7.3/8.1 MB 61.4 kB/s eta 0:00:13\n",
      "   ------------------------------------ --- 7.3/8.1 MB 61.4 kB/s eta 0:00:13\n",
      "   ------------------------------------ --- 7.3/8.1 MB 61.4 kB/s eta 0:00:13\n",
      "   ------------------------------------ --- 7.3/8.1 MB 61.4 kB/s eta 0:00:13\n",
      "   ------------------------------------ --- 7.3/8.1 MB 61.4 kB/s eta 0:00:13\n",
      "   ------------------------------------ --- 7.3/8.1 MB 61.4 kB/s eta 0:00:13\n",
      "   ------------------------------------ --- 7.3/8.1 MB 61.4 kB/s eta 0:00:13\n",
      "   ------------------------------------ --- 7.3/8.1 MB 61.4 kB/s eta 0:00:13\n",
      "   ------------------------------------ --- 7.3/8.1 MB 61.4 kB/s eta 0:00:13\n",
      "   ------------------------------------ --- 7.3/8.1 MB 61.4 kB/s eta 0:00:13\n",
      "   ------------------------------------ --- 7.3/8.1 MB 61.4 kB/s eta 0:00:13\n",
      "   ------------------------------------ --- 7.3/8.1 MB 61.4 kB/s eta 0:00:13\n",
      "   ------------------------------------ --- 7.3/8.1 MB 61.4 kB/s eta 0:00:13\n",
      "   ------------------------------------ --- 7.3/8.1 MB 61.4 kB/s eta 0:00:13\n",
      "   ------------------------------------ --- 7.3/8.1 MB 61.4 kB/s eta 0:00:13\n",
      "   ------------------------------------ --- 7.3/8.1 MB 61.4 kB/s eta 0:00:13\n",
      "   ------------------------------------ --- 7.3/8.1 MB 61.4 kB/s eta 0:00:13\n",
      "   ------------------------------------ --- 7.3/8.1 MB 61.4 kB/s eta 0:00:13\n",
      "   ------------------------------------ --- 7.3/8.1 MB 61.4 kB/s eta 0:00:13\n",
      "   ------------------------------------ --- 7.3/8.1 MB 61.4 kB/s eta 0:00:13\n",
      "   ------------------------------------ --- 7.3/8.1 MB 61.4 kB/s eta 0:00:13\n",
      "   ------------------------------------ --- 7.3/8.1 MB 61.4 kB/s eta 0:00:13\n",
      "   ------------------------------------ --- 7.3/8.1 MB 61.4 kB/s eta 0:00:13\n",
      "   ------------------------------------- -- 7.6/8.1 MB 57.6 kB/s eta 0:00:10\n",
      "   ------------------------------------- -- 7.6/8.1 MB 57.6 kB/s eta 0:00:10\n",
      "   ------------------------------------- -- 7.6/8.1 MB 57.6 kB/s eta 0:00:10\n",
      "   ------------------------------------- -- 7.6/8.1 MB 57.6 kB/s eta 0:00:10\n",
      "   ------------------------------------- -- 7.6/8.1 MB 57.6 kB/s eta 0:00:10\n",
      "   ------------------------------------- -- 7.6/8.1 MB 57.6 kB/s eta 0:00:10\n",
      "   ------------------------------------- -- 7.6/8.1 MB 57.6 kB/s eta 0:00:10\n",
      "   ------------------------------------- -- 7.6/8.1 MB 57.6 kB/s eta 0:00:10\n",
      "   ------------------------------------- -- 7.6/8.1 MB 57.6 kB/s eta 0:00:10\n",
      "   ------------------------------------- -- 7.6/8.1 MB 57.6 kB/s eta 0:00:10\n",
      "   ------------------------------------- -- 7.6/8.1 MB 57.6 kB/s eta 0:00:10\n",
      "   ------------------------------------- -- 7.6/8.1 MB 57.6 kB/s eta 0:00:10\n",
      "   -------------------------------------- - 7.9/8.1 MB 61.6 kB/s eta 0:00:05\n",
      "   -------------------------------------- - 7.9/8.1 MB 61.6 kB/s eta 0:00:05\n",
      "   -------------------------------------- - 7.9/8.1 MB 61.6 kB/s eta 0:00:05\n",
      "   ---------------------------------------- 8.1/8.1 MB 66.3 kB/s  0:01:44\n",
      "Downloading contourpy-1.3.3-cp313-cp313-win_amd64.whl (226 kB)\n",
      "Downloading cycler-0.12.1-py3-none-any.whl (8.3 kB)\n",
      "Downloading fonttools-4.59.2-cp313-cp313-win_amd64.whl (2.3 MB)\n",
      "   ---------------------------------------- 0.0/2.3 MB ? eta -:--:--\n",
      "   ---------------------------------------- 0.0/2.3 MB ? eta -:--:--\n",
      "   ---------------------------------------- 0.0/2.3 MB ? eta -:--:--\n",
      "   ---------------------------------------- 0.0/2.3 MB ? eta -:--:--\n",
      "   ---------------------------------------- 0.0/2.3 MB ? eta -:--:--\n",
      "   ---------------------------------------- 0.0/2.3 MB ? eta -:--:--\n",
      "   ---------------------------------------- 0.0/2.3 MB ? eta -:--:--\n",
      "   ---------------------------------------- 0.0/2.3 MB ? eta -:--:--\n",
      "   ---------------------------------------- 0.0/2.3 MB ? eta -:--:--\n",
      "   ---------------------------------------- 0.0/2.3 MB ? eta -:--:--\n",
      "   ---------------------------------------- 0.0/2.3 MB ? eta -:--:--\n",
      "   ---------------------------------------- 0.0/2.3 MB ? eta -:--:--\n",
      "   ---------------------------------------- 0.0/2.3 MB ? eta -:--:--\n",
      "   ---------------------------------------- 0.0/2.3 MB ? eta -:--:--\n",
      "   ---------------------------------------- 0.0/2.3 MB ? eta -:--:--\n",
      "   ---------------------------------------- 0.0/2.3 MB ? eta -:--:--\n",
      "   ---------------------------------------- 0.0/2.3 MB ? eta -:--:--\n",
      "   ---------------------------------------- 0.0/2.3 MB ? eta -:--:--\n",
      "   ---------------------------------------- 0.0/2.3 MB ? eta -:--:--\n",
      "   ---------------------------------------- 0.0/2.3 MB ? eta -:--:--\n",
      "   ---------------------------------------- 0.0/2.3 MB ? eta -:--:--\n",
      "   ---------------------------------------- 0.0/2.3 MB ? eta -:--:--\n",
      "   ---------------------------------------- 0.0/2.3 MB ? eta -:--:--\n",
      "   ---------------------------------------- 0.0/2.3 MB ? eta -:--:--\n",
      "   ---- ----------------------------------- 0.3/2.3 MB ? eta -:--:--\n",
      "   ---- ----------------------------------- 0.3/2.3 MB ? eta -:--:--\n",
      "   ---- ----------------------------------- 0.3/2.3 MB ? eta -:--:--\n",
      "   ---- ----------------------------------- 0.3/2.3 MB ? eta -:--:--\n",
      "   ---- ----------------------------------- 0.3/2.3 MB ? eta -:--:--\n",
      "   ---- ----------------------------------- 0.3/2.3 MB ? eta -:--:--\n",
      "   ---- ----------------------------------- 0.3/2.3 MB ? eta -:--:--\n",
      "   ---- ----------------------------------- 0.3/2.3 MB ? eta -:--:--\n",
      "   ---- ----------------------------------- 0.3/2.3 MB ? eta -:--:--\n",
      "   ---- ----------------------------------- 0.3/2.3 MB ? eta -:--:--\n",
      "   ---- ----------------------------------- 0.3/2.3 MB ? eta -:--:--\n",
      "   ---- ----------------------------------- 0.3/2.3 MB ? eta -:--:--\n",
      "   ---- ----------------------------------- 0.3/2.3 MB ? eta -:--:--\n",
      "   ---- ----------------------------------- 0.3/2.3 MB ? eta -:--:--\n",
      "   ---- ----------------------------------- 0.3/2.3 MB ? eta -:--:--\n",
      "   ---- ----------------------------------- 0.3/2.3 MB ? eta -:--:--\n",
      "   ---- ----------------------------------- 0.3/2.3 MB ? eta -:--:--\n",
      "   --------- ------------------------------ 0.5/2.3 MB 72.5 kB/s eta 0:00:24\n",
      "   --------- ------------------------------ 0.5/2.3 MB 72.5 kB/s eta 0:00:24\n",
      "   --------- ------------------------------ 0.5/2.3 MB 72.5 kB/s eta 0:00:24\n",
      "   --------- ------------------------------ 0.5/2.3 MB 72.5 kB/s eta 0:00:24\n",
      "   --------- ------------------------------ 0.5/2.3 MB 72.5 kB/s eta 0:00:24\n",
      "   --------- ------------------------------ 0.5/2.3 MB 72.5 kB/s eta 0:00:24\n",
      "   --------- ------------------------------ 0.5/2.3 MB 72.5 kB/s eta 0:00:24\n",
      "   --------- ------------------------------ 0.5/2.3 MB 72.5 kB/s eta 0:00:24\n",
      "   --------- ------------------------------ 0.5/2.3 MB 72.5 kB/s eta 0:00:24\n",
      "   --------- ------------------------------ 0.5/2.3 MB 72.5 kB/s eta 0:00:24\n",
      "   --------- ------------------------------ 0.5/2.3 MB 72.5 kB/s eta 0:00:24\n",
      "   --------- ------------------------------ 0.5/2.3 MB 72.5 kB/s eta 0:00:24\n",
      "   --------- ------------------------------ 0.5/2.3 MB 72.5 kB/s eta 0:00:24\n",
      "   --------- ------------------------------ 0.5/2.3 MB 72.5 kB/s eta 0:00:24\n",
      "   --------- ------------------------------ 0.5/2.3 MB 72.5 kB/s eta 0:00:24\n",
      "   --------- ------------------------------ 0.5/2.3 MB 72.5 kB/s eta 0:00:24\n",
      "   --------- ------------------------------ 0.5/2.3 MB 72.5 kB/s eta 0:00:24\n",
      "   --------- ------------------------------ 0.5/2.3 MB 72.5 kB/s eta 0:00:24\n",
      "   --------- ------------------------------ 0.5/2.3 MB 72.5 kB/s eta 0:00:24\n",
      "   --------- ------------------------------ 0.5/2.3 MB 72.5 kB/s eta 0:00:24\n",
      "   --------- ------------------------------ 0.5/2.3 MB 72.5 kB/s eta 0:00:24\n",
      "   --------- ------------------------------ 0.5/2.3 MB 72.5 kB/s eta 0:00:24\n",
      "   --------- ------------------------------ 0.5/2.3 MB 72.5 kB/s eta 0:00:24\n",
      "   ------------- -------------------------- 0.8/2.3 MB 61.8 kB/s eta 0:00:24\n",
      "   ------------- -------------------------- 0.8/2.3 MB 61.8 kB/s eta 0:00:24\n",
      "   ------------- -------------------------- 0.8/2.3 MB 61.8 kB/s eta 0:00:24\n",
      "   ------------- -------------------------- 0.8/2.3 MB 61.8 kB/s eta 0:00:24\n",
      "   ------------- -------------------------- 0.8/2.3 MB 61.8 kB/s eta 0:00:24\n",
      "   ------------- -------------------------- 0.8/2.3 MB 61.8 kB/s eta 0:00:24\n",
      "   ------------- -------------------------- 0.8/2.3 MB 61.8 kB/s eta 0:00:24\n",
      "   ------------- -------------------------- 0.8/2.3 MB 61.8 kB/s eta 0:00:24\n",
      "   ------------- -------------------------- 0.8/2.3 MB 61.8 kB/s eta 0:00:24\n",
      "   ------------- -------------------------- 0.8/2.3 MB 61.8 kB/s eta 0:00:24\n",
      "   ------------- -------------------------- 0.8/2.3 MB 61.8 kB/s eta 0:00:24\n",
      "   ------------- -------------------------- 0.8/2.3 MB 61.8 kB/s eta 0:00:24\n",
      "   ------------- -------------------------- 0.8/2.3 MB 61.8 kB/s eta 0:00:24\n",
      "   ------------- -------------------------- 0.8/2.3 MB 61.8 kB/s eta 0:00:24\n",
      "   ------------- -------------------------- 0.8/2.3 MB 61.8 kB/s eta 0:00:24\n",
      "   ------------- -------------------------- 0.8/2.3 MB 61.8 kB/s eta 0:00:24\n",
      "   ------------- -------------------------- 0.8/2.3 MB 61.8 kB/s eta 0:00:24\n",
      "   ------------- -------------------------- 0.8/2.3 MB 61.8 kB/s eta 0:00:24\n",
      "   ------------------ --------------------- 1.0/2.3 MB 64.1 kB/s eta 0:00:19\n",
      "   ------------------ --------------------- 1.0/2.3 MB 64.1 kB/s eta 0:00:19\n",
      "   ------------------ --------------------- 1.0/2.3 MB 64.1 kB/s eta 0:00:19\n",
      "   ------------------ --------------------- 1.0/2.3 MB 64.1 kB/s eta 0:00:19\n",
      "   ------------------ --------------------- 1.0/2.3 MB 64.1 kB/s eta 0:00:19\n",
      "   ------------------ --------------------- 1.0/2.3 MB 64.1 kB/s eta 0:00:19\n",
      "   ------------------ --------------------- 1.0/2.3 MB 64.1 kB/s eta 0:00:19\n",
      "   ------------------ --------------------- 1.0/2.3 MB 64.1 kB/s eta 0:00:19\n",
      "   ------------------ --------------------- 1.0/2.3 MB 64.1 kB/s eta 0:00:19\n",
      "   ------------------ --------------------- 1.0/2.3 MB 64.1 kB/s eta 0:00:19\n",
      "   ------------------ --------------------- 1.0/2.3 MB 64.1 kB/s eta 0:00:19\n",
      "   ------------------ --------------------- 1.0/2.3 MB 64.1 kB/s eta 0:00:19\n",
      "   ------------------ --------------------- 1.0/2.3 MB 64.1 kB/s eta 0:00:19\n",
      "   ------------------ --------------------- 1.0/2.3 MB 64.1 kB/s eta 0:00:19\n",
      "   ------------------ --------------------- 1.0/2.3 MB 64.1 kB/s eta 0:00:19\n",
      "   ------------------ --------------------- 1.0/2.3 MB 64.1 kB/s eta 0:00:19\n",
      "   ------------------ --------------------- 1.0/2.3 MB 64.1 kB/s eta 0:00:19\n",
      "   ------------------ --------------------- 1.0/2.3 MB 64.1 kB/s eta 0:00:19\n",
      "   ------------------ --------------------- 1.0/2.3 MB 64.1 kB/s eta 0:00:19\n",
      "   ------------------ --------------------- 1.0/2.3 MB 64.1 kB/s eta 0:00:19\n",
      "   ----------------------- ---------------- 1.3/2.3 MB 63.6 kB/s eta 0:00:15\n",
      "   ----------------------- ---------------- 1.3/2.3 MB 63.6 kB/s eta 0:00:15\n",
      "   ----------------------- ---------------- 1.3/2.3 MB 63.6 kB/s eta 0:00:15\n",
      "   ----------------------- ---------------- 1.3/2.3 MB 63.6 kB/s eta 0:00:15\n",
      "   ----------------------- ---------------- 1.3/2.3 MB 63.6 kB/s eta 0:00:15\n",
      "   ----------------------- ---------------- 1.3/2.3 MB 63.6 kB/s eta 0:00:15\n",
      "   ----------------------- ---------------- 1.3/2.3 MB 63.6 kB/s eta 0:00:15\n",
      "   ----------------------- ---------------- 1.3/2.3 MB 63.6 kB/s eta 0:00:15\n",
      "   ----------------------- ---------------- 1.3/2.3 MB 63.6 kB/s eta 0:00:15\n",
      "   ----------------------- ---------------- 1.3/2.3 MB 63.6 kB/s eta 0:00:15\n",
      "   ----------------------- ---------------- 1.3/2.3 MB 63.6 kB/s eta 0:00:15\n",
      "   ----------------------- ---------------- 1.3/2.3 MB 63.6 kB/s eta 0:00:15\n",
      "   ----------------------- ---------------- 1.3/2.3 MB 63.6 kB/s eta 0:00:15\n",
      "   ----------------------- ---------------- 1.3/2.3 MB 63.6 kB/s eta 0:00:15\n",
      "   ----------------------- ---------------- 1.3/2.3 MB 63.6 kB/s eta 0:00:15\n",
      "   --------------------------- ------------ 1.6/2.3 MB 66.4 kB/s eta 0:00:11\n",
      "   --------------------------- ------------ 1.6/2.3 MB 66.4 kB/s eta 0:00:11\n",
      "   --------------------------- ------------ 1.6/2.3 MB 66.4 kB/s eta 0:00:11\n",
      "   --------------------------- ------------ 1.6/2.3 MB 66.4 kB/s eta 0:00:11\n",
      "   --------------------------- ------------ 1.6/2.3 MB 66.4 kB/s eta 0:00:11\n",
      "   --------------------------- ------------ 1.6/2.3 MB 66.4 kB/s eta 0:00:11\n",
      "   --------------------------- ------------ 1.6/2.3 MB 66.4 kB/s eta 0:00:11\n",
      "   --------------------------- ------------ 1.6/2.3 MB 66.4 kB/s eta 0:00:11\n",
      "   --------------------------- ------------ 1.6/2.3 MB 66.4 kB/s eta 0:00:11\n",
      "   --------------------------- ------------ 1.6/2.3 MB 66.4 kB/s eta 0:00:11\n",
      "   --------------------------- ------------ 1.6/2.3 MB 66.4 kB/s eta 0:00:11\n",
      "   --------------------------- ------------ 1.6/2.3 MB 66.4 kB/s eta 0:00:11\n",
      "   --------------------------- ------------ 1.6/2.3 MB 66.4 kB/s eta 0:00:11\n",
      "   --------------------------- ------------ 1.6/2.3 MB 66.4 kB/s eta 0:00:11\n",
      "   --------------------------- ------------ 1.6/2.3 MB 66.4 kB/s eta 0:00:11\n",
      "   --------------------------- ------------ 1.6/2.3 MB 66.4 kB/s eta 0:00:11\n",
      "   --------------------------- ------------ 1.6/2.3 MB 66.4 kB/s eta 0:00:11\n",
      "   --------------------------- ------------ 1.6/2.3 MB 66.4 kB/s eta 0:00:11\n",
      "   --------------------------- ------------ 1.6/2.3 MB 66.4 kB/s eta 0:00:11\n",
      "   -------------------------------- ------- 1.8/2.3 MB 66.4 kB/s eta 0:00:07\n",
      "   -------------------------------- ------- 1.8/2.3 MB 66.4 kB/s eta 0:00:07\n",
      "   -------------------------------- ------- 1.8/2.3 MB 66.4 kB/s eta 0:00:07\n",
      "   -------------------------------- ------- 1.8/2.3 MB 66.4 kB/s eta 0:00:07\n",
      "   -------------------------------- ------- 1.8/2.3 MB 66.4 kB/s eta 0:00:07\n",
      "   -------------------------------- ------- 1.8/2.3 MB 66.4 kB/s eta 0:00:07\n",
      "   -------------------------------- ------- 1.8/2.3 MB 66.4 kB/s eta 0:00:07\n",
      "   -------------------------------- ------- 1.8/2.3 MB 66.4 kB/s eta 0:00:07\n",
      "   -------------------------------- ------- 1.8/2.3 MB 66.4 kB/s eta 0:00:07\n",
      "   -------------------------------- ------- 1.8/2.3 MB 66.4 kB/s eta 0:00:07\n",
      "   -------------------------------- ------- 1.8/2.3 MB 66.4 kB/s eta 0:00:07\n",
      "   -------------------------------- ------- 1.8/2.3 MB 66.4 kB/s eta 0:00:07\n",
      "   -------------------------------- ------- 1.8/2.3 MB 66.4 kB/s eta 0:00:07\n",
      "   -------------------------------- ------- 1.8/2.3 MB 66.4 kB/s eta 0:00:07\n",
      "   -------------------------------- ------- 1.8/2.3 MB 66.4 kB/s eta 0:00:07\n",
      "   -------------------------------- ------- 1.8/2.3 MB 66.4 kB/s eta 0:00:07\n",
      "   -------------------------------- ------- 1.8/2.3 MB 66.4 kB/s eta 0:00:07\n",
      "   -------------------------------- ------- 1.8/2.3 MB 66.4 kB/s eta 0:00:07\n",
      "   -------------------------------- ------- 1.8/2.3 MB 66.4 kB/s eta 0:00:07\n",
      "   ------------------------------------- -- 2.1/2.3 MB 66.3 kB/s eta 0:00:03\n",
      "   ------------------------------------- -- 2.1/2.3 MB 66.3 kB/s eta 0:00:03\n",
      "   ------------------------------------- -- 2.1/2.3 MB 66.3 kB/s eta 0:00:03\n",
      "   ------------------------------------- -- 2.1/2.3 MB 66.3 kB/s eta 0:00:03\n",
      "   ------------------------------------- -- 2.1/2.3 MB 66.3 kB/s eta 0:00:03\n",
      "   ------------------------------------- -- 2.1/2.3 MB 66.3 kB/s eta 0:00:03\n",
      "   ------------------------------------- -- 2.1/2.3 MB 66.3 kB/s eta 0:00:03\n",
      "   ------------------------------------- -- 2.1/2.3 MB 66.3 kB/s eta 0:00:03\n",
      "   ------------------------------------- -- 2.1/2.3 MB 66.3 kB/s eta 0:00:03\n",
      "   ------------------------------------- -- 2.1/2.3 MB 66.3 kB/s eta 0:00:03\n",
      "   ---------------------------------------- 2.3/2.3 MB 66.9 kB/s  0:00:34\n",
      "Downloading kiwisolver-1.4.9-cp313-cp313-win_amd64.whl (73 kB)\n",
      "Downloading pillow-11.3.0-cp313-cp313-win_amd64.whl (7.0 MB)\n",
      "   ---------------------------------------- 0.0/7.0 MB ? eta -:--:--\n",
      "   - -------------------------------------- 0.3/7.0 MB ? eta -:--:--\n",
      "   - -------------------------------------- 0.3/7.0 MB ? eta -:--:--\n",
      "   - -------------------------------------- 0.3/7.0 MB ? eta -:--:--\n",
      "   - -------------------------------------- 0.3/7.0 MB ? eta -:--:--\n",
      "   - -------------------------------------- 0.3/7.0 MB ? eta -:--:--\n",
      "   - -------------------------------------- 0.3/7.0 MB ? eta -:--:--\n",
      "   - -------------------------------------- 0.3/7.0 MB ? eta -:--:--\n",
      "   - -------------------------------------- 0.3/7.0 MB ? eta -:--:--\n",
      "   - -------------------------------------- 0.3/7.0 MB ? eta -:--:--\n",
      "   - -------------------------------------- 0.3/7.0 MB ? eta -:--:--\n",
      "   - -------------------------------------- 0.3/7.0 MB ? eta -:--:--\n",
      "   - -------------------------------------- 0.3/7.0 MB ? eta -:--:--\n",
      "   - -------------------------------------- 0.3/7.0 MB ? eta -:--:--\n",
      "   - -------------------------------------- 0.3/7.0 MB ? eta -:--:--\n",
      "   - -------------------------------------- 0.3/7.0 MB ? eta -:--:--\n",
      "   - -------------------------------------- 0.3/7.0 MB ? eta -:--:--\n",
      "   - -------------------------------------- 0.3/7.0 MB ? eta -:--:--\n",
      "   - -------------------------------------- 0.3/7.0 MB ? eta -:--:--\n",
      "   - -------------------------------------- 0.3/7.0 MB ? eta -:--:--\n",
      "   - -------------------------------------- 0.3/7.0 MB ? eta -:--:--\n",
      "   - -------------------------------------- 0.3/7.0 MB ? eta -:--:--\n",
      "   - -------------------------------------- 0.3/7.0 MB ? eta -:--:--\n",
      "   - -------------------------------------- 0.3/7.0 MB ? eta -:--:--\n",
      "   - -------------------------------------- 0.3/7.0 MB ? eta -:--:--\n",
      "   - -------------------------------------- 0.3/7.0 MB ? eta -:--:--\n",
      "   - -------------------------------------- 0.3/7.0 MB ? eta -:--:--\n",
      "   - -------------------------------------- 0.3/7.0 MB ? eta -:--:--\n",
      "   - -------------------------------------- 0.3/7.0 MB ? eta -:--:--\n",
      "   - -------------------------------------- 0.3/7.0 MB ? eta -:--:--\n",
      "   --- ------------------------------------ 0.5/7.0 MB 43.2 kB/s eta 0:02:30\n",
      "   --- ------------------------------------ 0.5/7.0 MB 43.2 kB/s eta 0:02:30\n",
      "   --- ------------------------------------ 0.5/7.0 MB 43.2 kB/s eta 0:02:30\n",
      "   --- ------------------------------------ 0.5/7.0 MB 43.2 kB/s eta 0:02:30\n",
      "   --- ------------------------------------ 0.5/7.0 MB 43.2 kB/s eta 0:02:30\n",
      "   --- ------------------------------------ 0.5/7.0 MB 43.2 kB/s eta 0:02:30\n",
      "   --- ------------------------------------ 0.5/7.0 MB 43.2 kB/s eta 0:02:30\n",
      "   --- ------------------------------------ 0.5/7.0 MB 43.2 kB/s eta 0:02:30\n",
      "   --- ------------------------------------ 0.5/7.0 MB 43.2 kB/s eta 0:02:30\n",
      "   --- ------------------------------------ 0.5/7.0 MB 43.2 kB/s eta 0:02:30\n",
      "   --- ------------------------------------ 0.5/7.0 MB 43.2 kB/s eta 0:02:30\n",
      "   --- ------------------------------------ 0.5/7.0 MB 43.2 kB/s eta 0:02:30\n",
      "   --- ------------------------------------ 0.5/7.0 MB 43.2 kB/s eta 0:02:30\n",
      "   --- ------------------------------------ 0.5/7.0 MB 43.2 kB/s eta 0:02:30\n",
      "   --- ------------------------------------ 0.5/7.0 MB 43.2 kB/s eta 0:02:30\n",
      "   --- ------------------------------------ 0.5/7.0 MB 43.2 kB/s eta 0:02:30\n",
      "   --- ------------------------------------ 0.5/7.0 MB 43.2 kB/s eta 0:02:30\n",
      "   --- ------------------------------------ 0.5/7.0 MB 43.2 kB/s eta 0:02:30\n",
      "   --- ------------------------------------ 0.5/7.0 MB 43.2 kB/s eta 0:02:30\n",
      "   --- ------------------------------------ 0.5/7.0 MB 43.2 kB/s eta 0:02:30\n",
      "   --- ------------------------------------ 0.5/7.0 MB 43.2 kB/s eta 0:02:30\n",
      "   --- ------------------------------------ 0.5/7.0 MB 43.2 kB/s eta 0:02:30\n",
      "   --- ------------------------------------ 0.5/7.0 MB 43.2 kB/s eta 0:02:30\n",
      "   --- ------------------------------------ 0.5/7.0 MB 43.2 kB/s eta 0:02:30\n",
      "   --- ------------------------------------ 0.5/7.0 MB 43.2 kB/s eta 0:02:30\n",
      "   --- ------------------------------------ 0.5/7.0 MB 43.2 kB/s eta 0:02:30\n",
      "   --- ------------------------------------ 0.5/7.0 MB 43.2 kB/s eta 0:02:30\n",
      "   --- ------------------------------------ 0.5/7.0 MB 43.2 kB/s eta 0:02:30\n",
      "   --- ------------------------------------ 0.5/7.0 MB 43.2 kB/s eta 0:02:30\n",
      "   --- ------------------------------------ 0.5/7.0 MB 43.2 kB/s eta 0:02:30\n",
      "   --- ------------------------------------ 0.5/7.0 MB 43.2 kB/s eta 0:02:30\n",
      "   --- ------------------------------------ 0.5/7.0 MB 43.2 kB/s eta 0:02:30\n",
      "   ---- ----------------------------------- 0.8/7.0 MB 40.6 kB/s eta 0:02:33\n",
      "   ---- ----------------------------------- 0.8/7.0 MB 40.6 kB/s eta 0:02:33\n",
      "   ---- ----------------------------------- 0.8/7.0 MB 40.6 kB/s eta 0:02:33\n",
      "   ---- ----------------------------------- 0.8/7.0 MB 40.6 kB/s eta 0:02:33\n",
      "   ---- ----------------------------------- 0.8/7.0 MB 40.6 kB/s eta 0:02:33\n",
      "   ---- ----------------------------------- 0.8/7.0 MB 40.6 kB/s eta 0:02:33\n",
      "   ---- ----------------------------------- 0.8/7.0 MB 40.6 kB/s eta 0:02:33\n",
      "   ---- ----------------------------------- 0.8/7.0 MB 40.6 kB/s eta 0:02:33\n",
      "   ---- ----------------------------------- 0.8/7.0 MB 40.6 kB/s eta 0:02:33\n",
      "   ---- ----------------------------------- 0.8/7.0 MB 40.6 kB/s eta 0:02:33\n",
      "   ---- ----------------------------------- 0.8/7.0 MB 40.6 kB/s eta 0:02:33\n",
      "   ---- ----------------------------------- 0.8/7.0 MB 40.6 kB/s eta 0:02:33\n",
      "   ---- ----------------------------------- 0.8/7.0 MB 40.6 kB/s eta 0:02:33\n",
      "   ---- ----------------------------------- 0.8/7.0 MB 40.6 kB/s eta 0:02:33\n",
      "   ---- ----------------------------------- 0.8/7.0 MB 40.6 kB/s eta 0:02:33\n",
      "   ---- ----------------------------------- 0.8/7.0 MB 40.6 kB/s eta 0:02:33\n",
      "   ---- ----------------------------------- 0.8/7.0 MB 40.6 kB/s eta 0:02:33\n",
      "   ---- ----------------------------------- 0.8/7.0 MB 40.6 kB/s eta 0:02:33\n",
      "   ---- ----------------------------------- 0.8/7.0 MB 40.6 kB/s eta 0:02:33\n",
      "   ---- ----------------------------------- 0.8/7.0 MB 40.6 kB/s eta 0:02:33\n",
      "   ---- ----------------------------------- 0.8/7.0 MB 40.6 kB/s eta 0:02:33\n",
      "   ---- ----------------------------------- 0.8/7.0 MB 40.6 kB/s eta 0:02:33\n",
      "   ---- ----------------------------------- 0.8/7.0 MB 40.6 kB/s eta 0:02:33\n",
      "   ---- ----------------------------------- 0.8/7.0 MB 40.6 kB/s eta 0:02:33\n",
      "   ---- ----------------------------------- 0.8/7.0 MB 40.6 kB/s eta 0:02:33\n",
      "   ---- ----------------------------------- 0.8/7.0 MB 40.6 kB/s eta 0:02:33\n",
      "   ---- ----------------------------------- 0.8/7.0 MB 40.6 kB/s eta 0:02:33\n",
      "   ---- ----------------------------------- 0.8/7.0 MB 40.6 kB/s eta 0:02:33\n",
      "   ---- ----------------------------------- 0.8/7.0 MB 40.6 kB/s eta 0:02:33\n",
      "   ---- ----------------------------------- 0.8/7.0 MB 40.6 kB/s eta 0:02:33\n",
      "   ---- ----------------------------------- 0.8/7.0 MB 40.6 kB/s eta 0:02:33\n",
      "   ---- ----------------------------------- 0.8/7.0 MB 40.6 kB/s eta 0:02:33\n",
      "   ---- ----------------------------------- 0.8/7.0 MB 40.6 kB/s eta 0:02:33\n",
      "   ------ --------------------------------- 1.0/7.0 MB 39.5 kB/s eta 0:02:31\n",
      "   ------ --------------------------------- 1.0/7.0 MB 39.5 kB/s eta 0:02:31\n",
      "   ------ --------------------------------- 1.0/7.0 MB 39.5 kB/s eta 0:02:31\n",
      "   ------ --------------------------------- 1.0/7.0 MB 39.5 kB/s eta 0:02:31\n",
      "   ------ --------------------------------- 1.0/7.0 MB 39.5 kB/s eta 0:02:31\n",
      "   ------ --------------------------------- 1.0/7.0 MB 39.5 kB/s eta 0:02:31\n",
      "   ------ --------------------------------- 1.0/7.0 MB 39.5 kB/s eta 0:02:31\n",
      "   ------ --------------------------------- 1.0/7.0 MB 39.5 kB/s eta 0:02:31\n",
      "   ------ --------------------------------- 1.0/7.0 MB 39.5 kB/s eta 0:02:31\n",
      "   ------ --------------------------------- 1.0/7.0 MB 39.5 kB/s eta 0:02:31\n",
      "   ------ --------------------------------- 1.0/7.0 MB 39.5 kB/s eta 0:02:31\n",
      "   ------ --------------------------------- 1.0/7.0 MB 39.5 kB/s eta 0:02:31\n",
      "   ------ --------------------------------- 1.0/7.0 MB 39.5 kB/s eta 0:02:31\n",
      "   ------ --------------------------------- 1.0/7.0 MB 39.5 kB/s eta 0:02:31\n",
      "   ------- -------------------------------- 1.3/7.0 MB 45.9 kB/s eta 0:02:04\n",
      "   ------- -------------------------------- 1.3/7.0 MB 45.9 kB/s eta 0:02:04\n",
      "   ------- -------------------------------- 1.3/7.0 MB 45.9 kB/s eta 0:02:04\n",
      "   ------- -------------------------------- 1.3/7.0 MB 45.9 kB/s eta 0:02:04\n",
      "   ------- -------------------------------- 1.3/7.0 MB 45.9 kB/s eta 0:02:04\n",
      "   ------- -------------------------------- 1.3/7.0 MB 45.9 kB/s eta 0:02:04\n",
      "   ------- -------------------------------- 1.3/7.0 MB 45.9 kB/s eta 0:02:04\n",
      "   ------- -------------------------------- 1.3/7.0 MB 45.9 kB/s eta 0:02:04\n",
      "   ------- -------------------------------- 1.3/7.0 MB 45.9 kB/s eta 0:02:04\n",
      "   ------- -------------------------------- 1.3/7.0 MB 45.9 kB/s eta 0:02:04\n",
      "   --------- ------------------------------ 1.6/7.0 MB 52.5 kB/s eta 0:01:43\n",
      "   --------- ------------------------------ 1.6/7.0 MB 52.5 kB/s eta 0:01:43\n",
      "   --------- ------------------------------ 1.6/7.0 MB 52.5 kB/s eta 0:01:43\n",
      "   --------- ------------------------------ 1.6/7.0 MB 52.5 kB/s eta 0:01:43\n",
      "   --------- ------------------------------ 1.6/7.0 MB 52.5 kB/s eta 0:01:43\n",
      "   --------- ------------------------------ 1.6/7.0 MB 52.5 kB/s eta 0:01:43\n",
      "   --------- ------------------------------ 1.6/7.0 MB 52.5 kB/s eta 0:01:43\n",
      "   --------- ------------------------------ 1.6/7.0 MB 52.5 kB/s eta 0:01:43\n",
      "   --------- ------------------------------ 1.6/7.0 MB 52.5 kB/s eta 0:01:43\n",
      "   --------- ------------------------------ 1.6/7.0 MB 52.5 kB/s eta 0:01:43\n",
      "   --------- ------------------------------ 1.6/7.0 MB 52.5 kB/s eta 0:01:43\n",
      "   --------- ------------------------------ 1.6/7.0 MB 52.5 kB/s eta 0:01:43\n",
      "   --------- ------------------------------ 1.6/7.0 MB 52.5 kB/s eta 0:01:43\n",
      "   --------- ------------------------------ 1.6/7.0 MB 52.5 kB/s eta 0:01:43\n",
      "   --------- ------------------------------ 1.6/7.0 MB 52.5 kB/s eta 0:01:43\n",
      "   --------- ------------------------------ 1.6/7.0 MB 52.5 kB/s eta 0:01:43\n",
      "   --------- ------------------------------ 1.6/7.0 MB 52.5 kB/s eta 0:01:43\n",
      "   --------- ------------------------------ 1.6/7.0 MB 52.5 kB/s eta 0:01:43\n",
      "   ---------- ----------------------------- 1.8/7.0 MB 54.7 kB/s eta 0:01:34\n",
      "   ---------- ----------------------------- 1.8/7.0 MB 54.7 kB/s eta 0:01:34\n",
      "   ---------- ----------------------------- 1.8/7.0 MB 54.7 kB/s eta 0:01:34\n",
      "   ---------- ----------------------------- 1.8/7.0 MB 54.7 kB/s eta 0:01:34\n",
      "   ---------- ----------------------------- 1.8/7.0 MB 54.7 kB/s eta 0:01:34\n",
      "   ---------- ----------------------------- 1.8/7.0 MB 54.7 kB/s eta 0:01:34\n",
      "   ---------- ----------------------------- 1.8/7.0 MB 54.7 kB/s eta 0:01:34\n",
      "   ---------- ----------------------------- 1.8/7.0 MB 54.7 kB/s eta 0:01:34\n",
      "   ---------- ----------------------------- 1.8/7.0 MB 54.7 kB/s eta 0:01:34\n",
      "   ---------- ----------------------------- 1.8/7.0 MB 54.7 kB/s eta 0:01:34\n",
      "   ------------ --------------------------- 2.1/7.0 MB 63.7 kB/s eta 0:01:17\n",
      "   ------------ --------------------------- 2.1/7.0 MB 63.7 kB/s eta 0:01:17\n",
      "   ------------ --------------------------- 2.1/7.0 MB 63.7 kB/s eta 0:01:17\n",
      "   ------------ --------------------------- 2.1/7.0 MB 63.7 kB/s eta 0:01:17\n",
      "   ------------ --------------------------- 2.1/7.0 MB 63.7 kB/s eta 0:01:17\n",
      "   ------------ --------------------------- 2.1/7.0 MB 63.7 kB/s eta 0:01:17\n",
      "   ------------ --------------------------- 2.1/7.0 MB 63.7 kB/s eta 0:01:17\n",
      "   ------------ --------------------------- 2.1/7.0 MB 63.7 kB/s eta 0:01:17\n",
      "   ------------ --------------------------- 2.1/7.0 MB 63.7 kB/s eta 0:01:17\n",
      "   ------------ --------------------------- 2.1/7.0 MB 63.7 kB/s eta 0:01:17\n",
      "   ------------ --------------------------- 2.1/7.0 MB 63.7 kB/s eta 0:01:17\n",
      "   ------------ --------------------------- 2.1/7.0 MB 63.7 kB/s eta 0:01:17\n",
      "   ------------- -------------------------- 2.4/7.0 MB 67.1 kB/s eta 0:01:09\n",
      "   ------------- -------------------------- 2.4/7.0 MB 67.1 kB/s eta 0:01:09\n",
      "   ------------- -------------------------- 2.4/7.0 MB 67.1 kB/s eta 0:01:09\n",
      "   ------------- -------------------------- 2.4/7.0 MB 67.1 kB/s eta 0:01:09\n",
      "   ------------- -------------------------- 2.4/7.0 MB 67.1 kB/s eta 0:01:09\n",
      "   ------------- -------------------------- 2.4/7.0 MB 67.1 kB/s eta 0:01:09\n",
      "   ------------- -------------------------- 2.4/7.0 MB 67.1 kB/s eta 0:01:09\n",
      "   ------------- -------------------------- 2.4/7.0 MB 67.1 kB/s eta 0:01:09\n",
      "   ------------- -------------------------- 2.4/7.0 MB 67.1 kB/s eta 0:01:09\n",
      "   ------------- -------------------------- 2.4/7.0 MB 67.1 kB/s eta 0:01:09\n",
      "   ------------- -------------------------- 2.4/7.0 MB 67.1 kB/s eta 0:01:09\n",
      "   ------------- -------------------------- 2.4/7.0 MB 67.1 kB/s eta 0:01:09\n",
      "   ------------- -------------------------- 2.4/7.0 MB 67.1 kB/s eta 0:01:09\n",
      "   ------------- -------------------------- 2.4/7.0 MB 67.1 kB/s eta 0:01:09\n",
      "   ------------- -------------------------- 2.4/7.0 MB 67.1 kB/s eta 0:01:09\n",
      "   ------------- -------------------------- 2.4/7.0 MB 67.1 kB/s eta 0:01:09\n",
      "   ------------- -------------------------- 2.4/7.0 MB 67.1 kB/s eta 0:01:09\n",
      "   ------------- -------------------------- 2.4/7.0 MB 67.1 kB/s eta 0:01:09\n",
      "   ------------- -------------------------- 2.4/7.0 MB 67.1 kB/s eta 0:01:09\n",
      "   ------------- -------------------------- 2.4/7.0 MB 67.1 kB/s eta 0:01:09\n",
      "   ------------- -------------------------- 2.4/7.0 MB 67.1 kB/s eta 0:01:09\n",
      "   --------------- ------------------------ 2.6/7.0 MB 73.3 kB/s eta 0:01:00\n",
      "   --------------- ------------------------ 2.6/7.0 MB 73.3 kB/s eta 0:01:00\n",
      "   --------------- ------------------------ 2.6/7.0 MB 73.3 kB/s eta 0:01:00\n",
      "   --------------- ------------------------ 2.6/7.0 MB 73.3 kB/s eta 0:01:00\n",
      "   --------------- ------------------------ 2.6/7.0 MB 73.3 kB/s eta 0:01:00\n",
      "   --------------- ------------------------ 2.6/7.0 MB 73.3 kB/s eta 0:01:00\n",
      "   --------------- ------------------------ 2.6/7.0 MB 73.3 kB/s eta 0:01:00\n",
      "   --------------- ------------------------ 2.6/7.0 MB 73.3 kB/s eta 0:01:00\n",
      "   --------------- ------------------------ 2.6/7.0 MB 73.3 kB/s eta 0:01:00\n",
      "   --------------- ------------------------ 2.6/7.0 MB 73.3 kB/s eta 0:01:00\n",
      "   --------------- ------------------------ 2.6/7.0 MB 73.3 kB/s eta 0:01:00\n",
      "   --------------- ------------------------ 2.6/7.0 MB 73.3 kB/s eta 0:01:00\n",
      "   --------------- ------------------------ 2.6/7.0 MB 73.3 kB/s eta 0:01:00\n",
      "   --------------- ------------------------ 2.6/7.0 MB 73.3 kB/s eta 0:01:00\n",
      "   --------------- ------------------------ 2.6/7.0 MB 73.3 kB/s eta 0:01:00\n",
      "   ---------------- ----------------------- 2.9/7.0 MB 74.4 kB/s eta 0:00:56\n",
      "   ---------------- ----------------------- 2.9/7.0 MB 74.4 kB/s eta 0:00:56\n",
      "   ---------------- ----------------------- 2.9/7.0 MB 74.4 kB/s eta 0:00:56\n",
      "   ---------------- ----------------------- 2.9/7.0 MB 74.4 kB/s eta 0:00:56\n",
      "   ---------------- ----------------------- 2.9/7.0 MB 74.4 kB/s eta 0:00:56\n",
      "   ---------------- ----------------------- 2.9/7.0 MB 74.4 kB/s eta 0:00:56\n",
      "   ---------------- ----------------------- 2.9/7.0 MB 74.4 kB/s eta 0:00:56\n",
      "   ---------------- ----------------------- 2.9/7.0 MB 74.4 kB/s eta 0:00:56\n",
      "   ---------------- ----------------------- 2.9/7.0 MB 74.4 kB/s eta 0:00:56\n",
      "   ---------------- ----------------------- 2.9/7.0 MB 74.4 kB/s eta 0:00:56\n",
      "   ---------------- ----------------------- 2.9/7.0 MB 74.4 kB/s eta 0:00:56\n",
      "   ---------------- ----------------------- 2.9/7.0 MB 74.4 kB/s eta 0:00:56\n",
      "   ---------------- ----------------------- 2.9/7.0 MB 74.4 kB/s eta 0:00:56\n",
      "   ---------------- ----------------------- 2.9/7.0 MB 74.4 kB/s eta 0:00:56\n",
      "   ---------------- ----------------------- 2.9/7.0 MB 74.4 kB/s eta 0:00:56\n",
      "   ---------------- ----------------------- 2.9/7.0 MB 74.4 kB/s eta 0:00:56\n",
      "   ---------------- ----------------------- 2.9/7.0 MB 74.4 kB/s eta 0:00:56\n",
      "   ------------------ --------------------- 3.1/7.0 MB 85.0 kB/s eta 0:00:46\n",
      "   ------------------ --------------------- 3.1/7.0 MB 85.0 kB/s eta 0:00:46\n",
      "   ------------------ --------------------- 3.1/7.0 MB 85.0 kB/s eta 0:00:46\n",
      "   ------------------ --------------------- 3.1/7.0 MB 85.0 kB/s eta 0:00:46\n",
      "   ------------------ --------------------- 3.1/7.0 MB 85.0 kB/s eta 0:00:46\n",
      "   ------------------ --------------------- 3.1/7.0 MB 85.0 kB/s eta 0:00:46\n",
      "   ------------------ --------------------- 3.1/7.0 MB 85.0 kB/s eta 0:00:46\n",
      "   ------------------ --------------------- 3.1/7.0 MB 85.0 kB/s eta 0:00:46\n",
      "   ------------------ --------------------- 3.1/7.0 MB 85.0 kB/s eta 0:00:46\n",
      "   ------------------ --------------------- 3.1/7.0 MB 85.0 kB/s eta 0:00:46\n",
      "   ------------------ --------------------- 3.1/7.0 MB 85.0 kB/s eta 0:00:46\n",
      "   ------------------ --------------------- 3.1/7.0 MB 85.0 kB/s eta 0:00:46\n",
      "   ------------------ --------------------- 3.1/7.0 MB 85.0 kB/s eta 0:00:46\n",
      "   ------------------ --------------------- 3.1/7.0 MB 85.0 kB/s eta 0:00:46\n",
      "   ------------------ --------------------- 3.1/7.0 MB 85.0 kB/s eta 0:00:46\n",
      "   ------------------ --------------------- 3.1/7.0 MB 85.0 kB/s eta 0:00:46\n",
      "   ------------------ --------------------- 3.1/7.0 MB 85.0 kB/s eta 0:00:46\n",
      "   ------------------ --------------------- 3.1/7.0 MB 85.0 kB/s eta 0:00:46\n",
      "   ------------------ --------------------- 3.1/7.0 MB 85.0 kB/s eta 0:00:46\n",
      "   ------------------ --------------------- 3.1/7.0 MB 85.0 kB/s eta 0:00:46\n",
      "   ------------------- -------------------- 3.4/7.0 MB 81.2 kB/s eta 0:00:44\n",
      "   ------------------- -------------------- 3.4/7.0 MB 81.2 kB/s eta 0:00:44\n",
      "   ------------------- -------------------- 3.4/7.0 MB 81.2 kB/s eta 0:00:44\n",
      "   ------------------- -------------------- 3.4/7.0 MB 81.2 kB/s eta 0:00:44\n",
      "   ------------------- -------------------- 3.4/7.0 MB 81.2 kB/s eta 0:00:44\n",
      "   ------------------- -------------------- 3.4/7.0 MB 81.2 kB/s eta 0:00:44\n",
      "   ------------------- -------------------- 3.4/7.0 MB 81.2 kB/s eta 0:00:44\n",
      "   ------------------- -------------------- 3.4/7.0 MB 81.2 kB/s eta 0:00:44\n",
      "   ------------------- -------------------- 3.4/7.0 MB 81.2 kB/s eta 0:00:44\n",
      "   --------------------- ------------------ 3.7/7.0 MB 84.6 kB/s eta 0:00:40\n",
      "   --------------------- ------------------ 3.7/7.0 MB 84.6 kB/s eta 0:00:40\n",
      "   --------------------- ------------------ 3.7/7.0 MB 84.6 kB/s eta 0:00:40\n",
      "   --------------------- ------------------ 3.7/7.0 MB 84.6 kB/s eta 0:00:40\n",
      "   --------------------- ------------------ 3.7/7.0 MB 84.6 kB/s eta 0:00:40\n",
      "   --------------------- ------------------ 3.7/7.0 MB 84.6 kB/s eta 0:00:40\n",
      "   --------------------- ------------------ 3.7/7.0 MB 84.6 kB/s eta 0:00:40\n",
      "   --------------------- ------------------ 3.7/7.0 MB 84.6 kB/s eta 0:00:40\n",
      "   --------------------- ------------------ 3.7/7.0 MB 84.6 kB/s eta 0:00:40\n",
      "   --------------------- ------------------ 3.7/7.0 MB 84.6 kB/s eta 0:00:40\n",
      "   --------------------- ------------------ 3.7/7.0 MB 84.6 kB/s eta 0:00:40\n",
      "   --------------------- ------------------ 3.7/7.0 MB 84.6 kB/s eta 0:00:40\n",
      "   --------------------- ------------------ 3.7/7.0 MB 84.6 kB/s eta 0:00:40\n",
      "   --------------------- ------------------ 3.7/7.0 MB 84.6 kB/s eta 0:00:40\n",
      "   --------------------- ------------------ 3.7/7.0 MB 84.6 kB/s eta 0:00:40\n",
      "   --------------------- ------------------ 3.7/7.0 MB 84.6 kB/s eta 0:00:40\n",
      "   ---------------------- ----------------- 3.9/7.0 MB 80.8 kB/s eta 0:00:38\n",
      "   ---------------------- ----------------- 3.9/7.0 MB 80.8 kB/s eta 0:00:38\n",
      "   ---------------------- ----------------- 3.9/7.0 MB 80.8 kB/s eta 0:00:38\n",
      "   ---------------------- ----------------- 3.9/7.0 MB 80.8 kB/s eta 0:00:38\n",
      "   ------------------------ --------------- 4.2/7.0 MB 89.8 kB/s eta 0:00:32\n",
      "   ------------------------ --------------- 4.2/7.0 MB 89.8 kB/s eta 0:00:32\n",
      "   ------------------------ --------------- 4.2/7.0 MB 89.8 kB/s eta 0:00:32\n",
      "   ------------------------ --------------- 4.2/7.0 MB 89.8 kB/s eta 0:00:32\n",
      "   ------------------------ --------------- 4.2/7.0 MB 89.8 kB/s eta 0:00:32\n",
      "   ------------------------ --------------- 4.2/7.0 MB 89.8 kB/s eta 0:00:32\n",
      "   ------------------------ --------------- 4.2/7.0 MB 89.8 kB/s eta 0:00:32\n",
      "   ------------------------ --------------- 4.2/7.0 MB 89.8 kB/s eta 0:00:32\n",
      "   ------------------------ --------------- 4.2/7.0 MB 89.8 kB/s eta 0:00:32\n",
      "   ------------------------ --------------- 4.2/7.0 MB 89.8 kB/s eta 0:00:32\n",
      "   ------------------------- -------------- 4.5/7.0 MB 92.1 kB/s eta 0:00:28\n",
      "   ------------------------- -------------- 4.5/7.0 MB 92.1 kB/s eta 0:00:28\n",
      "   ------------------------- -------------- 4.5/7.0 MB 92.1 kB/s eta 0:00:28\n",
      "   ------------------------- -------------- 4.5/7.0 MB 92.1 kB/s eta 0:00:28\n",
      "   ------------------------- -------------- 4.5/7.0 MB 92.1 kB/s eta 0:00:28\n",
      "   ------------------------- -------------- 4.5/7.0 MB 92.1 kB/s eta 0:00:28\n",
      "   ------------------------- -------------- 4.5/7.0 MB 92.1 kB/s eta 0:00:28\n",
      "   ------------------------- -------------- 4.5/7.0 MB 92.1 kB/s eta 0:00:28\n",
      "   ------------------------- -------------- 4.5/7.0 MB 92.1 kB/s eta 0:00:28\n",
      "   ------------------------- -------------- 4.5/7.0 MB 92.1 kB/s eta 0:00:28\n",
      "   ------------------------- -------------- 4.5/7.0 MB 92.1 kB/s eta 0:00:28\n",
      "   ------------------------- -------------- 4.5/7.0 MB 92.1 kB/s eta 0:00:28\n",
      "   ------------------------- -------------- 4.5/7.0 MB 92.1 kB/s eta 0:00:28\n",
      "   ------------------------- -------------- 4.5/7.0 MB 92.1 kB/s eta 0:00:28\n",
      "   ------------------------- -------------- 4.5/7.0 MB 92.1 kB/s eta 0:00:28\n",
      "   ------------------------- -------------- 4.5/7.0 MB 92.1 kB/s eta 0:00:28\n",
      "   --------------------------- ------------ 4.7/7.0 MB 87.7 kB/s eta 0:00:26\n",
      "   --------------------------- ------------ 4.7/7.0 MB 87.7 kB/s eta 0:00:26\n",
      "   --------------------------- ------------ 4.7/7.0 MB 87.7 kB/s eta 0:00:26\n",
      "   --------------------------- ------------ 4.7/7.0 MB 87.7 kB/s eta 0:00:26\n",
      "   --------------------------- ------------ 4.7/7.0 MB 87.7 kB/s eta 0:00:26\n",
      "   --------------------------- ------------ 4.7/7.0 MB 87.7 kB/s eta 0:00:26\n",
      "   --------------------------- ------------ 4.7/7.0 MB 87.7 kB/s eta 0:00:26\n",
      "   --------------------------- ------------ 4.7/7.0 MB 87.7 kB/s eta 0:00:26\n",
      "   --------------------------- ------------ 4.7/7.0 MB 87.7 kB/s eta 0:00:26\n",
      "   --------------------------- ------------ 4.7/7.0 MB 87.7 kB/s eta 0:00:26\n",
      "   --------------------------- ------------ 4.7/7.0 MB 87.7 kB/s eta 0:00:26\n",
      "   --------------------------- ------------ 4.7/7.0 MB 87.7 kB/s eta 0:00:26\n",
      "   --------------------------- ------------ 4.7/7.0 MB 87.7 kB/s eta 0:00:26\n",
      "   --------------------------- ------------ 4.7/7.0 MB 87.7 kB/s eta 0:00:26\n",
      "   --------------------------- ------------ 4.7/7.0 MB 87.7 kB/s eta 0:00:26\n",
      "   --------------------------- ------------ 4.7/7.0 MB 87.7 kB/s eta 0:00:26\n",
      "   ---------------------------- ----------- 5.0/7.0 MB 90.1 kB/s eta 0:00:23\n",
      "   ---------------------------- ----------- 5.0/7.0 MB 90.1 kB/s eta 0:00:23\n",
      "   ---------------------------- ----------- 5.0/7.0 MB 90.1 kB/s eta 0:00:23\n",
      "   ---------------------------- ----------- 5.0/7.0 MB 90.1 kB/s eta 0:00:23\n",
      "   ---------------------------- ----------- 5.0/7.0 MB 90.1 kB/s eta 0:00:23\n",
      "   ---------------------------- ----------- 5.0/7.0 MB 90.1 kB/s eta 0:00:23\n",
      "   ---------------------------- ----------- 5.0/7.0 MB 90.1 kB/s eta 0:00:23\n",
      "   ---------------------------- ----------- 5.0/7.0 MB 90.1 kB/s eta 0:00:23\n",
      "   ---------------------------- ----------- 5.0/7.0 MB 90.1 kB/s eta 0:00:23\n",
      "   ---------------------------- ----------- 5.0/7.0 MB 90.1 kB/s eta 0:00:23\n",
      "   ---------------------------- ----------- 5.0/7.0 MB 90.1 kB/s eta 0:00:23\n",
      "   ---------------------------- ----------- 5.0/7.0 MB 90.1 kB/s eta 0:00:23\n",
      "   ---------------------------- ----------- 5.0/7.0 MB 90.1 kB/s eta 0:00:23\n",
      "   ---------------------------- ----------- 5.0/7.0 MB 90.1 kB/s eta 0:00:23\n",
      "   ---------------------------- ----------- 5.0/7.0 MB 90.1 kB/s eta 0:00:23\n",
      "   ---------------------------- ----------- 5.0/7.0 MB 90.1 kB/s eta 0:00:23\n",
      "   ---------------------------- ----------- 5.0/7.0 MB 90.1 kB/s eta 0:00:23\n",
      "   ---------------------------- ----------- 5.0/7.0 MB 90.1 kB/s eta 0:00:23\n",
      "   ---------------------------- ----------- 5.0/7.0 MB 90.1 kB/s eta 0:00:23\n",
      "   ---------------------------- ----------- 5.0/7.0 MB 90.1 kB/s eta 0:00:23\n",
      "   ---------------------------- ----------- 5.0/7.0 MB 90.1 kB/s eta 0:00:23\n",
      "   ---------------------------- ----------- 5.0/7.0 MB 90.1 kB/s eta 0:00:23\n",
      "   ---------------------------- ----------- 5.0/7.0 MB 90.1 kB/s eta 0:00:23\n",
      "   ---------------------------- ----------- 5.0/7.0 MB 90.1 kB/s eta 0:00:23\n",
      "   ---------------------------- ----------- 5.0/7.0 MB 90.1 kB/s eta 0:00:23\n",
      "   ---------------------------- ----------- 5.0/7.0 MB 90.1 kB/s eta 0:00:23\n",
      "   ---------------------------- ----------- 5.0/7.0 MB 90.1 kB/s eta 0:00:23\n",
      "   ------------------------------ --------- 5.2/7.0 MB 82.0 kB/s eta 0:00:22\n",
      "   ------------------------------ --------- 5.2/7.0 MB 82.0 kB/s eta 0:00:22\n",
      "   ------------------------------ --------- 5.2/7.0 MB 82.0 kB/s eta 0:00:22\n",
      "   ------------------------------ --------- 5.2/7.0 MB 82.0 kB/s eta 0:00:22\n",
      "   ------------------------------ --------- 5.2/7.0 MB 82.0 kB/s eta 0:00:22\n",
      "   ------------------------------ --------- 5.2/7.0 MB 82.0 kB/s eta 0:00:22\n",
      "   ------------------------------ --------- 5.2/7.0 MB 82.0 kB/s eta 0:00:22\n",
      "   ------------------------------ --------- 5.2/7.0 MB 82.0 kB/s eta 0:00:22\n",
      "   ------------------------------ --------- 5.2/7.0 MB 82.0 kB/s eta 0:00:22\n",
      "   ------------------------------ --------- 5.2/7.0 MB 82.0 kB/s eta 0:00:22\n",
      "   ------------------------------ --------- 5.2/7.0 MB 82.0 kB/s eta 0:00:22\n",
      "   ------------------------------ --------- 5.2/7.0 MB 82.0 kB/s eta 0:00:22\n",
      "   ------------------------------ --------- 5.2/7.0 MB 82.0 kB/s eta 0:00:22\n",
      "   ------------------------------ --------- 5.2/7.0 MB 82.0 kB/s eta 0:00:22\n",
      "   ------------------------------ --------- 5.2/7.0 MB 82.0 kB/s eta 0:00:22\n",
      "   ------------------------------ --------- 5.2/7.0 MB 82.0 kB/s eta 0:00:22\n",
      "   ------------------------------ --------- 5.2/7.0 MB 82.0 kB/s eta 0:00:22\n",
      "   ------------------------------ --------- 5.2/7.0 MB 82.0 kB/s eta 0:00:22\n",
      "   ------------------------------ --------- 5.2/7.0 MB 82.0 kB/s eta 0:00:22\n",
      "   ------------------------------ --------- 5.2/7.0 MB 82.0 kB/s eta 0:00:22\n",
      "   ------------------------------ --------- 5.2/7.0 MB 82.0 kB/s eta 0:00:22\n",
      "   ------------------------------ --------- 5.2/7.0 MB 82.0 kB/s eta 0:00:22\n",
      "   ------------------------------ --------- 5.2/7.0 MB 82.0 kB/s eta 0:00:22\n",
      "   ------------------------------ --------- 5.2/7.0 MB 82.0 kB/s eta 0:00:22\n",
      "   ------------------------------- -------- 5.5/7.0 MB 80.9 kB/s eta 0:00:19\n",
      "   ------------------------------- -------- 5.5/7.0 MB 80.9 kB/s eta 0:00:19\n",
      "   ------------------------------- -------- 5.5/7.0 MB 80.9 kB/s eta 0:00:19\n",
      "   ------------------------------- -------- 5.5/7.0 MB 80.9 kB/s eta 0:00:19\n",
      "   ------------------------------- -------- 5.5/7.0 MB 80.9 kB/s eta 0:00:19\n",
      "   ------------------------------- -------- 5.5/7.0 MB 80.9 kB/s eta 0:00:19\n",
      "   ------------------------------- -------- 5.5/7.0 MB 80.9 kB/s eta 0:00:19\n",
      "   ------------------------------- -------- 5.5/7.0 MB 80.9 kB/s eta 0:00:19\n",
      "   ------------------------------- -------- 5.5/7.0 MB 80.9 kB/s eta 0:00:19\n",
      "   ------------------------------- -------- 5.5/7.0 MB 80.9 kB/s eta 0:00:19\n",
      "   ------------------------------- -------- 5.5/7.0 MB 80.9 kB/s eta 0:00:19\n",
      "   ------------------------------- -------- 5.5/7.0 MB 80.9 kB/s eta 0:00:19\n",
      "   ------------------------------- -------- 5.5/7.0 MB 80.9 kB/s eta 0:00:19\n",
      "   ------------------------------- -------- 5.5/7.0 MB 80.9 kB/s eta 0:00:19\n",
      "   ------------------------------- -------- 5.5/7.0 MB 80.9 kB/s eta 0:00:19\n",
      "   ------------------------------- -------- 5.5/7.0 MB 80.9 kB/s eta 0:00:19\n",
      "   ------------------------------- -------- 5.5/7.0 MB 80.9 kB/s eta 0:00:19\n",
      "   ------------------------------- -------- 5.5/7.0 MB 80.9 kB/s eta 0:00:19\n",
      "   ------------------------------- -------- 5.5/7.0 MB 80.9 kB/s eta 0:00:19\n",
      "   --------------------------------- ------ 5.8/7.0 MB 78.8 kB/s eta 0:00:16\n",
      "   --------------------------------- ------ 5.8/7.0 MB 78.8 kB/s eta 0:00:16\n",
      "   --------------------------------- ------ 5.8/7.0 MB 78.8 kB/s eta 0:00:16\n",
      "   --------------------------------- ------ 5.8/7.0 MB 78.8 kB/s eta 0:00:16\n",
      "   --------------------------------- ------ 5.8/7.0 MB 78.8 kB/s eta 0:00:16\n",
      "   --------------------------------- ------ 5.8/7.0 MB 78.8 kB/s eta 0:00:16\n",
      "   --------------------------------- ------ 5.8/7.0 MB 78.8 kB/s eta 0:00:16\n",
      "   --------------------------------- ------ 5.8/7.0 MB 78.8 kB/s eta 0:00:16\n",
      "   --------------------------------- ------ 5.8/7.0 MB 78.8 kB/s eta 0:00:16\n",
      "   --------------------------------- ------ 5.8/7.0 MB 78.8 kB/s eta 0:00:16\n",
      "   --------------------------------- ------ 5.8/7.0 MB 78.8 kB/s eta 0:00:16\n",
      "   --------------------------------- ------ 5.8/7.0 MB 78.8 kB/s eta 0:00:16\n",
      "   --------------------------------- ------ 5.8/7.0 MB 78.8 kB/s eta 0:00:16\n",
      "   ---------------------------------- ----- 6.0/7.0 MB 76.4 kB/s eta 0:00:13\n",
      "   ---------------------------------- ----- 6.0/7.0 MB 76.4 kB/s eta 0:00:13\n",
      "   ---------------------------------- ----- 6.0/7.0 MB 76.4 kB/s eta 0:00:13\n",
      "   ---------------------------------- ----- 6.0/7.0 MB 76.4 kB/s eta 0:00:13\n",
      "   ---------------------------------- ----- 6.0/7.0 MB 76.4 kB/s eta 0:00:13\n",
      "   ---------------------------------- ----- 6.0/7.0 MB 76.4 kB/s eta 0:00:13\n",
      "   ---------------------------------- ----- 6.0/7.0 MB 76.4 kB/s eta 0:00:13\n",
      "   ---------------------------------- ----- 6.0/7.0 MB 76.4 kB/s eta 0:00:13\n",
      "   ---------------------------------- ----- 6.0/7.0 MB 76.4 kB/s eta 0:00:13\n",
      "   ---------------------------------- ----- 6.0/7.0 MB 76.4 kB/s eta 0:00:13\n",
      "   ---------------------------------- ----- 6.0/7.0 MB 76.4 kB/s eta 0:00:13\n",
      "   ---------------------------------- ----- 6.0/7.0 MB 76.4 kB/s eta 0:00:13\n",
      "   ---------------------------------- ----- 6.0/7.0 MB 76.4 kB/s eta 0:00:13\n",
      "   ---------------------------------- ----- 6.0/7.0 MB 76.4 kB/s eta 0:00:13\n",
      "   ---------------------------------- ----- 6.0/7.0 MB 76.4 kB/s eta 0:00:13\n",
      "   ---------------------------------- ----- 6.0/7.0 MB 76.4 kB/s eta 0:00:13\n",
      "   ---------------------------------- ----- 6.0/7.0 MB 76.4 kB/s eta 0:00:13\n",
      "   ------------------------------------ --- 6.3/7.0 MB 65.6 kB/s eta 0:00:11\n",
      "   ------------------------------------ --- 6.3/7.0 MB 65.6 kB/s eta 0:00:11\n",
      "   ------------------------------------ --- 6.3/7.0 MB 65.6 kB/s eta 0:00:11\n",
      "   ------------------------------------ --- 6.3/7.0 MB 65.6 kB/s eta 0:00:11\n",
      "   ------------------------------------ --- 6.3/7.0 MB 65.6 kB/s eta 0:00:11\n",
      "   ------------------------------------ --- 6.3/7.0 MB 65.6 kB/s eta 0:00:11\n",
      "   ------------------------------------ --- 6.3/7.0 MB 65.6 kB/s eta 0:00:11\n",
      "   ------------------------------------ --- 6.3/7.0 MB 65.6 kB/s eta 0:00:11\n",
      "   ------------------------------------ --- 6.3/7.0 MB 65.6 kB/s eta 0:00:11\n",
      "   ------------------------------------- -- 6.6/7.0 MB 70.1 kB/s eta 0:00:07\n",
      "   ------------------------------------- -- 6.6/7.0 MB 70.1 kB/s eta 0:00:07\n",
      "   ------------------------------------- -- 6.6/7.0 MB 70.1 kB/s eta 0:00:07\n",
      "   ------------------------------------- -- 6.6/7.0 MB 70.1 kB/s eta 0:00:07\n",
      "   ------------------------------------- -- 6.6/7.0 MB 70.1 kB/s eta 0:00:07\n",
      "   ------------------------------------- -- 6.6/7.0 MB 70.1 kB/s eta 0:00:07\n",
      "   ------------------------------------- -- 6.6/7.0 MB 70.1 kB/s eta 0:00:07\n",
      "   ------------------------------------- -- 6.6/7.0 MB 70.1 kB/s eta 0:00:07\n",
      "   ------------------------------------- -- 6.6/7.0 MB 70.1 kB/s eta 0:00:07\n",
      "   ------------------------------------- -- 6.6/7.0 MB 70.1 kB/s eta 0:00:07\n",
      "   ------------------------------------- -- 6.6/7.0 MB 70.1 kB/s eta 0:00:07\n",
      "   ---------------------------------------  6.8/7.0 MB 72.7 kB/s eta 0:00:03\n",
      "   ---------------------------------------  6.8/7.0 MB 72.7 kB/s eta 0:00:03\n",
      "   ---------------------------------------- 7.0/7.0 MB 77.3 kB/s  0:01:29\n",
      "Downloading pyparsing-3.2.4-py3-none-any.whl (113 kB)\n",
      "Installing collected packages: pyparsing, pillow, kiwisolver, fonttools, cycler, contourpy, matplotlib\n",
      "\n",
      "   ---------------------------------------- 0/7 [pyparsing]\n",
      "   ---------------------------------------- 0/7 [pyparsing]\n",
      "   ---------------------------------------- 0/7 [pyparsing]\n",
      "   ----- ---------------------------------- 1/7 [pillow]\n",
      "   ----- ---------------------------------- 1/7 [pillow]\n",
      "   ----- ---------------------------------- 1/7 [pillow]\n",
      "   ----- ---------------------------------- 1/7 [pillow]\n",
      "   ----- ---------------------------------- 1/7 [pillow]\n",
      "   ----- ---------------------------------- 1/7 [pillow]\n",
      "   ----- ---------------------------------- 1/7 [pillow]\n",
      "   ----- ---------------------------------- 1/7 [pillow]\n",
      "   ----- ---------------------------------- 1/7 [pillow]\n",
      "   ----- ---------------------------------- 1/7 [pillow]\n",
      "   ----- ---------------------------------- 1/7 [pillow]\n",
      "   ----- ---------------------------------- 1/7 [pillow]\n",
      "   ----- ---------------------------------- 1/7 [pillow]\n",
      "   ----- ---------------------------------- 1/7 [pillow]\n",
      "   ----- ---------------------------------- 1/7 [pillow]\n",
      "   ----- ---------------------------------- 1/7 [pillow]\n",
      "   ----------- ---------------------------- 2/7 [kiwisolver]\n",
      "   ----------------- ---------------------- 3/7 [fonttools]\n",
      "   ----------------- ---------------------- 3/7 [fonttools]\n",
      "   ----------------- ---------------------- 3/7 [fonttools]\n",
      "   ----------------- ---------------------- 3/7 [fonttools]\n",
      "   ----------------- ---------------------- 3/7 [fonttools]\n",
      "   ----------------- ---------------------- 3/7 [fonttools]\n",
      "   ----------------- ---------------------- 3/7 [fonttools]\n",
      "   ----------------- ---------------------- 3/7 [fonttools]\n",
      "   ----------------- ---------------------- 3/7 [fonttools]\n",
      "   ----------------- ---------------------- 3/7 [fonttools]\n",
      "   ----------------- ---------------------- 3/7 [fonttools]\n",
      "   ----------------- ---------------------- 3/7 [fonttools]\n",
      "   ----------------- ---------------------- 3/7 [fonttools]\n",
      "   ----------------- ---------------------- 3/7 [fonttools]\n",
      "   ----------------- ---------------------- 3/7 [fonttools]\n",
      "   ----------------- ---------------------- 3/7 [fonttools]\n",
      "   ----------------- ---------------------- 3/7 [fonttools]\n",
      "   ----------------- ---------------------- 3/7 [fonttools]\n",
      "   ----------------- ---------------------- 3/7 [fonttools]\n",
      "   ----------------- ---------------------- 3/7 [fonttools]\n",
      "   ----------------- ---------------------- 3/7 [fonttools]\n",
      "   ----------------- ---------------------- 3/7 [fonttools]\n",
      "   ----------------- ---------------------- 3/7 [fonttools]\n",
      "   ----------------- ---------------------- 3/7 [fonttools]\n",
      "   ----------------- ---------------------- 3/7 [fonttools]\n",
      "   ----------------- ---------------------- 3/7 [fonttools]\n",
      "   ----------------- ---------------------- 3/7 [fonttools]\n",
      "   ----------------- ---------------------- 3/7 [fonttools]\n",
      "   ----------------- ---------------------- 3/7 [fonttools]\n",
      "   ----------------- ---------------------- 3/7 [fonttools]\n",
      "   ----------------- ---------------------- 3/7 [fonttools]\n",
      "   ----------------- ---------------------- 3/7 [fonttools]\n",
      "   ----------------- ---------------------- 3/7 [fonttools]\n",
      "   ----------------- ---------------------- 3/7 [fonttools]\n",
      "   ----------------- ---------------------- 3/7 [fonttools]\n",
      "   ----------------- ---------------------- 3/7 [fonttools]\n",
      "   ----------------- ---------------------- 3/7 [fonttools]\n",
      "   ----------------- ---------------------- 3/7 [fonttools]\n",
      "   ----------------- ---------------------- 3/7 [fonttools]\n",
      "   ----------------- ---------------------- 3/7 [fonttools]\n",
      "   ----------------- ---------------------- 3/7 [fonttools]\n",
      "   ----------------- ---------------------- 3/7 [fonttools]\n",
      "   ----------------- ---------------------- 3/7 [fonttools]\n",
      "   ----------------- ---------------------- 3/7 [fonttools]\n",
      "   ----------------- ---------------------- 3/7 [fonttools]\n",
      "   ----------------- ---------------------- 3/7 [fonttools]\n",
      "   ----------------- ---------------------- 3/7 [fonttools]\n",
      "   ----------------- ---------------------- 3/7 [fonttools]\n",
      "   ----------------- ---------------------- 3/7 [fonttools]\n",
      "   ----------------- ---------------------- 3/7 [fonttools]\n",
      "   ----------------- ---------------------- 3/7 [fonttools]\n",
      "   ----------------- ---------------------- 3/7 [fonttools]\n",
      "   ----------------- ---------------------- 3/7 [fonttools]\n",
      "   ----------------- ---------------------- 3/7 [fonttools]\n",
      "   ----------------- ---------------------- 3/7 [fonttools]\n",
      "   ----------------- ---------------------- 3/7 [fonttools]\n",
      "   ----------------- ---------------------- 3/7 [fonttools]\n",
      "   ----------------- ---------------------- 3/7 [fonttools]\n",
      "   ----------------- ---------------------- 3/7 [fonttools]\n",
      "   ----------------- ---------------------- 3/7 [fonttools]\n",
      "   ----------------- ---------------------- 3/7 [fonttools]\n",
      "   ----------------- ---------------------- 3/7 [fonttools]\n",
      "   ----------------- ---------------------- 3/7 [fonttools]\n",
      "   ----------------- ---------------------- 3/7 [fonttools]\n",
      "   ----------------- ---------------------- 3/7 [fonttools]\n",
      "   ----------------- ---------------------- 3/7 [fonttools]\n",
      "   ----------------- ---------------------- 3/7 [fonttools]\n",
      "   ----------------- ---------------------- 3/7 [fonttools]\n",
      "   ---------------------------- ----------- 5/7 [contourpy]\n",
      "   ---------------------------- ----------- 5/7 [contourpy]\n",
      "   ---------------------------- ----------- 5/7 [contourpy]\n",
      "   ---------------------------------- ----- 6/7 [matplotlib]\n",
      "   ---------------------------------- ----- 6/7 [matplotlib]\n",
      "   ---------------------------------- ----- 6/7 [matplotlib]\n",
      "   ---------------------------------- ----- 6/7 [matplotlib]\n",
      "   ---------------------------------- ----- 6/7 [matplotlib]\n",
      "   ---------------------------------- ----- 6/7 [matplotlib]\n",
      "   ---------------------------------- ----- 6/7 [matplotlib]\n",
      "   ---------------------------------- ----- 6/7 [matplotlib]\n",
      "   ---------------------------------- ----- 6/7 [matplotlib]\n",
      "   ---------------------------------- ----- 6/7 [matplotlib]\n",
      "   ---------------------------------- ----- 6/7 [matplotlib]\n",
      "   ---------------------------------- ----- 6/7 [matplotlib]\n",
      "   ---------------------------------- ----- 6/7 [matplotlib]\n",
      "   ---------------------------------- ----- 6/7 [matplotlib]\n",
      "   ---------------------------------- ----- 6/7 [matplotlib]\n",
      "   ---------------------------------- ----- 6/7 [matplotlib]\n",
      "   ---------------------------------- ----- 6/7 [matplotlib]\n",
      "   ---------------------------------- ----- 6/7 [matplotlib]\n",
      "   ---------------------------------- ----- 6/7 [matplotlib]\n",
      "   ---------------------------------- ----- 6/7 [matplotlib]\n",
      "   ---------------------------------- ----- 6/7 [matplotlib]\n",
      "   ---------------------------------- ----- 6/7 [matplotlib]\n",
      "   ---------------------------------- ----- 6/7 [matplotlib]\n",
      "   ---------------------------------- ----- 6/7 [matplotlib]\n",
      "   ---------------------------------- ----- 6/7 [matplotlib]\n",
      "   ---------------------------------- ----- 6/7 [matplotlib]\n",
      "   ---------------------------------- ----- 6/7 [matplotlib]\n",
      "   ---------------------------------- ----- 6/7 [matplotlib]\n",
      "   ---------------------------------- ----- 6/7 [matplotlib]\n",
      "   ---------------------------------- ----- 6/7 [matplotlib]\n",
      "   ---------------------------------- ----- 6/7 [matplotlib]\n",
      "   ---------------------------------- ----- 6/7 [matplotlib]\n",
      "   ---------------------------------- ----- 6/7 [matplotlib]\n",
      "   ---------------------------------- ----- 6/7 [matplotlib]\n",
      "   ---------------------------------- ----- 6/7 [matplotlib]\n",
      "   ---------------------------------- ----- 6/7 [matplotlib]\n",
      "   ---------------------------------- ----- 6/7 [matplotlib]\n",
      "   ---------------------------------- ----- 6/7 [matplotlib]\n",
      "   ---------------------------------- ----- 6/7 [matplotlib]\n",
      "   ---------------------------------- ----- 6/7 [matplotlib]\n",
      "   ---------------------------------- ----- 6/7 [matplotlib]\n",
      "   ---------------------------------- ----- 6/7 [matplotlib]\n",
      "   ---------------------------------- ----- 6/7 [matplotlib]\n",
      "   ---------------------------------- ----- 6/7 [matplotlib]\n",
      "   ---------------------------------- ----- 6/7 [matplotlib]\n",
      "   ---------------------------------- ----- 6/7 [matplotlib]\n",
      "   ---------------------------------- ----- 6/7 [matplotlib]\n",
      "   ---------------------------------- ----- 6/7 [matplotlib]\n",
      "   ---------------------------------- ----- 6/7 [matplotlib]\n",
      "   ---------------------------------- ----- 6/7 [matplotlib]\n",
      "   ---------------------------------- ----- 6/7 [matplotlib]\n",
      "   ---------------------------------- ----- 6/7 [matplotlib]\n",
      "   ---------------------------------- ----- 6/7 [matplotlib]\n",
      "   ---------------------------------- ----- 6/7 [matplotlib]\n",
      "   ---------------------------------- ----- 6/7 [matplotlib]\n",
      "   ---------------------------------- ----- 6/7 [matplotlib]\n",
      "   ---------------------------------- ----- 6/7 [matplotlib]\n",
      "   ---------------------------------- ----- 6/7 [matplotlib]\n",
      "   ---------------------------------- ----- 6/7 [matplotlib]\n",
      "   ---------------------------------- ----- 6/7 [matplotlib]\n",
      "   ---------------------------------- ----- 6/7 [matplotlib]\n",
      "   ---------------------------------- ----- 6/7 [matplotlib]\n",
      "   ---------------------------------- ----- 6/7 [matplotlib]\n",
      "   ---------------------------------- ----- 6/7 [matplotlib]\n",
      "   ---------------------------------- ----- 6/7 [matplotlib]\n",
      "   ---------------------------------- ----- 6/7 [matplotlib]\n",
      "   ---------------------------------- ----- 6/7 [matplotlib]\n",
      "   ---------------------------------- ----- 6/7 [matplotlib]\n",
      "   ---------------------------------------- 7/7 [matplotlib]\n",
      "\n",
      "Successfully installed contourpy-1.3.3 cycler-0.12.1 fonttools-4.59.2 kiwisolver-1.4.9 matplotlib-3.10.6 pillow-11.3.0 pyparsing-3.2.4\n"
     ]
    }
   ],
   "source": [
    "!pip install matplotlib"
   ]
  },
  {
   "cell_type": "code",
   "execution_count": 198,
   "id": "cbf6f544-cdd4-437a-a781-59f6071f912a",
   "metadata": {},
   "outputs": [],
   "source": [
    "import matplotlib.pyplot as plt"
   ]
  },
  {
   "cell_type": "code",
   "execution_count": 200,
   "id": "07d6b27e-f540-45c7-b5fa-6372e415a7db",
   "metadata": {},
   "outputs": [
    {
     "data": {
      "text/plain": [
       "(array([17., 10., 16.,  6., 15.,  5.,  3., 13., 12.,  6., 16.,  9.,  6.,\n",
       "         4., 11., 15., 13., 13.,  9., 14., 15.,  9.,  8.,  4.,  9.,  4.,\n",
       "        22., 14.,  7., 13.,  9., 19.,  7., 14., 14., 14., 14., 14.,  6.,\n",
       "        10., 11.,  9.,  7., 13., 11.,  9., 15., 15., 13.,  7.,  9.,  5.,\n",
       "         4., 11., 14.,  9.,  6.,  7.,  8.,  7.,  7., 12.,  7.,  9., 17.,\n",
       "         6.,  9.,  8., 13.,  7.,  8.,  8.,  3., 11., 14., 12.,  9., 12.,\n",
       "         7., 14., 16.,  9., 11., 12.,  8.,  7.,  3.,  9.,  6., 11., 11.,\n",
       "         8., 11.,  6.,  5., 10.,  5., 17.,  5.,  8.]),\n",
       " array([0.00167788, 0.01165146, 0.02162504, 0.03159862, 0.0415722 ,\n",
       "        0.05154578, 0.06151936, 0.07149294, 0.08146652, 0.0914401 ,\n",
       "        0.10141368, 0.11138726, 0.12136084, 0.13133442, 0.141308  ,\n",
       "        0.15128158, 0.16125516, 0.17122874, 0.18120232, 0.1911759 ,\n",
       "        0.20114948, 0.21112306, 0.22109664, 0.23107023, 0.24104381,\n",
       "        0.25101739, 0.26099097, 0.27096455, 0.28093813, 0.29091171,\n",
       "        0.30088529, 0.31085887, 0.32083245, 0.33080603, 0.34077961,\n",
       "        0.35075319, 0.36072677, 0.37070035, 0.38067393, 0.39064751,\n",
       "        0.40062109, 0.41059467, 0.42056825, 0.43054183, 0.44051541,\n",
       "        0.45048899, 0.46046257, 0.47043615, 0.48040973, 0.49038331,\n",
       "        0.50035689, 0.51033047, 0.52030405, 0.53027763, 0.54025121,\n",
       "        0.55022479, 0.56019837, 0.57017195, 0.58014553, 0.59011912,\n",
       "        0.6000927 , 0.61006628, 0.62003986, 0.63001344, 0.63998702,\n",
       "        0.6499606 , 0.65993418, 0.66990776, 0.67988134, 0.68985492,\n",
       "        0.6998285 , 0.70980208, 0.71977566, 0.72974924, 0.73972282,\n",
       "        0.7496964 , 0.75966998, 0.76964356, 0.77961714, 0.78959072,\n",
       "        0.7995643 , 0.80953788, 0.81951146, 0.82948504, 0.83945862,\n",
       "        0.8494322 , 0.85940578, 0.86937936, 0.87935294, 0.88932652,\n",
       "        0.8993001 , 0.90927368, 0.91924726, 0.92922084, 0.93919442,\n",
       "        0.94916801, 0.95914159, 0.96911517, 0.97908875, 0.98906233,\n",
       "        0.99903591]),\n",
       " <BarContainer object of 100 artists>)"
      ]
     },
     "execution_count": 200,
     "metadata": {},
     "output_type": "execute_result"
    },
    {
     "data": {
      "image/png": "[encoded data removed]",
      "text/plain": [
       "<Figure size 640x480 with 1 Axes>"
      ]
     },
     "metadata": {},
     "output_type": "display_data"
    }
   ],
   "source": [
    "plt.hist(A, bins = 100)"
   ]
  },
  {
   "cell_type": "code",
   "execution_count": 201,
   "id": "58629157-6d6b-4adf-a876-94a60d24ad7c",
   "metadata": {},
   "outputs": [],
   "source": [
    "B = np.random.randn(100000)"
   ]
  },
  {
   "cell_type": "code",
   "execution_count": 203,
   "id": "50d2129f-ff3a-48b5-98b0-e77b552f53d6",
   "metadata": {},
   "outputs": [
    {
     "data": {
      "text/plain": [
       "(array([1.000e+00, 1.000e+00, 0.000e+00, 1.000e+00, 0.000e+00, 0.000e+00,\n",
       "        0.000e+00, 0.000e+00, 3.000e+00, 2.000e+00, 2.000e+00, 1.000e+00,\n",
       "        3.000e+00, 4.000e+00, 6.000e+00, 9.000e+00, 6.000e+00, 6.000e+00,\n",
       "        5.000e+00, 5.000e+00, 1.200e+01, 1.700e+01, 2.400e+01, 1.800e+01,\n",
       "        1.100e+01, 1.600e+01, 2.300e+01, 3.100e+01, 3.800e+01, 3.900e+01,\n",
       "        4.700e+01, 3.800e+01, 5.200e+01, 3.400e+01, 5.700e+01, 7.600e+01,\n",
       "        4.800e+01, 1.030e+02, 7.000e+01, 8.600e+01, 1.110e+02, 1.160e+02,\n",
       "        1.170e+02, 1.080e+02, 1.290e+02, 1.580e+02, 1.730e+02, 1.640e+02,\n",
       "        2.250e+02, 2.040e+02, 2.540e+02, 2.570e+02, 2.770e+02, 2.820e+02,\n",
       "        3.190e+02, 3.510e+02, 3.630e+02, 3.890e+02, 3.580e+02, 4.380e+02,\n",
       "        5.080e+02, 4.470e+02, 5.300e+02, 5.450e+02, 5.080e+02, 6.070e+02,\n",
       "        6.560e+02, 7.600e+02, 7.210e+02, 8.000e+02, 8.210e+02, 8.600e+02,\n",
       "        8.920e+02, 9.200e+02, 1.037e+03, 1.066e+03, 1.023e+03, 1.078e+03,\n",
       "        1.123e+03, 1.143e+03, 1.227e+03, 1.253e+03, 1.276e+03, 1.295e+03,\n",
       "        1.325e+03, 1.357e+03, 1.439e+03, 1.445e+03, 1.427e+03, 1.515e+03,\n",
       "        1.522e+03, 1.476e+03, 1.498e+03, 1.496e+03, 1.564e+03, 1.564e+03,\n",
       "        1.611e+03, 1.617e+03, 1.583e+03, 1.538e+03, 1.618e+03, 1.560e+03,\n",
       "        1.586e+03, 1.583e+03, 1.567e+03, 1.546e+03, 1.515e+03, 1.512e+03,\n",
       "        1.523e+03, 1.504e+03, 1.420e+03, 1.410e+03, 1.504e+03, 1.381e+03,\n",
       "        1.312e+03, 1.221e+03, 1.288e+03, 1.174e+03, 1.218e+03, 1.147e+03,\n",
       "        1.123e+03, 1.128e+03, 1.065e+03, 1.082e+03, 9.730e+02, 9.710e+02,\n",
       "        9.230e+02, 8.350e+02, 8.260e+02, 7.680e+02, 7.840e+02, 6.910e+02,\n",
       "        6.740e+02, 6.270e+02, 5.560e+02, 5.700e+02, 5.320e+02, 5.060e+02,\n",
       "        4.930e+02, 4.350e+02, 4.070e+02, 3.630e+02, 3.540e+02, 3.120e+02,\n",
       "        3.180e+02, 2.690e+02, 2.470e+02, 2.250e+02, 2.490e+02, 2.260e+02,\n",
       "        1.930e+02, 1.830e+02, 1.600e+02, 1.400e+02, 1.500e+02, 1.200e+02,\n",
       "        1.310e+02, 1.130e+02, 1.010e+02, 7.900e+01, 7.400e+01, 7.300e+01,\n",
       "        6.100e+01, 7.200e+01, 4.800e+01, 5.300e+01, 4.700e+01, 4.100e+01,\n",
       "        3.200e+01, 2.900e+01, 2.200e+01, 3.200e+01, 1.500e+01, 2.000e+01,\n",
       "        1.500e+01, 1.600e+01, 1.100e+01, 1.100e+01, 1.300e+01, 1.600e+01,\n",
       "        7.000e+00, 4.000e+00, 4.000e+00, 5.000e+00, 6.000e+00, 5.000e+00,\n",
       "        2.000e+00, 4.000e+00, 1.000e+00, 0.000e+00, 2.000e+00, 0.000e+00,\n",
       "        2.000e+00, 0.000e+00, 3.000e+00, 1.000e+00, 0.000e+00, 0.000e+00,\n",
       "        0.000e+00, 1.000e+00]),\n",
       " array([-3.99147163, -3.95138578, -3.91129993, -3.87121409, -3.83112824,\n",
       "        -3.79104239, -3.75095654, -3.71087069, -3.67078484, -3.63069899,\n",
       "        -3.59061314, -3.55052729, -3.51044144, -3.4703556 , -3.43026975,\n",
       "        -3.3901839 , -3.35009805, -3.3100122 , -3.26992635, -3.2298405 ,\n",
       "        -3.18975465, -3.1496688 , -3.10958296, -3.06949711, -3.02941126,\n",
       "        -2.98932541, -2.94923956, -2.90915371, -2.86906786, -2.82898201,\n",
       "        -2.78889616, -2.74881031, -2.70872447, -2.66863862, -2.62855277,\n",
       "        -2.58846692, -2.54838107, -2.50829522, -2.46820937, -2.42812352,\n",
       "        -2.38803767, -2.34795183, -2.30786598, -2.26778013, -2.22769428,\n",
       "        -2.18760843, -2.14752258, -2.10743673, -2.06735088, -2.02726503,\n",
       "        -1.98717918, -1.94709334, -1.90700749, -1.86692164, -1.82683579,\n",
       "        -1.78674994, -1.74666409, -1.70657824, -1.66649239, -1.62640654,\n",
       "        -1.58632069, -1.54623485, -1.506149  , -1.46606315, -1.4259773 ,\n",
       "        -1.38589145, -1.3458056 , -1.30571975, -1.2656339 , -1.22554805,\n",
       "        -1.18546221, -1.14537636, -1.10529051, -1.06520466, -1.02511881,\n",
       "        -0.98503296, -0.94494711, -0.90486126, -0.86477541, -0.82468956,\n",
       "        -0.78460372, -0.74451787, -0.70443202, -0.66434617, -0.62426032,\n",
       "        -0.58417447, -0.54408862, -0.50400277, -0.46391692, -0.42383107,\n",
       "        -0.38374523, -0.34365938, -0.30357353, -0.26348768, -0.22340183,\n",
       "        -0.18331598, -0.14323013, -0.10314428, -0.06305843, -0.02297259,\n",
       "         0.01711326,  0.05719911,  0.09728496,  0.13737081,  0.17745666,\n",
       "         0.21754251,  0.25762836,  0.29771421,  0.33780006,  0.3778859 ,\n",
       "         0.41797175,  0.4580576 ,  0.49814345,  0.5382293 ,  0.57831515,\n",
       "         0.618401  ,  0.65848685,  0.6985727 ,  0.73865855,  0.77874439,\n",
       "         0.81883024,  0.85891609,  0.89900194,  0.93908779,  0.97917364,\n",
       "         1.01925949,  1.05934534,  1.09943119,  1.13951703,  1.17960288,\n",
       "         1.21968873,  1.25977458,  1.29986043,  1.33994628,  1.38003213,\n",
       "         1.42011798,  1.46020383,  1.50028968,  1.54037552,  1.58046137,\n",
       "         1.62054722,  1.66063307,  1.70071892,  1.74080477,  1.78089062,\n",
       "         1.82097647,  1.86106232,  1.90114816,  1.94123401,  1.98131986,\n",
       "         2.02140571,  2.06149156,  2.10157741,  2.14166326,  2.18174911,\n",
       "         2.22183496,  2.26192081,  2.30200665,  2.3420925 ,  2.38217835,\n",
       "         2.4222642 ,  2.46235005,  2.5024359 ,  2.54252175,  2.5826076 ,\n",
       "         2.62269345,  2.6627793 ,  2.70286514,  2.74295099,  2.78303684,\n",
       "         2.82312269,  2.86320854,  2.90329439,  2.94338024,  2.98346609,\n",
       "         3.02355194,  3.06363778,  3.10372363,  3.14380948,  3.18389533,\n",
       "         3.22398118,  3.26406703,  3.30415288,  3.34423873,  3.38432458,\n",
       "         3.42441043,  3.46449627,  3.50458212,  3.54466797,  3.58475382,\n",
       "         3.62483967,  3.66492552,  3.70501137,  3.74509722,  3.78518307,\n",
       "         3.82526892,  3.86535476,  3.90544061,  3.94552646,  3.98561231,\n",
       "         4.02569816]),\n",
       " <BarContainer object of 200 artists>)"
      ]
     },
     "execution_count": 203,
     "metadata": {},
     "output_type": "execute_result"
    },
    {
     "data": {
      "image/png": "[encoded data removed]",
      "text/plain": [
       "<Figure size 640x480 with 1 Axes>"
      ]
     },
     "metadata": {},
     "output_type": "display_data"
    }
   ],
   "source": [
    "plt.hist(B , bins = 200)"
   ]
  },
  {
   "cell_type": "code",
   "execution_count": 204,
   "id": "291dfc37-6445-45b9-a239-02f7d6dc740d",
   "metadata": {},
   "outputs": [],
   "source": [
    "C = np.random.rand(2,3)"
   ]
  },
  {
   "cell_type": "code",
   "execution_count": 205,
   "id": "7f4aa374-3473-4c81-b8c9-8cd369dfcbd3",
   "metadata": {},
   "outputs": [
    {
     "data": {
      "text/plain": [
       "array([[0.03747969, 0.96607812, 0.6173884 ],\n",
       "       [0.65870834, 0.14024477, 0.39523372]])"
      ]
     },
     "execution_count": 205,
     "metadata": {},
     "output_type": "execute_result"
    }
   ],
   "source": [
    "C"
   ]
  },
  {
   "cell_type": "code",
   "execution_count": 206,
   "id": "0934c6f0-e71d-43dc-9c0a-0cabf14feb6e",
   "metadata": {},
   "outputs": [
    {
     "data": {
      "text/plain": [
       "2"
      ]
     },
     "execution_count": 206,
     "metadata": {},
     "output_type": "execute_result"
    }
   ],
   "source": [
    "C.ndim"
   ]
  },
  {
   "cell_type": "code",
   "execution_count": 207,
   "id": "3ea15b4b-7dc4-4b1f-8b0b-c286b83fdefd",
   "metadata": {},
   "outputs": [],
   "source": [
    "C = np.random.rand(2 , 3, 4 , 2)"
   ]
  },
  {
   "cell_type": "code",
   "execution_count": 209,
   "id": "c56fd3dd-6120-40c0-800f-3516d22d8713",
   "metadata": {},
   "outputs": [],
   "source": [
    "D = np.arange(100).reshape(4,25)"
   ]
  },
  {
   "cell_type": "code",
   "execution_count": 210,
   "id": "a62ad724-9a8b-4e6a-82a8-a7049b20f908",
   "metadata": {},
   "outputs": [
    {
     "data": {
      "text/plain": [
       "(4, 25)"
      ]
     },
     "execution_count": 210,
     "metadata": {},
     "output_type": "execute_result"
    }
   ],
   "source": [
    "D.shape"
   ]
  },
  {
   "cell_type": "code",
   "execution_count": 211,
   "id": "a36183d2-0497-4ac6-921e-1c858d7b95ce",
   "metadata": {},
   "outputs": [],
   "source": [
    "D = np.arange(100).reshape(4,5 ,5)"
   ]
  },
  {
   "cell_type": "code",
   "execution_count": 212,
   "id": "fba58b34-8550-4d2d-8073-949fd7abe485",
   "metadata": {},
   "outputs": [
    {
     "data": {
      "text/plain": [
       "(4, 5, 5)"
      ]
     },
     "execution_count": 212,
     "metadata": {},
     "output_type": "execute_result"
    }
   ],
   "source": [
    "D.shape"
   ]
  },
  {
   "cell_type": "code",
   "execution_count": 213,
   "id": "fde8ef27-b726-41e9-a3aa-4f13ecc59794",
   "metadata": {},
   "outputs": [
    {
     "data": {
      "text/plain": [
       "\u001b[31mDocstring:\u001b[39m\n",
       "zeros(shape, dtype=float, order='C', *, like=None)\n",
       "\n",
       "Return a new array of given shape and type, filled with zeros.\n",
       "\n",
       "Parameters\n",
       "----------\n",
       "shape : int or tuple of ints\n",
       "    Shape of the new array, e.g., ``(2, 3)`` or ``2``.\n",
       "dtype : data-type, optional\n",
       "    The desired data-type for the array, e.g., `numpy.int8`.  Default is\n",
       "    `numpy.float64`.\n",
       "order : {'C', 'F'}, optional, default: 'C'\n",
       "    Whether to store multi-dimensional data in row-major\n",
       "    (C-style) or column-major (Fortran-style) order in\n",
       "    memory.\n",
       "like : array_like, optional\n",
       "    Reference object to allow the creation of arrays which are not\n",
       "    NumPy arrays. If an array-like passed in as ``like`` supports\n",
       "    the ``__array_function__`` protocol, the result will be defined\n",
       "    by it. In this case, it ensures the creation of an array object\n",
       "    compatible with that passed in via this argument.\n",
       "\n",
       "    .. versionadded:: 1.20.0\n",
       "\n",
       "Returns\n",
       "-------\n",
       "out : ndarray\n",
       "    Array of zeros with the given shape, dtype, and order.\n",
       "\n",
       "See Also\n",
       "--------\n",
       "zeros_like : Return an array of zeros with shape and type of input.\n",
       "empty : Return a new uninitialized array.\n",
       "ones : Return a new array setting values to one.\n",
       "full : Return a new array of given shape filled with value.\n",
       "\n",
       "Examples\n",
       "--------\n",
       ">>> import numpy as np\n",
       ">>> np.zeros(5)\n",
       "array([ 0.,  0.,  0.,  0.,  0.])\n",
       "\n",
       ">>> np.zeros((5,), dtype=int)\n",
       "array([0, 0, 0, 0, 0])\n",
       "\n",
       ">>> np.zeros((2, 1))\n",
       "array([[ 0.],\n",
       "       [ 0.]])\n",
       "\n",
       ">>> s = (2,2)\n",
       ">>> np.zeros(s)\n",
       "array([[ 0.,  0.],\n",
       "       [ 0.,  0.]])\n",
       "\n",
       ">>> np.zeros((2,), dtype=[('x', 'i4'), ('y', 'i4')]) # custom dtype\n",
       "array([(0, 0), (0, 0)],\n",
       "      dtype=[('x', '<i4'), ('y', '<i4')])\n",
       "\u001b[31mType:\u001b[39m      builtin_function_or_method"
      ]
     },
     "metadata": {},
     "output_type": "display_data"
    }
   ],
   "source": [
    "np.zeros?"
   ]
  },
  {
   "cell_type": "code",
   "execution_count": 214,
   "id": "c41d58ce-ae74-41f5-a7a0-a4b000eefaa4",
   "metadata": {},
   "outputs": [
    {
     "data": {
      "text/plain": [
       "\u001b[31mSignature:\u001b[39m np.ones(shape, dtype=\u001b[38;5;28;01mNone\u001b[39;00m, order=\u001b[33m'C'\u001b[39m, *, device=\u001b[38;5;28;01mNone\u001b[39;00m, like=\u001b[38;5;28;01mNone\u001b[39;00m)\n",
       "\u001b[31mDocstring:\u001b[39m\n",
       "Return a new array of given shape and type, filled with ones.\n",
       "\n",
       "Parameters\n",
       "----------\n",
       "shape : int or sequence of ints\n",
       "    Shape of the new array, e.g., ``(2, 3)`` or ``2``.\n",
       "dtype : data-type, optional\n",
       "    The desired data-type for the array, e.g., `numpy.int8`.  Default is\n",
       "    `numpy.float64`.\n",
       "order : {'C', 'F'}, optional, default: C\n",
       "    Whether to store multi-dimensional data in row-major\n",
       "    (C-style) or column-major (Fortran-style) order in\n",
       "    memory.\n",
       "device : str, optional\n",
       "    The device on which to place the created array. Default: None.\n",
       "    For Array-API interoperability only, so must be ``\"cpu\"`` if passed.\n",
       "\n",
       "    .. versionadded:: 2.0.0\n",
       "like : array_like, optional\n",
       "        Reference object to allow the creation of arrays which are not\n",
       "        NumPy arrays. If an array-like passed in as ``like`` supports\n",
       "        the ``__array_function__`` protocol, the result will be defined\n",
       "        by it. In this case, it ensures the creation of an array object\n",
       "        compatible with that passed in via this argument.\n",
       "\n",
       "    .. versionadded:: 1.20.0\n",
       "\n",
       "Returns\n",
       "-------\n",
       "out : ndarray\n",
       "    Array of ones with the given shape, dtype, and order.\n",
       "\n",
       "See Also\n",
       "--------\n",
       "ones_like : Return an array of ones with shape and type of input.\n",
       "empty : Return a new uninitialized array.\n",
       "zeros : Return a new array setting values to zero.\n",
       "full : Return a new array of given shape filled with value.\n",
       "\n",
       "Examples\n",
       "--------\n",
       ">>> import numpy as np\n",
       ">>> np.ones(5)\n",
       "array([1., 1., 1., 1., 1.])\n",
       "\n",
       ">>> np.ones((5,), dtype=int)\n",
       "array([1, 1, 1, 1, 1])\n",
       "\n",
       ">>> np.ones((2, 1))\n",
       "array([[1.],\n",
       "       [1.]])\n",
       "\n",
       ">>> s = (2,2)\n",
       ">>> np.ones(s)\n",
       "array([[1.,  1.],\n",
       "       [1.,  1.]])\n",
       "\u001b[31mFile:\u001b[39m      c:\\users\\amingo\\appdata\\local\\programs\\python\\python313\\lib\\site-packages\\numpy\\_core\\numeric.py\n",
       "\u001b[31mType:\u001b[39m      function"
      ]
     },
     "metadata": {},
     "output_type": "display_data"
    }
   ],
   "source": [
    "np.ones?"
   ]
  },
  {
   "cell_type": "code",
   "execution_count": 215,
   "id": "78b023e4-4933-4aac-b37e-6b064050335f",
   "metadata": {},
   "outputs": [],
   "source": [
    "A = np.arange(100)"
   ]
  },
  {
   "cell_type": "code",
   "execution_count": 216,
   "id": "7ba4027b-36c2-4114-a558-62e7c482f86d",
   "metadata": {},
   "outputs": [],
   "source": [
    " b = A[3:10]"
   ]
  },
  {
   "cell_type": "code",
   "execution_count": 217,
   "id": "b509d1d2-cc9a-4dc8-a304-94a21b0a6678",
   "metadata": {},
   "outputs": [
    {
     "name": "stdout",
     "output_type": "stream",
     "text": [
      "[3 4 5 6 7 8 9]\n"
     ]
    }
   ],
   "source": [
    "print(b)"
   ]
  },
  {
   "cell_type": "code",
   "execution_count": 218,
   "id": "3784d519-5a56-4e2a-905b-4cd0cfada18e",
   "metadata": {},
   "outputs": [],
   "source": [
    "b[0] = -1200"
   ]
  },
  {
   "cell_type": "code",
   "execution_count": 219,
   "id": "f885a3ea-2c21-4543-8777-bf8466d7cf65",
   "metadata": {},
   "outputs": [
    {
     "data": {
      "text/plain": [
       "array([-1200,     4,     5,     6,     7,     8,     9])"
      ]
     },
     "execution_count": 219,
     "metadata": {},
     "output_type": "execute_result"
    }
   ],
   "source": [
    "b"
   ]
  },
  {
   "cell_type": "code",
   "execution_count": 220,
   "id": "9fa9614a-4c02-42a9-be3a-2a26f0a0037c",
   "metadata": {},
   "outputs": [
    {
     "data": {
      "text/plain": [
       "array([    0,     1,     2, -1200,     4,     5,     6,     7,     8,\n",
       "           9,    10,    11,    12,    13,    14,    15,    16,    17,\n",
       "          18,    19,    20,    21,    22,    23,    24,    25,    26,\n",
       "          27,    28,    29,    30,    31,    32,    33,    34,    35,\n",
       "          36,    37,    38,    39,    40,    41,    42,    43,    44,\n",
       "          45,    46,    47,    48,    49,    50,    51,    52,    53,\n",
       "          54,    55,    56,    57,    58,    59,    60,    61,    62,\n",
       "          63,    64,    65,    66,    67,    68,    69,    70,    71,\n",
       "          72,    73,    74,    75,    76,    77,    78,    79,    80,\n",
       "          81,    82,    83,    84,    85,    86,    87,    88,    89,\n",
       "          90,    91,    92,    93,    94,    95,    96,    97,    98,\n",
       "          99])"
      ]
     },
     "execution_count": 220,
     "metadata": {},
     "output_type": "execute_result"
    }
   ],
   "source": [
    "A"
   ]
  },
  {
   "cell_type": "code",
   "execution_count": 221,
   "id": "fc1f9484-6782-4619-bc05-1c085b562367",
   "metadata": {},
   "outputs": [],
   "source": [
    " b = A[3:10].copy"
   ]
  },
  {
   "cell_type": "code",
   "execution_count": 223,
   "id": "8ecc63bd-3b04-4512-a926-658f20a84de0",
   "metadata": {},
   "outputs": [
    {
     "data": {
      "text/plain": [
       "array([99, 94, 89, 84, 79, 74, 69, 64, 59, 54, 49, 44, 39, 34, 29, 24, 19,\n",
       "       14,  9,  4])"
      ]
     },
     "execution_count": 223,
     "metadata": {},
     "output_type": "execute_result"
    }
   ],
   "source": [
    "A[::-5]"
   ]
  },
  {
   "cell_type": "code",
   "execution_count": 224,
   "id": "f03ffd88-b103-42ae-8197-816a3ead50c0",
   "metadata": {},
   "outputs": [
    {
     "data": {
      "text/plain": [
       "array([   99,    98,    97,    96,    95,    94,    93,    92,    91,\n",
       "          90,    89,    88,    87,    86,    85,    84,    83,    82,\n",
       "          81,    80,    79,    78,    77,    76,    75,    74,    73,\n",
       "          72,    71,    70,    69,    68,    67,    66,    65,    64,\n",
       "          63,    62,    61,    60,    59,    58,    57,    56,    55,\n",
       "          54,    53,    52,    51,    50,    49,    48,    47,    46,\n",
       "          45,    44,    43,    42,    41,    40,    39,    38,    37,\n",
       "          36,    35,    34,    33,    32,    31,    30,    29,    28,\n",
       "          27,    26,    25,    24,    23,    22,    21,    20,    19,\n",
       "          18,    17,    16,    15,    14,    13,    12,    11,    10,\n",
       "           9,     8,     7,     6,     5,     4, -1200,     2,     1,\n",
       "           0])"
      ]
     },
     "execution_count": 224,
     "metadata": {},
     "output_type": "execute_result"
    }
   ],
   "source": [
    "A[::-1]"
   ]
  },
  {
   "cell_type": "code",
   "execution_count": 225,
   "id": "649ff3f7-ae8e-4e3f-8d18-723afaa70547",
   "metadata": {},
   "outputs": [
    {
     "data": {
      "text/plain": [
       "array([    0,     1,     2, -1200,     4,     5,     6,     7,     8,\n",
       "           9,    10,    11,    12,    13,    14,    15,    16,    17,\n",
       "          18,    19,    20,    21,    22,    23,    24,    25,    26,\n",
       "          27,    28,    29,    30,    31,    32,    33,    34,    35,\n",
       "          36,    37,    38,    39,    40,    41,    42,    43,    44,\n",
       "          45,    46,    47,    48,    49,    50,    51,    52,    53,\n",
       "          54,    55,    56,    57,    58,    59,    60,    61,    62,\n",
       "          63,    64,    65,    66,    67,    68,    69,    70,    71,\n",
       "          72,    73,    74,    75,    76,    77,    78,    79,    80,\n",
       "          81,    82,    83,    84,    85,    86,    87,    88,    89,\n",
       "          90,    91,    92,    93,    94,    95,    96,    97,    98,\n",
       "          99])"
      ]
     },
     "execution_count": 225,
     "metadata": {},
     "output_type": "execute_result"
    }
   ],
   "source": [
    "A"
   ]
  },
  {
   "cell_type": "code",
   "execution_count": 226,
   "id": "1de3dd0c-c563-4ed2-923b-f167c7b57c1f",
   "metadata": {},
   "outputs": [],
   "source": [
    "idx  = np.argwhere(A == -1200)[0][0]"
   ]
  },
  {
   "cell_type": "code",
   "execution_count": 227,
   "id": "39ce5983-a832-436d-8a5c-1911c7a99687",
   "metadata": {},
   "outputs": [
    {
     "data": {
      "text/plain": [
       "np.int64(3)"
      ]
     },
     "execution_count": 227,
     "metadata": {},
     "output_type": "execute_result"
    }
   ],
   "source": [
    "idx"
   ]
  },
  {
   "cell_type": "code",
   "execution_count": 228,
   "id": "cc001aa8-19ea-4b79-8edb-d6d01c2d46d3",
   "metadata": {},
   "outputs": [],
   "source": [
    "A[idx] = 3"
   ]
  },
  {
   "cell_type": "code",
   "execution_count": 229,
   "id": "e18512e2-8a27-4084-ab30-b2cd56acc4a3",
   "metadata": {},
   "outputs": [
    {
     "data": {
      "text/plain": [
       "array([ 0,  1,  2,  3,  4,  5,  6,  7,  8,  9, 10, 11, 12, 13, 14, 15, 16,\n",
       "       17, 18, 19, 20, 21, 22, 23, 24, 25, 26, 27, 28, 29, 30, 31, 32, 33,\n",
       "       34, 35, 36, 37, 38, 39, 40, 41, 42, 43, 44, 45, 46, 47, 48, 49, 50,\n",
       "       51, 52, 53, 54, 55, 56, 57, 58, 59, 60, 61, 62, 63, 64, 65, 66, 67,\n",
       "       68, 69, 70, 71, 72, 73, 74, 75, 76, 77, 78, 79, 80, 81, 82, 83, 84,\n",
       "       85, 86, 87, 88, 89, 90, 91, 92, 93, 94, 95, 96, 97, 98, 99])"
      ]
     },
     "execution_count": 229,
     "metadata": {},
     "output_type": "execute_result"
    }
   ],
   "source": [
    "A"
   ]
  },
  {
   "cell_type": "code",
   "execution_count": 232,
   "id": "04d2e9f1-69b9-4228-9795-034c1f7d7f1c",
   "metadata": {},
   "outputs": [],
   "source": [
    "A = np.round(10 * np.random.rand(5,4))"
   ]
  },
  {
   "cell_type": "code",
   "execution_count": 233,
   "id": "64a712dd-23da-4d75-8590-8b53374b1c4f",
   "metadata": {},
   "outputs": [
    {
     "data": {
      "text/plain": [
       "array([[ 2.,  7.,  1.,  9.],\n",
       "       [ 9.,  8., 10.,  3.],\n",
       "       [ 4.,  3.,  9.,  2.],\n",
       "       [ 1.,  8.,  5.,  5.],\n",
       "       [ 6.,  1.,  9.,  6.]])"
      ]
     },
     "execution_count": 233,
     "metadata": {},
     "output_type": "execute_result"
    }
   ],
   "source": [
    "A"
   ]
  },
  {
   "cell_type": "code",
   "execution_count": 234,
   "id": "881db838-ca1b-4d5a-a95b-415c4080c47a",
   "metadata": {},
   "outputs": [
    {
     "data": {
      "text/plain": [
       "np.float64(10.0)"
      ]
     },
     "execution_count": 234,
     "metadata": {},
     "output_type": "execute_result"
    }
   ],
   "source": [
    "A[1,2]"
   ]
  },
  {
   "cell_type": "code",
   "execution_count": 238,
   "id": "9910ea26-1a0b-4ef0-ac76-86647d028a30",
   "metadata": {},
   "outputs": [
    {
     "data": {
      "text/plain": [
       "array([9., 3., 2., 5., 6.])"
      ]
     },
     "execution_count": 238,
     "metadata": {},
     "output_type": "execute_result"
    }
   ],
   "source": [
    "A[: , -1]"
   ]
  },
  {
   "cell_type": "markdown",
   "id": "8b3db5e9-4d07-41a6-8fa8-14b77744bb8f",
   "metadata": {},
   "source": [
    "]"
   ]
  },
  {
   "cell_type": "code",
   "execution_count": 241,
   "id": "0e169c69-1e85-48bf-b162-f9ec842fbf0b",
   "metadata": {},
   "outputs": [
    {
     "data": {
      "text/plain": [
       "array([[10.,  3.],\n",
       "       [ 9.,  2.]])"
      ]
     },
     "execution_count": 241,
     "metadata": {},
     "output_type": "execute_result"
    }
   ],
   "source": [
    "A[1:3 , 2:4]"
   ]
  },
  {
   "cell_type": "code",
   "execution_count": 242,
   "id": "a34d5559-a2aa-4e91-be2e-1392ba807896",
   "metadata": {},
   "outputs": [],
   "source": [
    "import numpy.linalg as la"
   ]
  },
  {
   "cell_type": "code",
   "execution_count": 243,
   "id": "1ea9b550-684c-4995-a301-3d5884707bee",
   "metadata": {},
   "outputs": [
    {
     "data": {
      "text/plain": [
       "array([[ 0.45522106,  2.10018847, -2.65606448],\n",
       "       [ 2.88905343, -0.95657998, -1.56699031],\n",
       "       [-1.01048728, -0.5682119 ,  2.68117653]])"
      ]
     },
     "execution_count": 243,
     "metadata": {},
     "output_type": "execute_result"
    }
   ],
   "source": [
    "la.inv(np.random.rand(3,3))"
   ]
  },
  {
   "cell_type": "code",
   "execution_count": 244,
   "id": "6c266314-54a7-4520-8494-76d0de41b135",
   "metadata": {},
   "outputs": [
    {
     "data": {
      "text/plain": [
       "array([[ 2.,  7.,  1.,  9.],\n",
       "       [ 9.,  8., 10.,  3.],\n",
       "       [ 4.,  3.,  9.,  2.],\n",
       "       [ 1.,  8.,  5.,  5.],\n",
       "       [ 6.,  1.,  9.,  6.]])"
      ]
     },
     "execution_count": 244,
     "metadata": {},
     "output_type": "execute_result"
    }
   ],
   "source": [
    "A "
   ]
  },
  {
   "cell_type": "code",
   "execution_count": 245,
   "id": "9fa8a719-bcb0-4520-818b-fe06488d2ba6",
   "metadata": {},
   "outputs": [
    {
     "data": {
      "text/plain": [
       "\u001b[31mDocstring:\u001b[39m\n",
       "a.sort(axis=-1, kind=None, order=None)\n",
       "\n",
       "Sort an array in-place. Refer to `numpy.sort` for full documentation.\n",
       "\n",
       "Parameters\n",
       "----------\n",
       "axis : int, optional\n",
       "    Axis along which to sort. Default is -1, which means sort along the\n",
       "    last axis.\n",
       "kind : {'quicksort', 'mergesort', 'heapsort', 'stable'}, optional\n",
       "    Sorting algorithm. The default is 'quicksort'. Note that both 'stable'\n",
       "    and 'mergesort' use timsort under the covers and, in general, the\n",
       "    actual implementation will vary with datatype. The 'mergesort' option\n",
       "    is retained for backwards compatibility.\n",
       "order : str or list of str, optional\n",
       "    When `a` is an array with fields defined, this argument specifies\n",
       "    which fields to compare first, second, etc.  A single field can\n",
       "    be specified as a string, and not all fields need be specified,\n",
       "    but unspecified fields will still be used, in the order in which\n",
       "    they come up in the dtype, to break ties.\n",
       "\n",
       "See Also\n",
       "--------\n",
       "numpy.sort : Return a sorted copy of an array.\n",
       "numpy.argsort : Indirect sort.\n",
       "numpy.lexsort : Indirect stable sort on multiple keys.\n",
       "numpy.searchsorted : Find elements in sorted array.\n",
       "numpy.partition: Partial sort.\n",
       "\n",
       "Notes\n",
       "-----\n",
       "See `numpy.sort` for notes on the different sorting algorithms.\n",
       "\n",
       "Examples\n",
       "--------\n",
       ">>> import numpy as np\n",
       ">>> a = np.array([[1,4], [3,1]])\n",
       ">>> a.sort(axis=1)\n",
       ">>> a\n",
       "array([[1, 4],\n",
       "       [1, 3]])\n",
       ">>> a.sort(axis=0)\n",
       ">>> a\n",
       "array([[1, 3],\n",
       "       [1, 4]])\n",
       "\n",
       "Use the `order` keyword to specify a field to use when sorting a\n",
       "structured array:\n",
       "\n",
       ">>> a = np.array([('a', 2), ('c', 1)], dtype=[('x', 'S1'), ('y', int)])\n",
       ">>> a.sort(order='y')\n",
       ">>> a\n",
       "array([(b'c', 1), (b'a', 2)],\n",
       "      dtype=[('x', 'S1'), ('y', '<i8')])\n",
       "\u001b[31mType:\u001b[39m      builtin_function_or_method"
      ]
     },
     "metadata": {},
     "output_type": "display_data"
    }
   ],
   "source": [
    "A.sort?"
   ]
  },
  {
   "cell_type": "code",
   "execution_count": 246,
   "id": "6a145f1a-e560-4ae9-a7d2-bda6d2014ac4",
   "metadata": {},
   "outputs": [],
   "source": [
    "A.sort(axis=1)"
   ]
  },
  {
   "cell_type": "code",
   "execution_count": 247,
   "id": "fc6318e0-cbfd-457d-97d6-4c27999703aa",
   "metadata": {},
   "outputs": [
    {
     "data": {
      "text/plain": [
       "array([[ 1.,  2.,  7.,  9.],\n",
       "       [ 3.,  8.,  9., 10.],\n",
       "       [ 2.,  3.,  4.,  9.],\n",
       "       [ 1.,  5.,  5.,  8.],\n",
       "       [ 1.,  6.,  6.,  9.]])"
      ]
     },
     "execution_count": 247,
     "metadata": {},
     "output_type": "execute_result"
    }
   ],
   "source": [
    "A"
   ]
  },
  {
   "cell_type": "code",
   "execution_count": 248,
   "id": "01a5dbc6-9894-4a0d-9491-532272a9b1c3",
   "metadata": {},
   "outputs": [
    {
     "data": {
      "text/plain": [
       "array([[ 1.,  2.,  7.,  9.],\n",
       "       [ 3.,  8.,  9., 10.],\n",
       "       [ 2.,  3.,  4.,  9.],\n",
       "       [ 1.,  5.,  5.,  8.],\n",
       "       [ 1.,  6.,  6.,  9.]])"
      ]
     },
     "execution_count": 248,
     "metadata": {},
     "output_type": "execute_result"
    }
   ],
   "source": [
    "A"
   ]
  },
  {
   "cell_type": "code",
   "execution_count": 254,
   "id": "b0f8a2f0-0aca-4055-b97c-115eed4f587a",
   "metadata": {},
   "outputs": [],
   "source": [
    "A.sort(axis= 1)"
   ]
  },
  {
   "cell_type": "code",
   "execution_count": 252,
   "id": "be8072b2-c3ac-4ed1-8bfc-d5f57a1d38c6",
   "metadata": {},
   "outputs": [
    {
     "data": {
      "text/plain": [
       "array([[ 1.,  2.,  7.,  9.],\n",
       "       [ 3.,  8.,  9., 10.],\n",
       "       [ 2.,  3.,  4.,  9.],\n",
       "       [ 1.,  5.,  5.,  8.],\n",
       "       [ 1.,  6.,  6.,  9.]])"
      ]
     },
     "execution_count": 252,
     "metadata": {},
     "output_type": "execute_result"
    }
   ],
   "source": [
    "A"
   ]
  },
  {
   "cell_type": "code",
   "execution_count": null,
   "id": "06563af7-5d4c-4e81-b955-b2e055a56f4d",
   "metadata": {},
   "outputs": [],
   "source": []
  }
 ],
 "metadata": {
  "kernelspec": {
   "display_name": "Python 3 (ipykernel)",
   "language": "python",
   "name": "python3"
  },
  "language_info": {
   "codemirror_mode": {
    "name": "ipython",
    "version": 3
   },
   "file_extension": ".py",
   "mimetype": "text/x-python",
   "name": "python",
   "nbconvert_exporter": "python",
   "pygments_lexer": "ipython3",
   "version": "3.13.5"
  }
 },
 "nbformat": 4,
 "nbformat_minor": 5
}
